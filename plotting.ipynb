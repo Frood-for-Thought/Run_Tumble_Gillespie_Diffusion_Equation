{
 "cells": [
  {
   "cell_type": "code",
   "execution_count": 1,
   "metadata": {},
   "outputs": [
    {
     "name": "stderr",
     "output_type": "stream",
     "text": [
      "c:\\Users\\Mike\\anaconda3\\lib\\site-packages\\scipy\\__init__.py:146: UserWarning: A NumPy version >=1.16.5 and <1.23.0 is required for this version of SciPy (detected version 1.26.4\n",
      "  warnings.warn(f\"A NumPy version >={np_minversion} and <{np_maxversion}\"\n"
     ]
    }
   ],
   "source": [
    "import numpy as np\n",
    "import scipy as sp\n",
    "import pandas as pd\n",
    "import matplotlib.pyplot as plt\n",
    "import plotly.graph_objs as go\n",
    "import seaborn as sns"
   ]
  },
  {
   "cell_type": "code",
   "execution_count": 2,
   "metadata": {},
   "outputs": [
    {
     "data": {
      "text/html": [
       "<div>\n",
       "<style scoped>\n",
       "    .dataframe tbody tr th:only-of-type {\n",
       "        vertical-align: middle;\n",
       "    }\n",
       "\n",
       "    .dataframe tbody tr th {\n",
       "        vertical-align: top;\n",
       "    }\n",
       "\n",
       "    .dataframe thead th {\n",
       "        text-align: right;\n",
       "    }\n",
       "</style>\n",
       "<table border=\"1\" class=\"dataframe\">\n",
       "  <thead>\n",
       "    <tr style=\"text-align: right;\">\n",
       "      <th></th>\n",
       "      <th>Position</th>\n",
       "      <th>Alpha</th>\n",
       "      <th>Theory_Vel</th>\n",
       "      <th>Calc_Velocity</th>\n",
       "      <th>Vel_Percent_Error</th>\n",
       "      <th>Loss</th>\n",
       "      <th>Prob_Tum_Up</th>\n",
       "      <th>Prob_Tum_Down</th>\n",
       "      <th>Alpha_Curve_Fit</th>\n",
       "    </tr>\n",
       "  </thead>\n",
       "  <tbody>\n",
       "    <tr>\n",
       "      <th>0</th>\n",
       "      <td>1</td>\n",
       "      <td>NaN</td>\n",
       "      <td>0.068255</td>\n",
       "      <td>NaN</td>\n",
       "      <td>NaN</td>\n",
       "      <td>NaN</td>\n",
       "      <td>NaN</td>\n",
       "      <td>NaN</td>\n",
       "      <td>8008.828876</td>\n",
       "    </tr>\n",
       "    <tr>\n",
       "      <th>1</th>\n",
       "      <td>2</td>\n",
       "      <td>NaN</td>\n",
       "      <td>0.077261</td>\n",
       "      <td>NaN</td>\n",
       "      <td>NaN</td>\n",
       "      <td>NaN</td>\n",
       "      <td>NaN</td>\n",
       "      <td>NaN</td>\n",
       "      <td>8742.684605</td>\n",
       "    </tr>\n",
       "    <tr>\n",
       "      <th>2</th>\n",
       "      <td>3</td>\n",
       "      <td>9164.660006</td>\n",
       "      <td>0.087437</td>\n",
       "      <td>0.081245</td>\n",
       "      <td>0.070815</td>\n",
       "      <td>0.265604</td>\n",
       "      <td>0.031061</td>\n",
       "      <td>0.031639</td>\n",
       "      <td>9164.660006</td>\n",
       "    </tr>\n",
       "    <tr>\n",
       "      <th>3</th>\n",
       "      <td>4</td>\n",
       "      <td>9147.692558</td>\n",
       "      <td>0.098930</td>\n",
       "      <td>0.103805</td>\n",
       "      <td>0.049277</td>\n",
       "      <td>0.288612</td>\n",
       "      <td>0.030975</td>\n",
       "      <td>0.031726</td>\n",
       "      <td>9147.692558</td>\n",
       "    </tr>\n",
       "    <tr>\n",
       "      <th>4</th>\n",
       "      <td>5</td>\n",
       "      <td>8564.719743</td>\n",
       "      <td>0.111902</td>\n",
       "      <td>0.117605</td>\n",
       "      <td>0.050958</td>\n",
       "      <td>0.293818</td>\n",
       "      <td>0.030905</td>\n",
       "      <td>0.031798</td>\n",
       "      <td>8564.719743</td>\n",
       "    </tr>\n",
       "    <tr>\n",
       "      <th>5</th>\n",
       "      <td>6</td>\n",
       "      <td>7486.818088</td>\n",
       "      <td>0.126537</td>\n",
       "      <td>0.127603</td>\n",
       "      <td>0.008422</td>\n",
       "      <td>0.294943</td>\n",
       "      <td>0.030852</td>\n",
       "      <td>0.031853</td>\n",
       "      <td>7486.818088</td>\n",
       "    </tr>\n",
       "    <tr>\n",
       "      <th>6</th>\n",
       "      <td>7</td>\n",
       "      <td>6575.164433</td>\n",
       "      <td>0.143037</td>\n",
       "      <td>0.143312</td>\n",
       "      <td>0.001920</td>\n",
       "      <td>0.289016</td>\n",
       "      <td>0.030792</td>\n",
       "      <td>0.031915</td>\n",
       "      <td>6575.164433</td>\n",
       "    </tr>\n",
       "    <tr>\n",
       "      <th>7</th>\n",
       "      <td>8</td>\n",
       "      <td>5858.040817</td>\n",
       "      <td>0.161625</td>\n",
       "      <td>0.167260</td>\n",
       "      <td>0.034859</td>\n",
       "      <td>0.293044</td>\n",
       "      <td>0.030716</td>\n",
       "      <td>0.031995</td>\n",
       "      <td>5858.040817</td>\n",
       "    </tr>\n",
       "    <tr>\n",
       "      <th>8</th>\n",
       "      <td>9</td>\n",
       "      <td>5164.492449</td>\n",
       "      <td>0.182549</td>\n",
       "      <td>0.178720</td>\n",
       "      <td>0.020979</td>\n",
       "      <td>0.292669</td>\n",
       "      <td>0.030640</td>\n",
       "      <td>0.032074</td>\n",
       "      <td>5164.492449</td>\n",
       "    </tr>\n",
       "    <tr>\n",
       "      <th>9</th>\n",
       "      <td>10</td>\n",
       "      <td>4572.080652</td>\n",
       "      <td>0.206080</td>\n",
       "      <td>0.190878</td>\n",
       "      <td>0.073766</td>\n",
       "      <td>0.295085</td>\n",
       "      <td>0.030543</td>\n",
       "      <td>0.032176</td>\n",
       "      <td>4572.080652</td>\n",
       "    </tr>\n",
       "  </tbody>\n",
       "</table>\n",
       "</div>"
      ],
      "text/plain": [
       "   Position        Alpha  Theory_Vel  Calc_Velocity  Vel_Percent_Error  \\\n",
       "0         1          NaN    0.068255            NaN                NaN   \n",
       "1         2          NaN    0.077261            NaN                NaN   \n",
       "2         3  9164.660006    0.087437       0.081245           0.070815   \n",
       "3         4  9147.692558    0.098930       0.103805           0.049277   \n",
       "4         5  8564.719743    0.111902       0.117605           0.050958   \n",
       "5         6  7486.818088    0.126537       0.127603           0.008422   \n",
       "6         7  6575.164433    0.143037       0.143312           0.001920   \n",
       "7         8  5858.040817    0.161625       0.167260           0.034859   \n",
       "8         9  5164.492449    0.182549       0.178720           0.020979   \n",
       "9        10  4572.080652    0.206080       0.190878           0.073766   \n",
       "\n",
       "       Loss  Prob_Tum_Up  Prob_Tum_Down  Alpha_Curve_Fit  \n",
       "0       NaN          NaN            NaN      8008.828876  \n",
       "1       NaN          NaN            NaN      8742.684605  \n",
       "2  0.265604     0.031061       0.031639      9164.660006  \n",
       "3  0.288612     0.030975       0.031726      9147.692558  \n",
       "4  0.293818     0.030905       0.031798      8564.719743  \n",
       "5  0.294943     0.030852       0.031853      7486.818088  \n",
       "6  0.289016     0.030792       0.031915      6575.164433  \n",
       "7  0.293044     0.030716       0.031995      5858.040817  \n",
       "8  0.292669     0.030640       0.032074      5164.492449  \n",
       "9  0.295085     0.030543       0.032176      4572.080652  "
      ]
     },
     "execution_count": 2,
     "metadata": {},
     "output_type": "execute_result"
    }
   ],
   "source": [
    "curve_fit_df = pd.read_excel('closest_alpha_pos_1_to_101_MaxC_60000_Grad_0.000405.xlsx')\n",
    "curve_fit_df.head(10)"
   ]
  },
  {
   "cell_type": "code",
   "execution_count": 3,
   "metadata": {},
   "outputs": [
    {
     "data": {
      "text/html": [
       "<div>\n",
       "<style scoped>\n",
       "    .dataframe tbody tr th:only-of-type {\n",
       "        vertical-align: middle;\n",
       "    }\n",
       "\n",
       "    .dataframe tbody tr th {\n",
       "        vertical-align: top;\n",
       "    }\n",
       "\n",
       "    .dataframe thead th {\n",
       "        text-align: right;\n",
       "    }\n",
       "</style>\n",
       "<table border=\"1\" class=\"dataframe\">\n",
       "  <thead>\n",
       "    <tr style=\"text-align: right;\">\n",
       "      <th></th>\n",
       "      <th>food_conc</th>\n",
       "      <th>drift_velocity</th>\n",
       "      <th>c_x_df_l_dc</th>\n",
       "      <th>attr_time_roc</th>\n",
       "      <th>Vo_max</th>\n",
       "      <th>Row Number</th>\n",
       "    </tr>\n",
       "  </thead>\n",
       "  <tbody>\n",
       "    <tr>\n",
       "      <th>0</th>\n",
       "      <td>0.211633</td>\n",
       "      <td>0.068255</td>\n",
       "      <td>0.022403</td>\n",
       "      <td>6.192934e-07</td>\n",
       "      <td>12.521185</td>\n",
       "      <td>1</td>\n",
       "    </tr>\n",
       "    <tr>\n",
       "      <th>1</th>\n",
       "      <td>0.239944</td>\n",
       "      <td>0.077261</td>\n",
       "      <td>0.025359</td>\n",
       "      <td>7.935055e-07</td>\n",
       "      <td>12.521185</td>\n",
       "      <td>2</td>\n",
       "    </tr>\n",
       "    <tr>\n",
       "      <th>2</th>\n",
       "      <td>0.272042</td>\n",
       "      <td>0.087437</td>\n",
       "      <td>0.028699</td>\n",
       "      <td>1.016293e-06</td>\n",
       "      <td>12.521185</td>\n",
       "      <td>3</td>\n",
       "    </tr>\n",
       "    <tr>\n",
       "      <th>3</th>\n",
       "      <td>0.308433</td>\n",
       "      <td>0.098930</td>\n",
       "      <td>0.032471</td>\n",
       "      <td>1.301007e-06</td>\n",
       "      <td>12.521185</td>\n",
       "      <td>4</td>\n",
       "    </tr>\n",
       "    <tr>\n",
       "      <th>4</th>\n",
       "      <td>0.349693</td>\n",
       "      <td>0.111902</td>\n",
       "      <td>0.036729</td>\n",
       "      <td>1.664580e-06</td>\n",
       "      <td>12.521185</td>\n",
       "      <td>5</td>\n",
       "    </tr>\n",
       "  </tbody>\n",
       "</table>\n",
       "</div>"
      ],
      "text/plain": [
       "   food_conc  drift_velocity  c_x_df_l_dc  attr_time_roc     Vo_max  \\\n",
       "0   0.211633        0.068255     0.022403   6.192934e-07  12.521185   \n",
       "1   0.239944        0.077261     0.025359   7.935055e-07  12.521185   \n",
       "2   0.272042        0.087437     0.028699   1.016293e-06  12.521185   \n",
       "3   0.308433        0.098930     0.032471   1.301007e-06  12.521185   \n",
       "4   0.349693        0.111902     0.036729   1.664580e-06  12.521185   \n",
       "\n",
       "   Row Number  \n",
       "0           1  \n",
       "1           2  \n",
       "2           3  \n",
       "3           4  \n",
       "4           5  "
      ]
     },
     "execution_count": 3,
     "metadata": {},
     "output_type": "execute_result"
    }
   ],
   "source": [
    "input_param_df = pd.read_excel('input_parameters.xlsx')\n",
    "input_param_df.head()"
   ]
  },
  {
   "cell_type": "code",
   "execution_count": 60,
   "metadata": {},
   "outputs": [],
   "source": [
    "alpha_df_l_dC = curve_fit_df.Alpha_Curve_Fit*input_param_df.attr_time_roc\n",
    "# sin_h_func = lambda x: np.sinh(x)\n",
    "sinh_a_df_l_dC = list(map(np.sinh, alpha_df_l_dC))\n",
    "sinh_a_df_l_dC = pd.Series((sinh_a_df_l_dC))"
   ]
  },
  {
   "cell_type": "code",
   "execution_count": 61,
   "metadata": {},
   "outputs": [
    {
     "data": {
      "text/plain": [
       "<Figure size 640x480 with 0 Axes>"
      ]
     },
     "metadata": {},
     "output_type": "display_data"
    },
    {
     "data": {
      "image/png": "[encoded data removed]",
      "text/plain": [
       "<Figure size 640x480 with 4 Axes>"
      ]
     },
     "metadata": {},
     "output_type": "display_data"
    }
   ],
   "source": [
    "plt.clf()\n",
    "\n",
    "fig, ax = plt.subplots(nrows=4)\n",
    "\n",
    "ax[0].plot(curve_fit_df['Alpha_Curve_Fit'])\n",
    "ax[0].set_title('Alpha') \n",
    "\n",
    "ax[1].plot(input_param_df['attr_time_roc'])\n",
    "ax[1].set_title('Time Rate of Change of Attractant') \n",
    "\n",
    "ax[2].plot(alpha_df_l_dC)\n",
    "ax[2].set_title('Alpha*Time_ROC') \n",
    "\n",
    "ax[3].plot(sinh_a_df_l_dC)\n",
    "ax[3].set_title('sinh(Alpha*Time_ROC)') \n",
    "fig.tight_layout()"
   ]
  },
  {
   "attachments": {
    "image-2.png": {
     "image/png": "[encoded data removed]"
    },
    "image.png": {
     "image/png": "[encoded data removed]"
    }
   },
   "cell_type": "markdown",
   "metadata": {},
   "source": [
    "Using the Taoylor Series, sinh(x) = x + x^3/3! + ...\n",
    "So the approximation can be made where sinh(x) ~ x, because Alpha*Time_ROC is so small.\n",
    "\n",
    "![image.png](attachment:image.png)\n",
    "\n",
    "In the constant τ can now be determined:\n",
    "\n",
    "![image-2.png](attachment:image-2.png)"
   ]
  },
  {
   "cell_type": "code",
   "execution_count": 5,
   "metadata": {},
   "outputs": [
    {
     "data": {
      "application/vnd.plotly.v1+json": {
       "config": {
        "plotlyServerURL": "https://plot.ly"
       },
       "data": [
        {
         "mode": "markers",
         "name": "Calculated Ave. Velocity",
         "type": "scatter",
         "x": [
          1,
          2,
          3,
          4,
          5,
          6,
          7,
          8,
          9,
          10,
          11,
          12,
          13,
          14,
          15,
          16,
          17,
          18,
          19,
          20,
          21,
          22,
          23,
          24,
          25,
          26,
          27,
          28,
          29,
          30,
          31,
          32,
          33,
          34,
          35,
          36,
          37,
          38,
          39,
          40,
          41,
          42,
          43,
          44,
          45,
          46,
          47,
          48,
          49,
          50,
          51,
          52,
          53,
          54,
          55,
          56,
          57,
          58,
          59,
          60,
          61,
          62,
          63,
          64,
          65,
          66,
          67,
          68,
          69,
          70,
          71,
          72,
          73,
          74,
          75,
          76,
          77,
          78,
          79,
          80,
          81,
          82,
          83,
          84,
          85,
          86,
          87,
          88,
          89,
          90,
          91,
          92,
          93,
          94,
          95,
          96,
          97,
          98,
          99,
          100,
          101
         ],
         "y": [
          null,
          null,
          0.08124542846054456,
          0.10380472061717627,
          0.11760475704765817,
          0.12760312908826396,
          0.14331179177003484,
          0.16725965313888658,
          0.1787196548863495,
          0.1908784827038754,
          0.23179005308425457,
          0.25289903825275317,
          0.2971482779119116,
          0.31996743243928627,
          0.38406357110210165,
          0.42575728476491254,
          0.46521227151567307,
          0.5285928429341484,
          0.5959550242763583,
          0.6640353567563361,
          0.7417234900508962,
          0.824978354899,
          0.9177470611255688,
          1.0193420938177207,
          1.128134164272827,
          1.2382784658806585,
          1.369176873892578,
          1.5108612612630195,
          1.6332121619872608,
          1.7901649974432012,
          1.949603811847388,
          2.113126544787015,
          2.2700760863946625,
          2.4363831716429156,
          2.6110026080994446,
          2.7706653423397962,
          2.9249990283119143,
          3.0952811478736986,
          3.2502893760114375,
          3.40217413634095,
          3.541859839033239,
          3.667777103485112,
          3.77764101685197,
          3.885426956305157,
          3.9766480192912703,
          4.037978344062905,
          4.098528155362305,
          4.133797984620596,
          4.1509627539433485,
          4.15339782497576,
          4.14014761454001,
          4.113498983075601,
          4.067216166139538,
          4.001314097145711,
          3.9254132277885256,
          3.836404864571026,
          3.727490398276566,
          3.6115113045127236,
          3.4595765037152546,
          3.322222097064976,
          3.193716350917418,
          3.0279049876367603,
          2.8696689953827654,
          2.706030569502526,
          2.546496059449686,
          2.39452080438255,
          2.230178956801854,
          2.0925397587682624,
          1.9453093290316428,
          1.8085522474855174,
          1.680811177023771,
          1.563891850161571,
          1.4656333316419248,
          1.3688305577688387,
          1.2883489462847122,
          1.212361928337674,
          1.1604307889464236,
          1.1148306786076716,
          1.0753323276674407,
          1.0612269655092614,
          1.0618479855448426,
          1.0602863555148205,
          1.0733941814392163,
          1.1117696292342767,
          1.1442263833457051,
          1.2037458406854247,
          1.2862784558310882,
          1.3863196351451919,
          1.4823063018889968,
          1.6036502840083453,
          1.737303342757336,
          1.8824112036507226,
          2.066198527909311,
          2.246208558014426,
          2.4505618821328716,
          2.662412585779861,
          2.8937216731151576,
          3.1231589215514632,
          3.3934083906093457,
          3.6396045767071725,
          null
         ]
        },
        {
         "mode": "lines",
         "name": "Theoretical Velocity",
         "type": "scatter",
         "x": [
          1,
          2,
          3,
          4,
          5,
          6,
          7,
          8,
          9,
          10,
          11,
          12,
          13,
          14,
          15,
          16,
          17,
          18,
          19,
          20,
          21,
          22,
          23,
          24,
          25,
          26,
          27,
          28,
          29,
          30,
          31,
          32,
          33,
          34,
          35,
          36,
          37,
          38,
          39,
          40,
          41,
          42,
          43,
          44,
          45,
          46,
          47,
          48,
          49,
          50,
          51,
          52,
          53,
          54,
          55,
          56,
          57,
          58,
          59,
          60,
          61,
          62,
          63,
          64,
          65,
          66,
          67,
          68,
          69,
          70,
          71,
          72,
          73,
          74,
          75,
          76,
          77,
          78,
          79,
          80,
          81,
          82,
          83,
          84,
          85,
          86,
          87,
          88,
          89,
          90,
          91,
          92,
          93,
          94,
          95,
          96,
          97,
          98,
          99,
          100,
          101
         ],
         "y": [
          0.06825513864538493,
          0.07726131281150009,
          0.08743726846286977,
          0.09892973973507915,
          0.11190241302283266,
          0.12653747766179152,
          0.1430371998076277,
          0.1616254787212342,
          0.1825493302612313,
          0.20608022489221053,
          0.23251518669686463,
          0.26217753565747115,
          0.2954171280494804,
          0.33260991979033727,
          0.37415664623331946,
          0.4204803812220419,
          0.472022711293718,
          0.5292382420482533,
          0.5925871485772655,
          0.6625254975359989,
          0.7394931131149063,
          0.8238988414673979,
          0.9161031960416013,
          1.016398545310398,
          1.1249872354644443,
          1.241958317237574,
          1.3672638517295403,
          1.5006960766752517,
          1.641866982058007,
          1.7901920231041129,
          1.9448797373273856,
          2.1049288847290835,
          2.2691343691356787,
          2.4361026265296735,
          2.6042764235395377,
          2.771968175131601,
          2.9374000741530795,
          3.098748648030499,
          3.254190929325451,
          3.4019493212427236,
          3.540332478193541,
          3.667770068663991,
          3.7828400562592615,
          3.8842880068268175,
          3.97103877963617,
          4.042201678792578,
          4.097070649025869,
          4.135121357818102,
          4.15600701030269,
          4.15955452031555,
          4.145762255397092,
          4.114800040633194,
          4.067011505252216,
          4.0029182471614675,
          3.9232247344705553,
          3.828822419222706,
          3.7207912637402605,
          3.600396822569884,
          3.4690812147100005,
          3.328446766773975,
          3.1802317779983493,
          3.026278683799099,
          2.8684957729033598,
          2.7088144205075464,
          2.5491444140341093,
          2.3913302718645757,
          2.237111438067684,
          2.088088884036238,
          1.9457000227727637,
          1.8112030457153263,
          1.6856709458472734,
          1.5699947083189207,
          1.464894518558977,
          1.370937408023018,
          1.2885595404939398,
          1.2180913158537048,
          1.159783590634661,
          1.1138335331765694,
          1.080408894578666,
          1.059669741704262,
          1.0517869339683252,
          1.0569568128510942,
          1.07541170486434,
          1.1074259172919776,
          1.1533169408215362,
          1.2134415787506807,
          1.2881867170623782,
          1.3779544541977093,
          1.483141346406213,
          1.6041116173303904,
          1.741164351173744,
          1.8944949560389976,
          2.0641515592264708,
          2.249987478987735,
          2.451611489865392,
          2.668338221910707,
          2.8991416438778357,
          3.142615090026107,
          3.396941596840962,
          3.659878315956025,
          null
         ],
         "yaxis": "y2"
        }
       ],
       "layout": {
        "template": {
         "data": {
          "bar": [
           {
            "error_x": {
             "color": "#2a3f5f"
            },
            "error_y": {
             "color": "#2a3f5f"
            },
            "marker": {
             "line": {
              "color": "#E5ECF6",
              "width": 0.5
             },
             "pattern": {
              "fillmode": "overlay",
              "size": 10,
              "solidity": 0.2
             }
            },
            "type": "bar"
           }
          ],
          "barpolar": [
           {
            "marker": {
             "line": {
              "color": "#E5ECF6",
              "width": 0.5
             },
             "pattern": {
              "fillmode": "overlay",
              "size": 10,
              "solidity": 0.2
             }
            },
            "type": "barpolar"
           }
          ],
          "carpet": [
           {
            "aaxis": {
             "endlinecolor": "#2a3f5f",
             "gridcolor": "white",
             "linecolor": "white",
             "minorgridcolor": "white",
             "startlinecolor": "#2a3f5f"
            },
            "baxis": {
             "endlinecolor": "#2a3f5f",
             "gridcolor": "white",
             "linecolor": "white",
             "minorgridcolor": "white",
             "startlinecolor": "#2a3f5f"
            },
            "type": "carpet"
           }
          ],
          "choropleth": [
           {
            "colorbar": {
             "outlinewidth": 0,
             "ticks": ""
            },
            "type": "choropleth"
           }
          ],
          "contour": [
           {
            "colorbar": {
             "outlinewidth": 0,
             "ticks": ""
            },
            "colorscale": [
             [
              0,
              "#0d0887"
             ],
             [
              0.1111111111111111,
              "#46039f"
             ],
             [
              0.2222222222222222,
              "#7201a8"
             ],
             [
              0.3333333333333333,
              "#9c179e"
             ],
             [
              0.4444444444444444,
              "#bd3786"
             ],
             [
              0.5555555555555556,
              "#d8576b"
             ],
             [
              0.6666666666666666,
              "#ed7953"
             ],
             [
              0.7777777777777778,
              "#fb9f3a"
             ],
             [
              0.8888888888888888,
              "#fdca26"
             ],
             [
              1,
              "#f0f921"
             ]
            ],
            "type": "contour"
           }
          ],
          "contourcarpet": [
           {
            "colorbar": {
             "outlinewidth": 0,
             "ticks": ""
            },
            "type": "contourcarpet"
           }
          ],
          "heatmap": [
           {
            "colorbar": {
             "outlinewidth": 0,
             "ticks": ""
            },
            "colorscale": [
             [
              0,
              "#0d0887"
             ],
             [
              0.1111111111111111,
              "#46039f"
             ],
             [
              0.2222222222222222,
              "#7201a8"
             ],
             [
              0.3333333333333333,
              "#9c179e"
             ],
             [
              0.4444444444444444,
              "#bd3786"
             ],
             [
              0.5555555555555556,
              "#d8576b"
             ],
             [
              0.6666666666666666,
              "#ed7953"
             ],
             [
              0.7777777777777778,
              "#fb9f3a"
             ],
             [
              0.8888888888888888,
              "#fdca26"
             ],
             [
              1,
              "#f0f921"
             ]
            ],
            "type": "heatmap"
           }
          ],
          "heatmapgl": [
           {
            "colorbar": {
             "outlinewidth": 0,
             "ticks": ""
            },
            "colorscale": [
             [
              0,
              "#0d0887"
             ],
             [
              0.1111111111111111,
              "#46039f"
             ],
             [
              0.2222222222222222,
              "#7201a8"
             ],
             [
              0.3333333333333333,
              "#9c179e"
             ],
             [
              0.4444444444444444,
              "#bd3786"
             ],
             [
              0.5555555555555556,
              "#d8576b"
             ],
             [
              0.6666666666666666,
              "#ed7953"
             ],
             [
              0.7777777777777778,
              "#fb9f3a"
             ],
             [
              0.8888888888888888,
              "#fdca26"
             ],
             [
              1,
              "#f0f921"
             ]
            ],
            "type": "heatmapgl"
           }
          ],
          "histogram": [
           {
            "marker": {
             "pattern": {
              "fillmode": "overlay",
              "size": 10,
              "solidity": 0.2
             }
            },
            "type": "histogram"
           }
          ],
          "histogram2d": [
           {
            "colorbar": {
             "outlinewidth": 0,
             "ticks": ""
            },
            "colorscale": [
             [
              0,
              "#0d0887"
             ],
             [
              0.1111111111111111,
              "#46039f"
             ],
             [
              0.2222222222222222,
              "#7201a8"
             ],
             [
              0.3333333333333333,
              "#9c179e"
             ],
             [
              0.4444444444444444,
              "#bd3786"
             ],
             [
              0.5555555555555556,
              "#d8576b"
             ],
             [
              0.6666666666666666,
              "#ed7953"
             ],
             [
              0.7777777777777778,
              "#fb9f3a"
             ],
             [
              0.8888888888888888,
              "#fdca26"
             ],
             [
              1,
              "#f0f921"
             ]
            ],
            "type": "histogram2d"
           }
          ],
          "histogram2dcontour": [
           {
            "colorbar": {
             "outlinewidth": 0,
             "ticks": ""
            },
            "colorscale": [
             [
              0,
              "#0d0887"
             ],
             [
              0.1111111111111111,
              "#46039f"
             ],
             [
              0.2222222222222222,
              "#7201a8"
             ],
             [
              0.3333333333333333,
              "#9c179e"
             ],
             [
              0.4444444444444444,
              "#bd3786"
             ],
             [
              0.5555555555555556,
              "#d8576b"
             ],
             [
              0.6666666666666666,
              "#ed7953"
             ],
             [
              0.7777777777777778,
              "#fb9f3a"
             ],
             [
              0.8888888888888888,
              "#fdca26"
             ],
             [
              1,
              "#f0f921"
             ]
            ],
            "type": "histogram2dcontour"
           }
          ],
          "mesh3d": [
           {
            "colorbar": {
             "outlinewidth": 0,
             "ticks": ""
            },
            "type": "mesh3d"
           }
          ],
          "parcoords": [
           {
            "line": {
             "colorbar": {
              "outlinewidth": 0,
              "ticks": ""
             }
            },
            "type": "parcoords"
           }
          ],
          "pie": [
           {
            "automargin": true,
            "type": "pie"
           }
          ],
          "scatter": [
           {
            "fillpattern": {
             "fillmode": "overlay",
             "size": 10,
             "solidity": 0.2
            },
            "type": "scatter"
           }
          ],
          "scatter3d": [
           {
            "line": {
             "colorbar": {
              "outlinewidth": 0,
              "ticks": ""
             }
            },
            "marker": {
             "colorbar": {
              "outlinewidth": 0,
              "ticks": ""
             }
            },
            "type": "scatter3d"
           }
          ],
          "scattercarpet": [
           {
            "marker": {
             "colorbar": {
              "outlinewidth": 0,
              "ticks": ""
             }
            },
            "type": "scattercarpet"
           }
          ],
          "scattergeo": [
           {
            "marker": {
             "colorbar": {
              "outlinewidth": 0,
              "ticks": ""
             }
            },
            "type": "scattergeo"
           }
          ],
          "scattergl": [
           {
            "marker": {
             "colorbar": {
              "outlinewidth": 0,
              "ticks": ""
             }
            },
            "type": "scattergl"
           }
          ],
          "scattermapbox": [
           {
            "marker": {
             "colorbar": {
              "outlinewidth": 0,
              "ticks": ""
             }
            },
            "type": "scattermapbox"
           }
          ],
          "scatterpolar": [
           {
            "marker": {
             "colorbar": {
              "outlinewidth": 0,
              "ticks": ""
             }
            },
            "type": "scatterpolar"
           }
          ],
          "scatterpolargl": [
           {
            "marker": {
             "colorbar": {
              "outlinewidth": 0,
              "ticks": ""
             }
            },
            "type": "scatterpolargl"
           }
          ],
          "scatterternary": [
           {
            "marker": {
             "colorbar": {
              "outlinewidth": 0,
              "ticks": ""
             }
            },
            "type": "scatterternary"
           }
          ],
          "surface": [
           {
            "colorbar": {
             "outlinewidth": 0,
             "ticks": ""
            },
            "colorscale": [
             [
              0,
              "#0d0887"
             ],
             [
              0.1111111111111111,
              "#46039f"
             ],
             [
              0.2222222222222222,
              "#7201a8"
             ],
             [
              0.3333333333333333,
              "#9c179e"
             ],
             [
              0.4444444444444444,
              "#bd3786"
             ],
             [
              0.5555555555555556,
              "#d8576b"
             ],
             [
              0.6666666666666666,
              "#ed7953"
             ],
             [
              0.7777777777777778,
              "#fb9f3a"
             ],
             [
              0.8888888888888888,
              "#fdca26"
             ],
             [
              1,
              "#f0f921"
             ]
            ],
            "type": "surface"
           }
          ],
          "table": [
           {
            "cells": {
             "fill": {
              "color": "#EBF0F8"
             },
             "line": {
              "color": "white"
             }
            },
            "header": {
             "fill": {
              "color": "#C8D4E3"
             },
             "line": {
              "color": "white"
             }
            },
            "type": "table"
           }
          ]
         },
         "layout": {
          "annotationdefaults": {
           "arrowcolor": "#2a3f5f",
           "arrowhead": 0,
           "arrowwidth": 1
          },
          "autotypenumbers": "strict",
          "coloraxis": {
           "colorbar": {
            "outlinewidth": 0,
            "ticks": ""
           }
          },
          "colorscale": {
           "diverging": [
            [
             0,
             "#8e0152"
            ],
            [
             0.1,
             "#c51b7d"
            ],
            [
             0.2,
             "#de77ae"
            ],
            [
             0.3,
             "#f1b6da"
            ],
            [
             0.4,
             "#fde0ef"
            ],
            [
             0.5,
             "#f7f7f7"
            ],
            [
             0.6,
             "#e6f5d0"
            ],
            [
             0.7,
             "#b8e186"
            ],
            [
             0.8,
             "#7fbc41"
            ],
            [
             0.9,
             "#4d9221"
            ],
            [
             1,
             "#276419"
            ]
           ],
           "sequential": [
            [
             0,
             "#0d0887"
            ],
            [
             0.1111111111111111,
             "#46039f"
            ],
            [
             0.2222222222222222,
             "#7201a8"
            ],
            [
             0.3333333333333333,
             "#9c179e"
            ],
            [
             0.4444444444444444,
             "#bd3786"
            ],
            [
             0.5555555555555556,
             "#d8576b"
            ],
            [
             0.6666666666666666,
             "#ed7953"
            ],
            [
             0.7777777777777778,
             "#fb9f3a"
            ],
            [
             0.8888888888888888,
             "#fdca26"
            ],
            [
             1,
             "#f0f921"
            ]
           ],
           "sequentialminus": [
            [
             0,
             "#0d0887"
            ],
            [
             0.1111111111111111,
             "#46039f"
            ],
            [
             0.2222222222222222,
             "#7201a8"
            ],
            [
             0.3333333333333333,
             "#9c179e"
            ],
            [
             0.4444444444444444,
             "#bd3786"
            ],
            [
             0.5555555555555556,
             "#d8576b"
            ],
            [
             0.6666666666666666,
             "#ed7953"
            ],
            [
             0.7777777777777778,
             "#fb9f3a"
            ],
            [
             0.8888888888888888,
             "#fdca26"
            ],
            [
             1,
             "#f0f921"
            ]
           ]
          },
          "colorway": [
           "#636efa",
           "#EF553B",
           "#00cc96",
           "#ab63fa",
           "#FFA15A",
           "#19d3f3",
           "#FF6692",
           "#B6E880",
           "#FF97FF",
           "#FECB52"
          ],
          "font": {
           "color": "#2a3f5f"
          },
          "geo": {
           "bgcolor": "white",
           "lakecolor": "white",
           "landcolor": "#E5ECF6",
           "showlakes": true,
           "showland": true,
           "subunitcolor": "white"
          },
          "hoverlabel": {
           "align": "left"
          },
          "hovermode": "closest",
          "mapbox": {
           "style": "light"
          },
          "paper_bgcolor": "white",
          "plot_bgcolor": "#E5ECF6",
          "polar": {
           "angularaxis": {
            "gridcolor": "white",
            "linecolor": "white",
            "ticks": ""
           },
           "bgcolor": "#E5ECF6",
           "radialaxis": {
            "gridcolor": "white",
            "linecolor": "white",
            "ticks": ""
           }
          },
          "scene": {
           "xaxis": {
            "backgroundcolor": "#E5ECF6",
            "gridcolor": "white",
            "gridwidth": 2,
            "linecolor": "white",
            "showbackground": true,
            "ticks": "",
            "zerolinecolor": "white"
           },
           "yaxis": {
            "backgroundcolor": "#E5ECF6",
            "gridcolor": "white",
            "gridwidth": 2,
            "linecolor": "white",
            "showbackground": true,
            "ticks": "",
            "zerolinecolor": "white"
           },
           "zaxis": {
            "backgroundcolor": "#E5ECF6",
            "gridcolor": "white",
            "gridwidth": 2,
            "linecolor": "white",
            "showbackground": true,
            "ticks": "",
            "zerolinecolor": "white"
           }
          },
          "shapedefaults": {
           "line": {
            "color": "#2a3f5f"
           }
          },
          "ternary": {
           "aaxis": {
            "gridcolor": "white",
            "linecolor": "white",
            "ticks": ""
           },
           "baxis": {
            "gridcolor": "white",
            "linecolor": "white",
            "ticks": ""
           },
           "bgcolor": "#E5ECF6",
           "caxis": {
            "gridcolor": "white",
            "linecolor": "white",
            "ticks": ""
           }
          },
          "title": {
           "x": 0.05
          },
          "xaxis": {
           "automargin": true,
           "gridcolor": "white",
           "linecolor": "white",
           "ticks": "",
           "title": {
            "standoff": 15
           },
           "zerolinecolor": "white",
           "zerolinewidth": 2
          },
          "yaxis": {
           "automargin": true,
           "gridcolor": "white",
           "linecolor": "white",
           "ticks": "",
           "title": {
            "standoff": 15
           },
           "zerolinecolor": "white",
           "zerolinewidth": 2
          }
         }
        },
        "title": {
         "text": "Calculated Average Drift Velocity vs Theoretical Drift Velocity"
        },
        "xaxis": {
         "title": {
          "text": "Deme"
         }
        },
        "yaxis": {
         "title": {
          "text": "Drift Velocity [µm/s]"
         }
        },
        "yaxis2": {
         "overlaying": "y",
         "side": "right"
        }
       }
      }
     },
     "metadata": {},
     "output_type": "display_data"
    }
   ],
   "source": [
    "# Create a plot of the theoretical velocity vs average of the calculated velocity.\n",
    "\n",
    "x_values = curve_fit_df['Position']\n",
    "\n",
    "# create traces\n",
    "trace0 = go.Scatter(\n",
    "    x = x_values,\n",
    "    y = curve_fit_df['Calc_Velocity'],\n",
    "    mode = 'markers',\n",
    "    name = 'Calculated Ave. Velocity'\n",
    ")\n",
    "trace1 = go.Scatter(\n",
    "    x = x_values,\n",
    "    y = curve_fit_df['Theory_Vel'],\n",
    "    mode='lines',\n",
    "    name='Theoretical Velocity',\n",
    "    yaxis='y2'\n",
    ")\n",
    "\n",
    "# create the data\n",
    "data = [trace0, trace1]  # assign traces to data\n",
    "\n",
    "# create the layout\n",
    "layout = go.Layout(\n",
    "    title = 'Calculated Average Drift Velocity vs Theoretical Drift Velocity',\n",
    "    yaxis = dict(title = 'Drift Velocity [µm/s]'),\n",
    "    yaxis2 = dict(\n",
    "        overlaying = 'y',\n",
    "        side = 'right'\n",
    "        ),\n",
    "    xaxis=dict(title='Deme')\n",
    ")\n",
    "\n",
    "# crate the fig\n",
    "fig = go.Figure(data=data,layout=layout)\n",
    "fig.show()"
   ]
  },
  {
   "cell_type": "code",
   "execution_count": 5,
   "metadata": {},
   "outputs": [
    {
     "data": {
      "application/vnd.plotly.v1+json": {
       "config": {
        "plotlyServerURL": "https://plot.ly"
       },
       "data": [
        {
         "mode": "markers",
         "name": "alpha value points",
         "type": "scatter",
         "x": [
          1,
          2,
          3,
          4,
          5,
          6,
          7,
          8,
          9,
          10,
          11,
          12,
          13,
          14,
          15,
          16,
          17,
          18,
          19,
          20,
          21,
          22,
          23,
          24,
          25,
          26,
          27,
          28,
          29,
          30,
          31,
          32,
          33,
          34,
          35,
          36,
          37,
          38,
          39,
          40,
          41,
          42,
          43,
          44,
          45,
          46,
          47,
          48,
          49,
          50,
          51,
          52,
          53,
          54,
          55,
          56,
          57,
          58,
          59,
          60,
          61,
          62,
          63,
          64,
          65,
          66,
          67,
          68,
          69,
          70,
          71,
          72,
          73,
          74,
          75,
          76,
          77,
          78,
          79,
          80,
          81,
          82,
          83,
          84,
          85,
          86,
          87,
          88,
          89,
          90,
          91,
          92,
          93,
          94,
          95,
          96,
          97,
          98,
          99,
          100,
          101
         ],
         "y": [
          null,
          null,
          9164.660005632351,
          9147.692558387374,
          8564.71974292288,
          7486.818088006145,
          6575.164432823018,
          5858.040817245589,
          5164.492448778428,
          4572.080651722408,
          4015.5528658250028,
          3625.956603755193,
          3233.979461447939,
          2842.5473288642497,
          2519.1055927008565,
          2255.6667674224705,
          1991.4789100179607,
          1788.0575585603694,
          1598.219919308011,
          1428.357003413846,
          1281.6432673763609,
          1150.2309365013928,
          1036.8449867654324,
          935.0174521185421,
          844.5141035591296,
          768.1327498472198,
          697.4169547357104,
          636.0024819714625,
          582.6496539121168,
          536.6589850792736,
          495.1841824273592,
          459.8883847091519,
          428.1883952694935,
          400.674184962844,
          376.52244851828567,
          355.61324336841074,
          337.2023263962804,
          321.34085093740805,
          308.1102586967143,
          296.69708227210117,
          286.59730514349855,
          278.3029235283091,
          271.42585498869613,
          265.4902799957876,
          261.12752452922115,
          257.4896609489133,
          254.7759734406489,
          253.0300916360352,
          252.17491029993707,
          251.89787083957856,
          252.49025065092502,
          253.95045585685398,
          256.2233399593249,
          259.4915183940172,
          264.03048111670125,
          269.29350903128625,
          275.46707946798216,
          282.84472378577107,
          291.65039459072074,
          302.37043231454214,
          314.6022093343526,
          328.74296025338435,
          344.7965711690807,
          362.6422379432475,
          383.8919029952884,
          407.6189205404541,
          434.09310445041314,
          463.4379892928034,
          495.29929706331194,
          530.9638624560815,
          569.2366364162004,
          610.1669568063425,
          652.3451687322438,
          696.1647890733085,
          738.4816365921403,
          781.5064616282373,
          820.9826612533049,
          854.2051795665171,
          879.4717261864366,
          896.4270288944491,
          905.103997040583,
          899.4942113143456,
          882.0933583216334,
          857.5578856442456,
          823.3587951034186,
          783.4709663135586,
          739.2485885637003,
          692.9171107987668,
          644.8312356495869,
          596.5775855938399,
          550.2880033792808,
          505.7942267225855,
          461.73161586167834,
          416.20710506106155,
          376.0340442081943,
          342.76192974200893,
          314.1130190333949,
          286.9059680061437,
          257.787919732176,
          210.995388944257,
          null
         ]
        },
        {
         "mode": "lines",
         "name": "polynomial fit",
         "type": "scatter",
         "x": [
          1,
          2,
          3,
          4,
          5,
          6,
          7,
          8,
          9,
          10,
          11,
          12,
          13,
          14,
          15,
          16,
          17,
          18,
          19,
          20,
          21,
          22,
          23,
          24,
          25,
          26,
          27,
          28,
          29,
          30,
          31,
          32,
          33,
          34,
          35,
          36,
          37,
          38,
          39,
          40,
          41,
          42,
          43,
          44,
          45,
          46,
          47,
          48,
          49,
          50,
          51,
          52,
          53,
          54,
          55,
          56,
          57,
          58,
          59,
          60,
          61,
          62,
          63,
          64,
          65,
          66,
          67,
          68,
          69,
          70,
          71,
          72,
          73,
          74,
          75,
          76,
          77,
          78,
          79,
          80,
          81,
          82,
          83,
          84,
          85,
          86,
          87,
          88,
          89,
          90,
          91,
          92,
          93,
          94,
          95,
          96,
          97,
          98,
          99,
          100,
          101
         ],
         "y": [
          8008.828875684081,
          8742.684604712893,
          9164.660005632351,
          9147.692558387374,
          8564.71974292288,
          7486.818088006145,
          6575.164432823018,
          5858.040817245589,
          5164.492448778428,
          4572.080651722408,
          4015.5528658250028,
          3625.956603755193,
          3233.979461447939,
          2842.5473288642497,
          2519.1055927008565,
          2255.6667674224705,
          1991.4789100179607,
          1788.0575585603694,
          1598.219919308011,
          1428.357003413846,
          1281.6432673763609,
          1150.2309365013928,
          1036.8449867654324,
          935.0174521185421,
          844.5141035591296,
          768.1327498472198,
          697.4169547357104,
          636.0024819714625,
          582.6496539121168,
          536.6589850792736,
          495.1841824273592,
          459.8883847091519,
          428.1883952694935,
          400.674184962844,
          376.52244851828567,
          355.61324336841074,
          337.2023263962804,
          321.34085093740805,
          308.1102586967143,
          296.69708227210117,
          286.59730514349855,
          278.3029235283091,
          271.42585498869613,
          265.4902799957876,
          261.12752452922115,
          257.4896609489133,
          254.7759734406489,
          253.0300916360352,
          252.17491029993707,
          251.89787083957856,
          252.49025065092502,
          253.95045585685398,
          256.2233399593249,
          259.4915183940172,
          264.03048111670125,
          269.29350903128625,
          275.46707946798216,
          282.84472378577107,
          291.65039459072074,
          302.37043231454214,
          314.6022093343526,
          328.74296025338435,
          344.7965711690807,
          362.6422379432475,
          383.8919029952884,
          407.6189205404541,
          434.09310445041314,
          463.4379892928034,
          495.29929706331194,
          530.9638624560815,
          569.2366364162004,
          610.1669568063425,
          652.3451687322438,
          696.1647890733085,
          738.4816365921403,
          781.5064616282373,
          820.9826612533049,
          854.2051795665171,
          879.4717261864366,
          896.4270288944491,
          905.103997040583,
          899.4942113143456,
          882.0933583216334,
          857.5578856442456,
          823.3587951034186,
          783.4709663135586,
          739.2485885637003,
          692.9171107987668,
          644.8312356495869,
          596.5775855938399,
          550.2880033792808,
          505.7942267225855,
          461.73161586167834,
          416.20710506106155,
          376.0340442081943,
          342.76192974200893,
          314.1130190333949,
          286.9059680061437,
          257.787919732176,
          210.995388944257,
          127.4436019763703
         ]
        },
        {
         "mode": "lines",
         "name": "Theoretical Velocity",
         "type": "scatter",
         "x": [
          1,
          2,
          3,
          4,
          5,
          6,
          7,
          8,
          9,
          10,
          11,
          12,
          13,
          14,
          15,
          16,
          17,
          18,
          19,
          20,
          21,
          22,
          23,
          24,
          25,
          26,
          27,
          28,
          29,
          30,
          31,
          32,
          33,
          34,
          35,
          36,
          37,
          38,
          39,
          40,
          41,
          42,
          43,
          44,
          45,
          46,
          47,
          48,
          49,
          50,
          51,
          52,
          53,
          54,
          55,
          56,
          57,
          58,
          59,
          60,
          61,
          62,
          63,
          64,
          65,
          66,
          67,
          68,
          69,
          70,
          71,
          72,
          73,
          74,
          75,
          76,
          77,
          78,
          79,
          80,
          81,
          82,
          83,
          84,
          85,
          86,
          87,
          88,
          89,
          90,
          91,
          92,
          93,
          94,
          95,
          96,
          97,
          98,
          99,
          100,
          101
         ],
         "y": [
          0.06825513864538493,
          0.07726131281150009,
          0.08743726846286977,
          0.09892973973507915,
          0.11190241302283266,
          0.12653747766179152,
          0.1430371998076277,
          0.1616254787212342,
          0.1825493302612313,
          0.20608022489221053,
          0.23251518669686463,
          0.26217753565747115,
          0.2954171280494804,
          0.33260991979033727,
          0.37415664623331946,
          0.4204803812220419,
          0.472022711293718,
          0.5292382420482533,
          0.5925871485772655,
          0.6625254975359989,
          0.7394931131149063,
          0.8238988414673979,
          0.9161031960416013,
          1.016398545310398,
          1.1249872354644443,
          1.241958317237574,
          1.3672638517295403,
          1.5006960766752517,
          1.641866982058007,
          1.7901920231041129,
          1.9448797373273856,
          2.1049288847290835,
          2.2691343691356787,
          2.4361026265296735,
          2.6042764235395377,
          2.771968175131601,
          2.9374000741530795,
          3.098748648030499,
          3.254190929325451,
          3.4019493212427236,
          3.540332478193541,
          3.667770068663991,
          3.7828400562592615,
          3.8842880068268175,
          3.97103877963617,
          4.042201678792578,
          4.097070649025869,
          4.135121357818102,
          4.15600701030269,
          4.15955452031555,
          4.145762255397092,
          4.114800040633194,
          4.067011505252216,
          4.0029182471614675,
          3.9232247344705553,
          3.828822419222706,
          3.7207912637402605,
          3.600396822569884,
          3.4690812147100005,
          3.328446766773975,
          3.1802317779983493,
          3.026278683799099,
          2.8684957729033598,
          2.7088144205075464,
          2.5491444140341093,
          2.3913302718645757,
          2.237111438067684,
          2.088088884036238,
          1.9457000227727637,
          1.8112030457153263,
          1.6856709458472734,
          1.5699947083189207,
          1.464894518558977,
          1.370937408023018,
          1.2885595404939398,
          1.2180913158537048,
          1.159783590634661,
          1.1138335331765694,
          1.080408894578666,
          1.059669741704262,
          1.0517869339683252,
          1.0569568128510942,
          1.07541170486434,
          1.1074259172919776,
          1.1533169408215362,
          1.2134415787506807,
          1.2881867170623782,
          1.3779544541977093,
          1.483141346406213,
          1.6041116173303904,
          1.741164351173744,
          1.8944949560389976,
          2.0641515592264708,
          2.249987478987735,
          2.451611489865392,
          2.668338221910707,
          2.8991416438778357,
          3.142615090026107,
          3.396941596840962,
          3.659878315956025,
          null
         ],
         "yaxis": "y2"
        }
       ],
       "layout": {
        "template": {
         "data": {
          "bar": [
           {
            "error_x": {
             "color": "#2a3f5f"
            },
            "error_y": {
             "color": "#2a3f5f"
            },
            "marker": {
             "line": {
              "color": "#E5ECF6",
              "width": 0.5
             },
             "pattern": {
              "fillmode": "overlay",
              "size": 10,
              "solidity": 0.2
             }
            },
            "type": "bar"
           }
          ],
          "barpolar": [
           {
            "marker": {
             "line": {
              "color": "#E5ECF6",
              "width": 0.5
             },
             "pattern": {
              "fillmode": "overlay",
              "size": 10,
              "solidity": 0.2
             }
            },
            "type": "barpolar"
           }
          ],
          "carpet": [
           {
            "aaxis": {
             "endlinecolor": "#2a3f5f",
             "gridcolor": "white",
             "linecolor": "white",
             "minorgridcolor": "white",
             "startlinecolor": "#2a3f5f"
            },
            "baxis": {
             "endlinecolor": "#2a3f5f",
             "gridcolor": "white",
             "linecolor": "white",
             "minorgridcolor": "white",
             "startlinecolor": "#2a3f5f"
            },
            "type": "carpet"
           }
          ],
          "choropleth": [
           {
            "colorbar": {
             "outlinewidth": 0,
             "ticks": ""
            },
            "type": "choropleth"
           }
          ],
          "contour": [
           {
            "colorbar": {
             "outlinewidth": 0,
             "ticks": ""
            },
            "colorscale": [
             [
              0,
              "#0d0887"
             ],
             [
              0.1111111111111111,
              "#46039f"
             ],
             [
              0.2222222222222222,
              "#7201a8"
             ],
             [
              0.3333333333333333,
              "#9c179e"
             ],
             [
              0.4444444444444444,
              "#bd3786"
             ],
             [
              0.5555555555555556,
              "#d8576b"
             ],
             [
              0.6666666666666666,
              "#ed7953"
             ],
             [
              0.7777777777777778,
              "#fb9f3a"
             ],
             [
              0.8888888888888888,
              "#fdca26"
             ],
             [
              1,
              "#f0f921"
             ]
            ],
            "type": "contour"
           }
          ],
          "contourcarpet": [
           {
            "colorbar": {
             "outlinewidth": 0,
             "ticks": ""
            },
            "type": "contourcarpet"
           }
          ],
          "heatmap": [
           {
            "colorbar": {
             "outlinewidth": 0,
             "ticks": ""
            },
            "colorscale": [
             [
              0,
              "#0d0887"
             ],
             [
              0.1111111111111111,
              "#46039f"
             ],
             [
              0.2222222222222222,
              "#7201a8"
             ],
             [
              0.3333333333333333,
              "#9c179e"
             ],
             [
              0.4444444444444444,
              "#bd3786"
             ],
             [
              0.5555555555555556,
              "#d8576b"
             ],
             [
              0.6666666666666666,
              "#ed7953"
             ],
             [
              0.7777777777777778,
              "#fb9f3a"
             ],
             [
              0.8888888888888888,
              "#fdca26"
             ],
             [
              1,
              "#f0f921"
             ]
            ],
            "type": "heatmap"
           }
          ],
          "heatmapgl": [
           {
            "colorbar": {
             "outlinewidth": 0,
             "ticks": ""
            },
            "colorscale": [
             [
              0,
              "#0d0887"
             ],
             [
              0.1111111111111111,
              "#46039f"
             ],
             [
              0.2222222222222222,
              "#7201a8"
             ],
             [
              0.3333333333333333,
              "#9c179e"
             ],
             [
              0.4444444444444444,
              "#bd3786"
             ],
             [
              0.5555555555555556,
              "#d8576b"
             ],
             [
              0.6666666666666666,
              "#ed7953"
             ],
             [
              0.7777777777777778,
              "#fb9f3a"
             ],
             [
              0.8888888888888888,
              "#fdca26"
             ],
             [
              1,
              "#f0f921"
             ]
            ],
            "type": "heatmapgl"
           }
          ],
          "histogram": [
           {
            "marker": {
             "pattern": {
              "fillmode": "overlay",
              "size": 10,
              "solidity": 0.2
             }
            },
            "type": "histogram"
           }
          ],
          "histogram2d": [
           {
            "colorbar": {
             "outlinewidth": 0,
             "ticks": ""
            },
            "colorscale": [
             [
              0,
              "#0d0887"
             ],
             [
              0.1111111111111111,
              "#46039f"
             ],
             [
              0.2222222222222222,
              "#7201a8"
             ],
             [
              0.3333333333333333,
              "#9c179e"
             ],
             [
              0.4444444444444444,
              "#bd3786"
             ],
             [
              0.5555555555555556,
              "#d8576b"
             ],
             [
              0.6666666666666666,
              "#ed7953"
             ],
             [
              0.7777777777777778,
              "#fb9f3a"
             ],
             [
              0.8888888888888888,
              "#fdca26"
             ],
             [
              1,
              "#f0f921"
             ]
            ],
            "type": "histogram2d"
           }
          ],
          "histogram2dcontour": [
           {
            "colorbar": {
             "outlinewidth": 0,
             "ticks": ""
            },
            "colorscale": [
             [
              0,
              "#0d0887"
             ],
             [
              0.1111111111111111,
              "#46039f"
             ],
             [
              0.2222222222222222,
              "#7201a8"
             ],
             [
              0.3333333333333333,
              "#9c179e"
             ],
             [
              0.4444444444444444,
              "#bd3786"
             ],
             [
              0.5555555555555556,
              "#d8576b"
             ],
             [
              0.6666666666666666,
              "#ed7953"
             ],
             [
              0.7777777777777778,
              "#fb9f3a"
             ],
             [
              0.8888888888888888,
              "#fdca26"
             ],
             [
              1,
              "#f0f921"
             ]
            ],
            "type": "histogram2dcontour"
           }
          ],
          "mesh3d": [
           {
            "colorbar": {
             "outlinewidth": 0,
             "ticks": ""
            },
            "type": "mesh3d"
           }
          ],
          "parcoords": [
           {
            "line": {
             "colorbar": {
              "outlinewidth": 0,
              "ticks": ""
             }
            },
            "type": "parcoords"
           }
          ],
          "pie": [
           {
            "automargin": true,
            "type": "pie"
           }
          ],
          "scatter": [
           {
            "fillpattern": {
             "fillmode": "overlay",
             "size": 10,
             "solidity": 0.2
            },
            "type": "scatter"
           }
          ],
          "scatter3d": [
           {
            "line": {
             "colorbar": {
              "outlinewidth": 0,
              "ticks": ""
             }
            },
            "marker": {
             "colorbar": {
              "outlinewidth": 0,
              "ticks": ""
             }
            },
            "type": "scatter3d"
           }
          ],
          "scattercarpet": [
           {
            "marker": {
             "colorbar": {
              "outlinewidth": 0,
              "ticks": ""
             }
            },
            "type": "scattercarpet"
           }
          ],
          "scattergeo": [
           {
            "marker": {
             "colorbar": {
              "outlinewidth": 0,
              "ticks": ""
             }
            },
            "type": "scattergeo"
           }
          ],
          "scattergl": [
           {
            "marker": {
             "colorbar": {
              "outlinewidth": 0,
              "ticks": ""
             }
            },
            "type": "scattergl"
           }
          ],
          "scattermapbox": [
           {
            "marker": {
             "colorbar": {
              "outlinewidth": 0,
              "ticks": ""
             }
            },
            "type": "scattermapbox"
           }
          ],
          "scatterpolar": [
           {
            "marker": {
             "colorbar": {
              "outlinewidth": 0,
              "ticks": ""
             }
            },
            "type": "scatterpolar"
           }
          ],
          "scatterpolargl": [
           {
            "marker": {
             "colorbar": {
              "outlinewidth": 0,
              "ticks": ""
             }
            },
            "type": "scatterpolargl"
           }
          ],
          "scatterternary": [
           {
            "marker": {
             "colorbar": {
              "outlinewidth": 0,
              "ticks": ""
             }
            },
            "type": "scatterternary"
           }
          ],
          "surface": [
           {
            "colorbar": {
             "outlinewidth": 0,
             "ticks": ""
            },
            "colorscale": [
             [
              0,
              "#0d0887"
             ],
             [
              0.1111111111111111,
              "#46039f"
             ],
             [
              0.2222222222222222,
              "#7201a8"
             ],
             [
              0.3333333333333333,
              "#9c179e"
             ],
             [
              0.4444444444444444,
              "#bd3786"
             ],
             [
              0.5555555555555556,
              "#d8576b"
             ],
             [
              0.6666666666666666,
              "#ed7953"
             ],
             [
              0.7777777777777778,
              "#fb9f3a"
             ],
             [
              0.8888888888888888,
              "#fdca26"
             ],
             [
              1,
              "#f0f921"
             ]
            ],
            "type": "surface"
           }
          ],
          "table": [
           {
            "cells": {
             "fill": {
              "color": "#EBF0F8"
             },
             "line": {
              "color": "white"
             }
            },
            "header": {
             "fill": {
              "color": "#C8D4E3"
             },
             "line": {
              "color": "white"
             }
            },
            "type": "table"
           }
          ]
         },
         "layout": {
          "annotationdefaults": {
           "arrowcolor": "#2a3f5f",
           "arrowhead": 0,
           "arrowwidth": 1
          },
          "autotypenumbers": "strict",
          "coloraxis": {
           "colorbar": {
            "outlinewidth": 0,
            "ticks": ""
           }
          },
          "colorscale": {
           "diverging": [
            [
             0,
             "#8e0152"
            ],
            [
             0.1,
             "#c51b7d"
            ],
            [
             0.2,
             "#de77ae"
            ],
            [
             0.3,
             "#f1b6da"
            ],
            [
             0.4,
             "#fde0ef"
            ],
            [
             0.5,
             "#f7f7f7"
            ],
            [
             0.6,
             "#e6f5d0"
            ],
            [
             0.7,
             "#b8e186"
            ],
            [
             0.8,
             "#7fbc41"
            ],
            [
             0.9,
             "#4d9221"
            ],
            [
             1,
             "#276419"
            ]
           ],
           "sequential": [
            [
             0,
             "#0d0887"
            ],
            [
             0.1111111111111111,
             "#46039f"
            ],
            [
             0.2222222222222222,
             "#7201a8"
            ],
            [
             0.3333333333333333,
             "#9c179e"
            ],
            [
             0.4444444444444444,
             "#bd3786"
            ],
            [
             0.5555555555555556,
             "#d8576b"
            ],
            [
             0.6666666666666666,
             "#ed7953"
            ],
            [
             0.7777777777777778,
             "#fb9f3a"
            ],
            [
             0.8888888888888888,
             "#fdca26"
            ],
            [
             1,
             "#f0f921"
            ]
           ],
           "sequentialminus": [
            [
             0,
             "#0d0887"
            ],
            [
             0.1111111111111111,
             "#46039f"
            ],
            [
             0.2222222222222222,
             "#7201a8"
            ],
            [
             0.3333333333333333,
             "#9c179e"
            ],
            [
             0.4444444444444444,
             "#bd3786"
            ],
            [
             0.5555555555555556,
             "#d8576b"
            ],
            [
             0.6666666666666666,
             "#ed7953"
            ],
            [
             0.7777777777777778,
             "#fb9f3a"
            ],
            [
             0.8888888888888888,
             "#fdca26"
            ],
            [
             1,
             "#f0f921"
            ]
           ]
          },
          "colorway": [
           "#636efa",
           "#EF553B",
           "#00cc96",
           "#ab63fa",
           "#FFA15A",
           "#19d3f3",
           "#FF6692",
           "#B6E880",
           "#FF97FF",
           "#FECB52"
          ],
          "font": {
           "color": "#2a3f5f"
          },
          "geo": {
           "bgcolor": "white",
           "lakecolor": "white",
           "landcolor": "#E5ECF6",
           "showlakes": true,
           "showland": true,
           "subunitcolor": "white"
          },
          "hoverlabel": {
           "align": "left"
          },
          "hovermode": "closest",
          "mapbox": {
           "style": "light"
          },
          "paper_bgcolor": "white",
          "plot_bgcolor": "#E5ECF6",
          "polar": {
           "angularaxis": {
            "gridcolor": "white",
            "linecolor": "white",
            "ticks": ""
           },
           "bgcolor": "#E5ECF6",
           "radialaxis": {
            "gridcolor": "white",
            "linecolor": "white",
            "ticks": ""
           }
          },
          "scene": {
           "xaxis": {
            "backgroundcolor": "#E5ECF6",
            "gridcolor": "white",
            "gridwidth": 2,
            "linecolor": "white",
            "showbackground": true,
            "ticks": "",
            "zerolinecolor": "white"
           },
           "yaxis": {
            "backgroundcolor": "#E5ECF6",
            "gridcolor": "white",
            "gridwidth": 2,
            "linecolor": "white",
            "showbackground": true,
            "ticks": "",
            "zerolinecolor": "white"
           },
           "zaxis": {
            "backgroundcolor": "#E5ECF6",
            "gridcolor": "white",
            "gridwidth": 2,
            "linecolor": "white",
            "showbackground": true,
            "ticks": "",
            "zerolinecolor": "white"
           }
          },
          "shapedefaults": {
           "line": {
            "color": "#2a3f5f"
           }
          },
          "ternary": {
           "aaxis": {
            "gridcolor": "white",
            "linecolor": "white",
            "ticks": ""
           },
           "baxis": {
            "gridcolor": "white",
            "linecolor": "white",
            "ticks": ""
           },
           "bgcolor": "#E5ECF6",
           "caxis": {
            "gridcolor": "white",
            "linecolor": "white",
            "ticks": ""
           }
          },
          "title": {
           "x": 0.05
          },
          "xaxis": {
           "automargin": true,
           "gridcolor": "white",
           "linecolor": "white",
           "ticks": "",
           "title": {
            "standoff": 15
           },
           "zerolinecolor": "white",
           "zerolinewidth": 2
          },
          "yaxis": {
           "automargin": true,
           "gridcolor": "white",
           "linecolor": "white",
           "ticks": "",
           "title": {
            "standoff": 15
           },
           "zerolinecolor": "white",
           "zerolinewidth": 2
          }
         }
        },
        "title": {
         "text": "Alpha values and polynomial curve fit.  Outliers are where receptor sensitivity is too low that the program cannot calculate exponentially increasing values."
        },
        "xaxis": {
         "title": {
          "text": "Deme"
         }
        },
        "yaxis": {
         "title": {
          "text": "Alpha"
         }
        },
        "yaxis2": {
         "overlaying": "y",
         "side": "right",
         "title": {
          "text": "Theoretical Velocity [µm/s]"
         }
        }
       }
      }
     },
     "metadata": {},
     "output_type": "display_data"
    }
   ],
   "source": [
    "# Create a plot of the alpha values and polynomial fit.\n",
    "\n",
    "x_values = curve_fit_df['Position']\n",
    "\n",
    "# create traces\n",
    "trace0 = go.Scatter(\n",
    "    x = x_values,\n",
    "    y = curve_fit_df['Alpha'],\n",
    "    mode = 'markers',\n",
    "    name = 'alpha value points'\n",
    ")\n",
    "# The third trace\n",
    "trace1 = go.Scatter(\n",
    "    x = x_values,\n",
    "    y = curve_fit_df['Alpha_Curve_Fit'],\n",
    "    mode = 'lines',\n",
    "    name = 'polynomial fit'\n",
    ")\n",
    "trace2 = go.Scatter(\n",
    "    x = x_values,\n",
    "    y = curve_fit_df['Theory_Vel'],\n",
    "    mode='lines',\n",
    "    name='Theoretical Velocity',\n",
    "    yaxis='y2'\n",
    ")\n",
    "\n",
    "# create the data\n",
    "data = [trace0, trace1, trace2]  # assign traces to data\n",
    "\n",
    "# create the layout\n",
    "layout = go.Layout(\n",
    "    title = 'Alpha values and polynomial curve fit.  Outliers are where receptor sensitivity is too low that the program cannot calculate exponentially increasing values.',\n",
    "    yaxis = dict(title = 'Alpha'),\n",
    "    yaxis2 = dict(\n",
    "        title = 'Theoretical Velocity [µm/s]',\n",
    "        overlaying = 'y',\n",
    "        side = 'right'\n",
    "        ),\n",
    "    xaxis=dict(title='Deme')\n",
    ")\n",
    "\n",
    "# crate the fig\n",
    "fig = go.Figure(data=data,layout=layout)\n",
    "fig.show()"
   ]
  },
  {
   "cell_type": "code",
   "execution_count": 13,
   "metadata": {},
   "outputs": [
    {
     "data": {
      "application/vnd.plotly.v1+json": {
       "config": {
        "plotlyServerURL": "https://plot.ly"
       },
       "data": [
        {
         "mode": "markers",
         "name": "alpha value points",
         "type": "scatter",
         "x": [
          21,
          22,
          23,
          24,
          25,
          26,
          27,
          28,
          29,
          30,
          31,
          32,
          33,
          34,
          35,
          36,
          37,
          38,
          39,
          40,
          41,
          42,
          43,
          44,
          45,
          46,
          47,
          48,
          49,
          50,
          51,
          52,
          53,
          54,
          55,
          56,
          57,
          58,
          59,
          60,
          61,
          62,
          63,
          64,
          65,
          66,
          67,
          68,
          69,
          70,
          71,
          72,
          73,
          74,
          75,
          76,
          77,
          78,
          79,
          80,
          81,
          82,
          83,
          84,
          85,
          86,
          87,
          88,
          89,
          90,
          91,
          92,
          93,
          94,
          95,
          96,
          97,
          98,
          99,
          100
         ],
         "y": [
          1281.6432673763609,
          1150.2309365013928,
          1036.8449867654324,
          935.0174521185421,
          844.5141035591296,
          768.1327498472198,
          697.4169547357104,
          636.0024819714625,
          582.6496539121168,
          536.6589850792736,
          495.1841824273592,
          459.8883847091519,
          428.1883952694935,
          400.674184962844,
          376.52244851828567,
          355.61324336841074,
          337.2023263962804,
          321.34085093740805,
          308.1102586967143,
          296.69708227210117,
          286.59730514349855,
          278.3029235283091,
          271.42585498869613,
          265.4902799957876,
          261.12752452922115,
          257.4896609489133,
          254.7759734406489,
          253.0300916360352,
          252.17491029993707,
          251.89787083957856,
          252.49025065092502,
          253.95045585685398,
          256.2233399593249,
          259.4915183940172,
          264.03048111670125,
          269.29350903128625,
          275.46707946798216,
          282.84472378577107,
          291.65039459072074,
          302.37043231454214,
          314.6022093343526,
          328.74296025338435,
          344.7965711690807,
          362.6422379432475,
          383.8919029952884,
          407.6189205404541,
          434.09310445041314,
          463.4379892928034,
          495.29929706331194,
          530.9638624560815,
          569.2366364162004,
          610.1669568063425,
          652.3451687322438,
          696.1647890733085,
          738.4816365921403,
          781.5064616282373,
          820.9826612533049,
          854.2051795665171,
          879.4717261864366,
          896.4270288944491,
          905.103997040583,
          899.4942113143456,
          882.0933583216334,
          857.5578856442456,
          823.3587951034186,
          783.4709663135586,
          739.2485885637003,
          692.9171107987668,
          644.8312356495869,
          596.5775855938399,
          550.2880033792808,
          505.7942267225855,
          461.73161586167834,
          416.20710506106155,
          376.0340442081943,
          342.76192974200893,
          314.1130190333949,
          286.9059680061437,
          257.787919732176,
          210.995388944257
         ]
        },
        {
         "mode": "lines",
         "name": "polynomial fit",
         "type": "scatter",
         "x": [
          21,
          22,
          23,
          24,
          25,
          26,
          27,
          28,
          29,
          30,
          31,
          32,
          33,
          34,
          35,
          36,
          37,
          38,
          39,
          40,
          41,
          42,
          43,
          44,
          45,
          46,
          47,
          48,
          49,
          50,
          51,
          52,
          53,
          54,
          55,
          56,
          57,
          58,
          59,
          60,
          61,
          62,
          63,
          64,
          65,
          66,
          67,
          68,
          69,
          70,
          71,
          72,
          73,
          74,
          75,
          76,
          77,
          78,
          79,
          80,
          81,
          82,
          83,
          84,
          85,
          86,
          87,
          88,
          89,
          90,
          91,
          92,
          93,
          94,
          95,
          96,
          97,
          98,
          99,
          100
         ],
         "y": [
          1281.6432673763609,
          1150.2309365013928,
          1036.8449867654324,
          935.0174521185421,
          844.5141035591296,
          768.1327498472198,
          697.4169547357104,
          636.0024819714625,
          582.6496539121168,
          536.6589850792736,
          495.1841824273592,
          459.8883847091519,
          428.1883952694935,
          400.674184962844,
          376.52244851828567,
          355.61324336841074,
          337.2023263962804,
          321.34085093740805,
          308.1102586967143,
          296.69708227210117,
          286.59730514349855,
          278.3029235283091,
          271.42585498869613,
          265.4902799957876,
          261.12752452922115,
          257.4896609489133,
          254.7759734406489,
          253.0300916360352,
          252.17491029993707,
          251.89787083957856,
          252.49025065092502,
          253.95045585685398,
          256.2233399593249,
          259.4915183940172,
          264.03048111670125,
          269.29350903128625,
          275.46707946798216,
          282.84472378577107,
          291.65039459072074,
          302.37043231454214,
          314.6022093343526,
          328.74296025338435,
          344.7965711690807,
          362.6422379432475,
          383.8919029952884,
          407.6189205404541,
          434.09310445041314,
          463.4379892928034,
          495.29929706331194,
          530.9638624560815,
          569.2366364162004,
          610.1669568063425,
          652.3451687322438,
          696.1647890733085,
          738.4816365921403,
          781.5064616282373,
          820.9826612533049,
          854.2051795665171,
          879.4717261864366,
          896.4270288944491,
          905.103997040583,
          899.4942113143456,
          882.0933583216334,
          857.5578856442456,
          823.3587951034186,
          783.4709663135586,
          739.2485885637003,
          692.9171107987668,
          644.8312356495869,
          596.5775855938399,
          550.2880033792808,
          505.7942267225855,
          461.73161586167834,
          416.20710506106155,
          376.0340442081943,
          342.76192974200893,
          314.1130190333949,
          286.9059680061437,
          257.787919732176,
          210.995388944257
         ]
        },
        {
         "mode": "lines",
         "name": "dP/dt",
         "type": "scatter",
         "x": [
          21,
          22,
          23,
          24,
          25,
          26,
          27,
          28,
          29,
          30,
          31,
          32,
          33,
          34,
          35,
          36,
          37,
          38,
          39,
          40,
          41,
          42,
          43,
          44,
          45,
          46,
          47,
          48,
          49,
          50,
          51,
          52,
          53,
          54,
          55,
          56,
          57,
          58,
          59,
          60,
          61,
          62,
          63,
          64,
          65,
          66,
          67,
          68,
          69,
          70,
          71,
          72,
          73,
          74,
          75,
          76,
          77,
          78,
          79,
          80,
          81,
          82,
          83,
          84,
          85,
          86,
          87,
          88,
          89,
          90,
          91,
          92,
          93,
          94,
          95,
          96,
          97,
          98,
          99,
          100
         ],
         "y": [
          0.0000726932416300685,
          0.00009023469457831399,
          0.00011156155650820451,
          0.00013732633763025018,
          0.00016823678405414102,
          0.00020504057393804184,
          0.0002485023111435875,
          0.00029937205785154214,
          0.0003583452952350315,
          0.0004260151105693658,
          0.0005028185272607213,
          0.0005889801032271286,
          0.0006844570419552361,
          0.0007888908672431078,
          0.0009015709859630172,
          0.0010214150391557122,
          0.0011469697693125436,
          0.001276434308877927,
          0.001407705569101899,
          0.0015384431331111727,
          0.001666149115071247,
          0.0017882571595870629,
          0.0019022243056422414,
          0.0020056198356024914,
          0.0020962063141739995,
          0.002172009520574835,
          0.0022313755711139437,
          0.002273014927753278,
          0.0022960339808707265,
          0.0022999553793829324,
          0.002284728266741732,
          0.0022507291685467897,
          0.002198753634438629,
          0.0021299980668625903,
          0.002046030679448711,
          0.0019487503977023664,
          0.0018403328652226195,
          0.0017231635834198823,
          0.001599759518285413,
          0.0014726820701656306,
          0.001344445847584562,
          0.0012174288969882333,
          0.0010937906253651755,
          0.0009754034197122986,
          0.0008638028805222634,
          0.0007601597873692683,
          0.0006652746956657411,
          0.0005795938000843602,
          0.0005032427608947984,
          0.00043607385384637244,
          0.00037772120904720015,
          0.0003276590332831642,
          0.0002852584225163029,
          0.00024983945407740704,
          0.00022071647420069407,
          0.00019723567118916832,
          0.00017880501190590525,
          0.00016491734924724405,
          0.00015516796703201596,
          0.00014926804173349427,
          0.00014705551321549074,
          0.00014850471861975115,
          0.00015373589711039986,
          0.0001630253475300418,
          0.00017681663083491235,
          0.00019573275654532284,
          0.00022058877134125863,
          0.0002524035706066644,
          0.00029240907884540523,
          0.0003420542071985154,
          0.00040300023733134515,
          0.00047710357963995213,
          0.0005663813343072615,
          0.0006729549174259655,
          0.0007989674095658882,
          0.0009464714600093799,
          0.001117286720270969,
          0.0013128289693343114,
          0.0015339172403290378,
          0.0017805700360953344
         ],
         "yaxis": "y2"
        }
       ],
       "layout": {
        "legend": {
         "x": 1,
         "xanchor": "right",
         "y": 1,
         "yanchor": "top"
        },
        "template": {
         "data": {
          "bar": [
           {
            "error_x": {
             "color": "#2a3f5f"
            },
            "error_y": {
             "color": "#2a3f5f"
            },
            "marker": {
             "line": {
              "color": "#E5ECF6",
              "width": 0.5
             },
             "pattern": {
              "fillmode": "overlay",
              "size": 10,
              "solidity": 0.2
             }
            },
            "type": "bar"
           }
          ],
          "barpolar": [
           {
            "marker": {
             "line": {
              "color": "#E5ECF6",
              "width": 0.5
             },
             "pattern": {
              "fillmode": "overlay",
              "size": 10,
              "solidity": 0.2
             }
            },
            "type": "barpolar"
           }
          ],
          "carpet": [
           {
            "aaxis": {
             "endlinecolor": "#2a3f5f",
             "gridcolor": "white",
             "linecolor": "white",
             "minorgridcolor": "white",
             "startlinecolor": "#2a3f5f"
            },
            "baxis": {
             "endlinecolor": "#2a3f5f",
             "gridcolor": "white",
             "linecolor": "white",
             "minorgridcolor": "white",
             "startlinecolor": "#2a3f5f"
            },
            "type": "carpet"
           }
          ],
          "choropleth": [
           {
            "colorbar": {
             "outlinewidth": 0,
             "ticks": ""
            },
            "type": "choropleth"
           }
          ],
          "contour": [
           {
            "colorbar": {
             "outlinewidth": 0,
             "ticks": ""
            },
            "colorscale": [
             [
              0,
              "#0d0887"
             ],
             [
              0.1111111111111111,
              "#46039f"
             ],
             [
              0.2222222222222222,
              "#7201a8"
             ],
             [
              0.3333333333333333,
              "#9c179e"
             ],
             [
              0.4444444444444444,
              "#bd3786"
             ],
             [
              0.5555555555555556,
              "#d8576b"
             ],
             [
              0.6666666666666666,
              "#ed7953"
             ],
             [
              0.7777777777777778,
              "#fb9f3a"
             ],
             [
              0.8888888888888888,
              "#fdca26"
             ],
             [
              1,
              "#f0f921"
             ]
            ],
            "type": "contour"
           }
          ],
          "contourcarpet": [
           {
            "colorbar": {
             "outlinewidth": 0,
             "ticks": ""
            },
            "type": "contourcarpet"
           }
          ],
          "heatmap": [
           {
            "colorbar": {
             "outlinewidth": 0,
             "ticks": ""
            },
            "colorscale": [
             [
              0,
              "#0d0887"
             ],
             [
              0.1111111111111111,
              "#46039f"
             ],
             [
              0.2222222222222222,
              "#7201a8"
             ],
             [
              0.3333333333333333,
              "#9c179e"
             ],
             [
              0.4444444444444444,
              "#bd3786"
             ],
             [
              0.5555555555555556,
              "#d8576b"
             ],
             [
              0.6666666666666666,
              "#ed7953"
             ],
             [
              0.7777777777777778,
              "#fb9f3a"
             ],
             [
              0.8888888888888888,
              "#fdca26"
             ],
             [
              1,
              "#f0f921"
             ]
            ],
            "type": "heatmap"
           }
          ],
          "heatmapgl": [
           {
            "colorbar": {
             "outlinewidth": 0,
             "ticks": ""
            },
            "colorscale": [
             [
              0,
              "#0d0887"
             ],
             [
              0.1111111111111111,
              "#46039f"
             ],
             [
              0.2222222222222222,
              "#7201a8"
             ],
             [
              0.3333333333333333,
              "#9c179e"
             ],
             [
              0.4444444444444444,
              "#bd3786"
             ],
             [
              0.5555555555555556,
              "#d8576b"
             ],
             [
              0.6666666666666666,
              "#ed7953"
             ],
             [
              0.7777777777777778,
              "#fb9f3a"
             ],
             [
              0.8888888888888888,
              "#fdca26"
             ],
             [
              1,
              "#f0f921"
             ]
            ],
            "type": "heatmapgl"
           }
          ],
          "histogram": [
           {
            "marker": {
             "pattern": {
              "fillmode": "overlay",
              "size": 10,
              "solidity": 0.2
             }
            },
            "type": "histogram"
           }
          ],
          "histogram2d": [
           {
            "colorbar": {
             "outlinewidth": 0,
             "ticks": ""
            },
            "colorscale": [
             [
              0,
              "#0d0887"
             ],
             [
              0.1111111111111111,
              "#46039f"
             ],
             [
              0.2222222222222222,
              "#7201a8"
             ],
             [
              0.3333333333333333,
              "#9c179e"
             ],
             [
              0.4444444444444444,
              "#bd3786"
             ],
             [
              0.5555555555555556,
              "#d8576b"
             ],
             [
              0.6666666666666666,
              "#ed7953"
             ],
             [
              0.7777777777777778,
              "#fb9f3a"
             ],
             [
              0.8888888888888888,
              "#fdca26"
             ],
             [
              1,
              "#f0f921"
             ]
            ],
            "type": "histogram2d"
           }
          ],
          "histogram2dcontour": [
           {
            "colorbar": {
             "outlinewidth": 0,
             "ticks": ""
            },
            "colorscale": [
             [
              0,
              "#0d0887"
             ],
             [
              0.1111111111111111,
              "#46039f"
             ],
             [
              0.2222222222222222,
              "#7201a8"
             ],
             [
              0.3333333333333333,
              "#9c179e"
             ],
             [
              0.4444444444444444,
              "#bd3786"
             ],
             [
              0.5555555555555556,
              "#d8576b"
             ],
             [
              0.6666666666666666,
              "#ed7953"
             ],
             [
              0.7777777777777778,
              "#fb9f3a"
             ],
             [
              0.8888888888888888,
              "#fdca26"
             ],
             [
              1,
              "#f0f921"
             ]
            ],
            "type": "histogram2dcontour"
           }
          ],
          "mesh3d": [
           {
            "colorbar": {
             "outlinewidth": 0,
             "ticks": ""
            },
            "type": "mesh3d"
           }
          ],
          "parcoords": [
           {
            "line": {
             "colorbar": {
              "outlinewidth": 0,
              "ticks": ""
             }
            },
            "type": "parcoords"
           }
          ],
          "pie": [
           {
            "automargin": true,
            "type": "pie"
           }
          ],
          "scatter": [
           {
            "fillpattern": {
             "fillmode": "overlay",
             "size": 10,
             "solidity": 0.2
            },
            "type": "scatter"
           }
          ],
          "scatter3d": [
           {
            "line": {
             "colorbar": {
              "outlinewidth": 0,
              "ticks": ""
             }
            },
            "marker": {
             "colorbar": {
              "outlinewidth": 0,
              "ticks": ""
             }
            },
            "type": "scatter3d"
           }
          ],
          "scattercarpet": [
           {
            "marker": {
             "colorbar": {
              "outlinewidth": 0,
              "ticks": ""
             }
            },
            "type": "scattercarpet"
           }
          ],
          "scattergeo": [
           {
            "marker": {
             "colorbar": {
              "outlinewidth": 0,
              "ticks": ""
             }
            },
            "type": "scattergeo"
           }
          ],
          "scattergl": [
           {
            "marker": {
             "colorbar": {
              "outlinewidth": 0,
              "ticks": ""
             }
            },
            "type": "scattergl"
           }
          ],
          "scattermapbox": [
           {
            "marker": {
             "colorbar": {
              "outlinewidth": 0,
              "ticks": ""
             }
            },
            "type": "scattermapbox"
           }
          ],
          "scatterpolar": [
           {
            "marker": {
             "colorbar": {
              "outlinewidth": 0,
              "ticks": ""
             }
            },
            "type": "scatterpolar"
           }
          ],
          "scatterpolargl": [
           {
            "marker": {
             "colorbar": {
              "outlinewidth": 0,
              "ticks": ""
             }
            },
            "type": "scatterpolargl"
           }
          ],
          "scatterternary": [
           {
            "marker": {
             "colorbar": {
              "outlinewidth": 0,
              "ticks": ""
             }
            },
            "type": "scatterternary"
           }
          ],
          "surface": [
           {
            "colorbar": {
             "outlinewidth": 0,
             "ticks": ""
            },
            "colorscale": [
             [
              0,
              "#0d0887"
             ],
             [
              0.1111111111111111,
              "#46039f"
             ],
             [
              0.2222222222222222,
              "#7201a8"
             ],
             [
              0.3333333333333333,
              "#9c179e"
             ],
             [
              0.4444444444444444,
              "#bd3786"
             ],
             [
              0.5555555555555556,
              "#d8576b"
             ],
             [
              0.6666666666666666,
              "#ed7953"
             ],
             [
              0.7777777777777778,
              "#fb9f3a"
             ],
             [
              0.8888888888888888,
              "#fdca26"
             ],
             [
              1,
              "#f0f921"
             ]
            ],
            "type": "surface"
           }
          ],
          "table": [
           {
            "cells": {
             "fill": {
              "color": "#EBF0F8"
             },
             "line": {
              "color": "white"
             }
            },
            "header": {
             "fill": {
              "color": "#C8D4E3"
             },
             "line": {
              "color": "white"
             }
            },
            "type": "table"
           }
          ]
         },
         "layout": {
          "annotationdefaults": {
           "arrowcolor": "#2a3f5f",
           "arrowhead": 0,
           "arrowwidth": 1
          },
          "autotypenumbers": "strict",
          "coloraxis": {
           "colorbar": {
            "outlinewidth": 0,
            "ticks": ""
           }
          },
          "colorscale": {
           "diverging": [
            [
             0,
             "#8e0152"
            ],
            [
             0.1,
             "#c51b7d"
            ],
            [
             0.2,
             "#de77ae"
            ],
            [
             0.3,
             "#f1b6da"
            ],
            [
             0.4,
             "#fde0ef"
            ],
            [
             0.5,
             "#f7f7f7"
            ],
            [
             0.6,
             "#e6f5d0"
            ],
            [
             0.7,
             "#b8e186"
            ],
            [
             0.8,
             "#7fbc41"
            ],
            [
             0.9,
             "#4d9221"
            ],
            [
             1,
             "#276419"
            ]
           ],
           "sequential": [
            [
             0,
             "#0d0887"
            ],
            [
             0.1111111111111111,
             "#46039f"
            ],
            [
             0.2222222222222222,
             "#7201a8"
            ],
            [
             0.3333333333333333,
             "#9c179e"
            ],
            [
             0.4444444444444444,
             "#bd3786"
            ],
            [
             0.5555555555555556,
             "#d8576b"
            ],
            [
             0.6666666666666666,
             "#ed7953"
            ],
            [
             0.7777777777777778,
             "#fb9f3a"
            ],
            [
             0.8888888888888888,
             "#fdca26"
            ],
            [
             1,
             "#f0f921"
            ]
           ],
           "sequentialminus": [
            [
             0,
             "#0d0887"
            ],
            [
             0.1111111111111111,
             "#46039f"
            ],
            [
             0.2222222222222222,
             "#7201a8"
            ],
            [
             0.3333333333333333,
             "#9c179e"
            ],
            [
             0.4444444444444444,
             "#bd3786"
            ],
            [
             0.5555555555555556,
             "#d8576b"
            ],
            [
             0.6666666666666666,
             "#ed7953"
            ],
            [
             0.7777777777777778,
             "#fb9f3a"
            ],
            [
             0.8888888888888888,
             "#fdca26"
            ],
            [
             1,
             "#f0f921"
            ]
           ]
          },
          "colorway": [
           "#636efa",
           "#EF553B",
           "#00cc96",
           "#ab63fa",
           "#FFA15A",
           "#19d3f3",
           "#FF6692",
           "#B6E880",
           "#FF97FF",
           "#FECB52"
          ],
          "font": {
           "color": "#2a3f5f"
          },
          "geo": {
           "bgcolor": "white",
           "lakecolor": "white",
           "landcolor": "#E5ECF6",
           "showlakes": true,
           "showland": true,
           "subunitcolor": "white"
          },
          "hoverlabel": {
           "align": "left"
          },
          "hovermode": "closest",
          "mapbox": {
           "style": "light"
          },
          "paper_bgcolor": "white",
          "plot_bgcolor": "#E5ECF6",
          "polar": {
           "angularaxis": {
            "gridcolor": "white",
            "linecolor": "white",
            "ticks": ""
           },
           "bgcolor": "#E5ECF6",
           "radialaxis": {
            "gridcolor": "white",
            "linecolor": "white",
            "ticks": ""
           }
          },
          "scene": {
           "xaxis": {
            "backgroundcolor": "#E5ECF6",
            "gridcolor": "white",
            "gridwidth": 2,
            "linecolor": "white",
            "showbackground": true,
            "ticks": "",
            "zerolinecolor": "white"
           },
           "yaxis": {
            "backgroundcolor": "#E5ECF6",
            "gridcolor": "white",
            "gridwidth": 2,
            "linecolor": "white",
            "showbackground": true,
            "ticks": "",
            "zerolinecolor": "white"
           },
           "zaxis": {
            "backgroundcolor": "#E5ECF6",
            "gridcolor": "white",
            "gridwidth": 2,
            "linecolor": "white",
            "showbackground": true,
            "ticks": "",
            "zerolinecolor": "white"
           }
          },
          "shapedefaults": {
           "line": {
            "color": "#2a3f5f"
           }
          },
          "ternary": {
           "aaxis": {
            "gridcolor": "white",
            "linecolor": "white",
            "ticks": ""
           },
           "baxis": {
            "gridcolor": "white",
            "linecolor": "white",
            "ticks": ""
           },
           "bgcolor": "#E5ECF6",
           "caxis": {
            "gridcolor": "white",
            "linecolor": "white",
            "ticks": ""
           }
          },
          "title": {
           "x": 0.05
          },
          "xaxis": {
           "automargin": true,
           "gridcolor": "white",
           "linecolor": "white",
           "ticks": "",
           "title": {
            "standoff": 15
           },
           "zerolinecolor": "white",
           "zerolinewidth": 2
          },
          "yaxis": {
           "automargin": true,
           "gridcolor": "white",
           "linecolor": "white",
           "ticks": "",
           "title": {
            "standoff": 15
           },
           "zerolinecolor": "white",
           "zerolinewidth": 2
          }
         }
        },
        "title": {
         "text": "Alpha values and polynomial curve fit.  Outliers are where receptor sensitivity is too low that the program cannot calculate exponentially increasing values."
        },
        "xaxis": {
         "title": {
          "text": "Deme"
         }
        },
        "yaxis": {
         "title": {
          "text": "Alpha [s]"
         }
        },
        "yaxis2": {
         "overlaying": "y",
         "side": "right",
         "title": {
          "text": "Time RoC of Attractant, dP/dt [attractant/s]"
         }
        }
       }
      }
     },
     "metadata": {},
     "output_type": "display_data"
    }
   ],
   "source": [
    "# Create a plot of the alpha values and polynomial fit.\n",
    "\n",
    "x_values = curve_fit_df.loc[20:99, 'Position']\n",
    "\n",
    "# create traces\n",
    "trace0 = go.Scatter(\n",
    "    x = x_values,\n",
    "    y = curve_fit_df.loc[20:99, 'Alpha'],\n",
    "    mode = 'markers',\n",
    "    name = 'alpha value points'\n",
    ")\n",
    "# The third trace\n",
    "trace1 = go.Scatter(\n",
    "    x = x_values,\n",
    "    y = curve_fit_df.loc[20:99, 'Alpha_Curve_Fit'],\n",
    "    mode = 'lines',\n",
    "    name = 'polynomial fit'\n",
    ")\n",
    "trace2 = go.Scatter(\n",
    "    x = x_values,\n",
    "    y = input_param_df.loc[20:99, 'attr_time_roc'],\n",
    "    mode='lines',\n",
    "    name='dP/dt',\n",
    "    yaxis='y2'\n",
    ")\n",
    "\n",
    "# create the data\n",
    "data = [trace0, trace1, trace2]  # assign traces to data\n",
    "\n",
    "# create the layout\n",
    "layout = go.Layout(\n",
    "    title = 'Alpha values and polynomial curve fit.  Outliers are where receptor sensitivity is too low that the program cannot calculate exponentially increasing values.',\n",
    "    yaxis = dict(title = 'Alpha [s]'),\n",
    "    yaxis2 = dict(\n",
    "        title = 'Time RoC of Attractant, dP/dt [attractant/s]',\n",
    "        overlaying = 'y',\n",
    "        side = 'right'\n",
    "        ),\n",
    "    xaxis=dict(title='Deme'),\n",
    "    legend=dict(\n",
    "        x=1,       # x position of the legend\n",
    "        y=1,       # y position of the legend\n",
    "        xanchor='right',  # anchor legend to the right\n",
    "        yanchor='top'     # anchor legend to the top\n",
    "    )\n",
    ")\n",
    "\n",
    "# crate the fig\n",
    "fig = go.Figure(data=data,layout=layout)\n",
    "fig.show()"
   ]
  },
  {
   "cell_type": "code",
   "execution_count": 5,
   "metadata": {},
   "outputs": [
    {
     "data": {
      "application/vnd.plotly.v1+json": {
       "config": {
        "plotlyServerURL": "https://plot.ly"
       },
       "data": [
        {
         "mode": "lines",
         "name": "Rate of tumbling going down gradient",
         "type": "scatter",
         "x": [
          1,
          2,
          3,
          4,
          5,
          6,
          7,
          8,
          9,
          10,
          11,
          12,
          13,
          14,
          15,
          16,
          17,
          18,
          19,
          20,
          21,
          22,
          23,
          24,
          25,
          26,
          27,
          28,
          29,
          30,
          31,
          32,
          33,
          34,
          35,
          36,
          37,
          38,
          39,
          40,
          41,
          42,
          43,
          44,
          45,
          46,
          47,
          48,
          49,
          50,
          51,
          52,
          53,
          54,
          55,
          56,
          57,
          58,
          59,
          60,
          61,
          62,
          63,
          64,
          65,
          66,
          67,
          68,
          69,
          70,
          71,
          72,
          73,
          74,
          75,
          76,
          77,
          78,
          79,
          80,
          81,
          82,
          83,
          84,
          85,
          86,
          87,
          88,
          89,
          90,
          91,
          92,
          93,
          94,
          95,
          96,
          97,
          98,
          99,
          100,
          101
         ],
         "y": [
          null,
          null,
          0.03106096016999199,
          0.03097524011151522,
          0.030905339664119458,
          0.0308521416069272,
          0.03079195512969656,
          0.03071570207502183,
          0.03063987420751362,
          0.030542622647124696,
          0.03045491020029606,
          0.03032847577152367,
          0.030198845829015886,
          0.03006335405938161,
          0.029914976132153378,
          0.029735062955369713,
          0.02954634554713899,
          0.029329821216756154,
          0.029096786357507055,
          0.028842822556711185,
          0.028559085832372728,
          0.028260170659957534,
          0.027926202829763238,
          0.027571575831888073,
          0.027193918756491534,
          0.026782208777545488,
          0.026360588266394893,
          0.025909623573975495,
          0.025437011037074367,
          0.024942423983821554,
          0.024438188604397698,
          0.023910295238406196,
          0.02338470081148214,
          0.022853612799802234,
          0.02232368281331286,
          0.021800472945847273,
          0.021290091426739755,
          0.02079460486592173,
          0.020317159264278947,
          0.019860239564897787,
          0.019443851802918247,
          0.019057337696417896,
          0.018704163282549403,
          0.018402697557492666,
          0.018134588226445314,
          0.01792014695908543,
          0.017755526366217973,
          0.0176343669796177,
          0.017570133557865044,
          0.017563541452032195,
          0.017605359535908385,
          0.01769930914216772,
          0.017845135700629507,
          0.018037421905654213,
          0.01826890807227217,
          0.018551521190713623,
          0.018887862393868075,
          0.019254902681464455,
          0.01965933261244088,
          0.020082394755039822,
          0.020536320520761923,
          0.02100963178324129,
          0.021500763653360185,
          0.022004094426279222,
          0.022502126383436877,
          0.022995735861364622,
          0.023485506168437132,
          0.02396633922333808,
          0.02443259804471665,
          0.02486845000148769,
          0.025282389761176284,
          0.025668189874556793,
          0.026025509915258378,
          0.026346717826941885,
          0.026631956948024123,
          0.026870079734668262,
          0.027067747689864637,
          0.02722952650442977,
          0.027347315438784242,
          0.02742391326514414,
          0.02744420926949483,
          0.027431169645385018,
          0.027372445131306877,
          0.027257854918536675,
          0.02709925605385032,
          0.026887527633830923,
          0.026630232751715388,
          0.026319291609039282,
          0.025962735985536167,
          0.025561868040876595,
          0.02511028984064627,
          0.024621259809791126,
          0.024133917444515807,
          0.02369011356513443,
          0.023215550887952737,
          0.022663474886371507,
          0.022069398035653283,
          0.021504724154510987,
          0.02111380782992296,
          0.021528480866808666,
          null
         ]
        },
        {
         "mode": "lines",
         "name": "Rate of tumbling going up gradient",
         "type": "scatter",
         "x": [
          1,
          2,
          3,
          4,
          5,
          6,
          7,
          8,
          9,
          10,
          11,
          12,
          13,
          14,
          15,
          16,
          17,
          18,
          19,
          20,
          21,
          22,
          23,
          24,
          25,
          26,
          27,
          28,
          29,
          30,
          31,
          32,
          33,
          34,
          35,
          36,
          37,
          38,
          39,
          40,
          41,
          42,
          43,
          44,
          45,
          46,
          47,
          48,
          49,
          50,
          51,
          52,
          53,
          54,
          55,
          56,
          57,
          58,
          59,
          60,
          61,
          62,
          63,
          64,
          65,
          66,
          67,
          68,
          69,
          70,
          71,
          72,
          73,
          74,
          75,
          76,
          77,
          78,
          79,
          80,
          81,
          82,
          83,
          84,
          85,
          86,
          87,
          88,
          89,
          90,
          91,
          92,
          93,
          94,
          95,
          96,
          97,
          98,
          99,
          100,
          101
         ],
         "y": [
          null,
          null,
          0.03163894002842311,
          0.03172649679245837,
          0.03179825449983823,
          0.03185308393058078,
          0.03191534450814524,
          0.03199457572688145,
          0.03207375622327541,
          0.032175883105969326,
          0.032268552085044803,
          0.03240307437297381,
          0.03254216606845868,
          0.032688829533208445,
          0.032850965740445506,
          0.033049731810510526,
          0.033260825927718674,
          0.033506370488278925,
          0.0337747215094105,
          0.03407211115040304,
          0.03441062020723541,
          0.034774590283563854,
          0.03519045757972629,
          0.03564307901861113,
          0.03613807428210486,
          0.036693607469282095,
          0.037280497920315035,
          0.03792937605742404,
          0.03863409323569035,
          0.03940017444499577,
          0.040213121845977175,
          0.04110095029128224,
          0.04202473505930346,
          0.043001334828431145,
          0.044022120555196,
          0.04507864845339582,
          0.04615930652178069,
          0.04725917430891541,
          0.048369747131501495,
          0.04948257813468492,
          0.05054224163013426,
          0.05156732129631806,
          0.052541022081457535,
          0.0534017283593021,
          0.05419124182872326,
          0.05483972080627234,
          0.0553481679886094,
          0.05572844532380944,
          0.0559321790473076,
          0.05595317201417302,
          0.05582026621150225,
          0.0555239669610774,
          0.055070237208056,
          0.05448316622984552,
          0.05379280754798769,
          0.052973330108128595,
          0.05203001989058645,
          0.05103821464595803,
          0.049988261321837424,
          0.048935192641653996,
          0.04785355073953407,
          0.04677549164985902,
          0.045707021010392423,
          0.04466149967389461,
          0.04367302179793004,
          0.04273556897540819,
          0.041844354939402736,
          0.04100483794732579,
          0.04022232323574464,
          0.039517374664879645,
          0.03887037045654236,
          0.03828613785570201,
          0.03776048420351802,
          0.037300124535386336,
          0.03690062498830101,
          0.0365736114573442,
          0.03630652492049035,
          0.036090816925653905,
          0.035935368436562865,
          0.03583499723552128,
          0.03580849593418455,
          0.03582551778680534,
          0.03590237742113963,
          0.03605330863270929,
          0.03626431124495709,
          0.03654987804855287,
          0.03690301414959704,
          0.03733899341371703,
          0.037851783286287605,
          0.038445384917569374,
          0.039136778678390695,
          0.03991411745928661,
          0.040720113437983624,
          0.041482952512728447,
          0.042330929848991325,
          0.043362099632593215,
          0.044529345769014544,
          0.045698603199124034,
          0.04654470022460186,
          0.04564817471904112,
          null
         ]
        },
        {
         "mode": "markers",
         "name": "Theoretical Velocity",
         "type": "scatter",
         "x": [
          1,
          2,
          3,
          4,
          5,
          6,
          7,
          8,
          9,
          10,
          11,
          12,
          13,
          14,
          15,
          16,
          17,
          18,
          19,
          20,
          21,
          22,
          23,
          24,
          25,
          26,
          27,
          28,
          29,
          30,
          31,
          32,
          33,
          34,
          35,
          36,
          37,
          38,
          39,
          40,
          41,
          42,
          43,
          44,
          45,
          46,
          47,
          48,
          49,
          50,
          51,
          52,
          53,
          54,
          55,
          56,
          57,
          58,
          59,
          60,
          61,
          62,
          63,
          64,
          65,
          66,
          67,
          68,
          69,
          70,
          71,
          72,
          73,
          74,
          75,
          76,
          77,
          78,
          79,
          80,
          81,
          82,
          83,
          84,
          85,
          86,
          87,
          88,
          89,
          90,
          91,
          92,
          93,
          94,
          95,
          96,
          97,
          98,
          99,
          100,
          101
         ],
         "y": [
          0.06825513864538493,
          0.07726131281150009,
          0.08743726846286977,
          0.09892973973507915,
          0.11190241302283266,
          0.12653747766179152,
          0.1430371998076277,
          0.1616254787212342,
          0.1825493302612313,
          0.20608022489221053,
          0.23251518669686463,
          0.26217753565747115,
          0.2954171280494804,
          0.33260991979033727,
          0.37415664623331946,
          0.4204803812220419,
          0.472022711293718,
          0.5292382420482533,
          0.5925871485772655,
          0.6625254975359989,
          0.7394931131149063,
          0.8238988414673979,
          0.9161031960416013,
          1.016398545310398,
          1.1249872354644443,
          1.241958317237574,
          1.3672638517295403,
          1.5006960766752517,
          1.641866982058007,
          1.7901920231041129,
          1.9448797373273856,
          2.1049288847290835,
          2.2691343691356787,
          2.4361026265296735,
          2.6042764235395377,
          2.771968175131601,
          2.9374000741530795,
          3.098748648030499,
          3.254190929325451,
          3.4019493212427236,
          3.540332478193541,
          3.667770068663991,
          3.7828400562592615,
          3.8842880068268175,
          3.97103877963617,
          4.042201678792578,
          4.097070649025869,
          4.135121357818102,
          4.15600701030269,
          4.15955452031555,
          4.145762255397092,
          4.114800040633194,
          4.067011505252216,
          4.0029182471614675,
          3.9232247344705553,
          3.828822419222706,
          3.7207912637402605,
          3.600396822569884,
          3.4690812147100005,
          3.328446766773975,
          3.1802317779983493,
          3.026278683799099,
          2.8684957729033598,
          2.7088144205075464,
          2.5491444140341093,
          2.3913302718645757,
          2.237111438067684,
          2.088088884036238,
          1.9457000227727637,
          1.8112030457153263,
          1.6856709458472734,
          1.5699947083189207,
          1.464894518558977,
          1.370937408023018,
          1.2885595404939398,
          1.2180913158537048,
          1.159783590634661,
          1.1138335331765694,
          1.080408894578666,
          1.059669741704262,
          1.0517869339683252,
          1.0569568128510942,
          1.07541170486434,
          1.1074259172919776,
          1.1533169408215362,
          1.2134415787506807,
          1.2881867170623782,
          1.3779544541977093,
          1.483141346406213,
          1.6041116173303904,
          1.741164351173744,
          1.8944949560389976,
          2.0641515592264708,
          2.249987478987735,
          2.451611489865392,
          2.668338221910707,
          2.8991416438778357,
          3.142615090026107,
          3.396941596840962,
          3.659878315956025,
          null
         ],
         "yaxis": "y2"
        }
       ],
       "layout": {
        "template": {
         "data": {
          "bar": [
           {
            "error_x": {
             "color": "#2a3f5f"
            },
            "error_y": {
             "color": "#2a3f5f"
            },
            "marker": {
             "line": {
              "color": "#E5ECF6",
              "width": 0.5
             },
             "pattern": {
              "fillmode": "overlay",
              "size": 10,
              "solidity": 0.2
             }
            },
            "type": "bar"
           }
          ],
          "barpolar": [
           {
            "marker": {
             "line": {
              "color": "#E5ECF6",
              "width": 0.5
             },
             "pattern": {
              "fillmode": "overlay",
              "size": 10,
              "solidity": 0.2
             }
            },
            "type": "barpolar"
           }
          ],
          "carpet": [
           {
            "aaxis": {
             "endlinecolor": "#2a3f5f",
             "gridcolor": "white",
             "linecolor": "white",
             "minorgridcolor": "white",
             "startlinecolor": "#2a3f5f"
            },
            "baxis": {
             "endlinecolor": "#2a3f5f",
             "gridcolor": "white",
             "linecolor": "white",
             "minorgridcolor": "white",
             "startlinecolor": "#2a3f5f"
            },
            "type": "carpet"
           }
          ],
          "choropleth": [
           {
            "colorbar": {
             "outlinewidth": 0,
             "ticks": ""
            },
            "type": "choropleth"
           }
          ],
          "contour": [
           {
            "colorbar": {
             "outlinewidth": 0,
             "ticks": ""
            },
            "colorscale": [
             [
              0,
              "#0d0887"
             ],
             [
              0.1111111111111111,
              "#46039f"
             ],
             [
              0.2222222222222222,
              "#7201a8"
             ],
             [
              0.3333333333333333,
              "#9c179e"
             ],
             [
              0.4444444444444444,
              "#bd3786"
             ],
             [
              0.5555555555555556,
              "#d8576b"
             ],
             [
              0.6666666666666666,
              "#ed7953"
             ],
             [
              0.7777777777777778,
              "#fb9f3a"
             ],
             [
              0.8888888888888888,
              "#fdca26"
             ],
             [
              1,
              "#f0f921"
             ]
            ],
            "type": "contour"
           }
          ],
          "contourcarpet": [
           {
            "colorbar": {
             "outlinewidth": 0,
             "ticks": ""
            },
            "type": "contourcarpet"
           }
          ],
          "heatmap": [
           {
            "colorbar": {
             "outlinewidth": 0,
             "ticks": ""
            },
            "colorscale": [
             [
              0,
              "#0d0887"
             ],
             [
              0.1111111111111111,
              "#46039f"
             ],
             [
              0.2222222222222222,
              "#7201a8"
             ],
             [
              0.3333333333333333,
              "#9c179e"
             ],
             [
              0.4444444444444444,
              "#bd3786"
             ],
             [
              0.5555555555555556,
              "#d8576b"
             ],
             [
              0.6666666666666666,
              "#ed7953"
             ],
             [
              0.7777777777777778,
              "#fb9f3a"
             ],
             [
              0.8888888888888888,
              "#fdca26"
             ],
             [
              1,
              "#f0f921"
             ]
            ],
            "type": "heatmap"
           }
          ],
          "heatmapgl": [
           {
            "colorbar": {
             "outlinewidth": 0,
             "ticks": ""
            },
            "colorscale": [
             [
              0,
              "#0d0887"
             ],
             [
              0.1111111111111111,
              "#46039f"
             ],
             [
              0.2222222222222222,
              "#7201a8"
             ],
             [
              0.3333333333333333,
              "#9c179e"
             ],
             [
              0.4444444444444444,
              "#bd3786"
             ],
             [
              0.5555555555555556,
              "#d8576b"
             ],
             [
              0.6666666666666666,
              "#ed7953"
             ],
             [
              0.7777777777777778,
              "#fb9f3a"
             ],
             [
              0.8888888888888888,
              "#fdca26"
             ],
             [
              1,
              "#f0f921"
             ]
            ],
            "type": "heatmapgl"
           }
          ],
          "histogram": [
           {
            "marker": {
             "pattern": {
              "fillmode": "overlay",
              "size": 10,
              "solidity": 0.2
             }
            },
            "type": "histogram"
           }
          ],
          "histogram2d": [
           {
            "colorbar": {
             "outlinewidth": 0,
             "ticks": ""
            },
            "colorscale": [
             [
              0,
              "#0d0887"
             ],
             [
              0.1111111111111111,
              "#46039f"
             ],
             [
              0.2222222222222222,
              "#7201a8"
             ],
             [
              0.3333333333333333,
              "#9c179e"
             ],
             [
              0.4444444444444444,
              "#bd3786"
             ],
             [
              0.5555555555555556,
              "#d8576b"
             ],
             [
              0.6666666666666666,
              "#ed7953"
             ],
             [
              0.7777777777777778,
              "#fb9f3a"
             ],
             [
              0.8888888888888888,
              "#fdca26"
             ],
             [
              1,
              "#f0f921"
             ]
            ],
            "type": "histogram2d"
           }
          ],
          "histogram2dcontour": [
           {
            "colorbar": {
             "outlinewidth": 0,
             "ticks": ""
            },
            "colorscale": [
             [
              0,
              "#0d0887"
             ],
             [
              0.1111111111111111,
              "#46039f"
             ],
             [
              0.2222222222222222,
              "#7201a8"
             ],
             [
              0.3333333333333333,
              "#9c179e"
             ],
             [
              0.4444444444444444,
              "#bd3786"
             ],
             [
              0.5555555555555556,
              "#d8576b"
             ],
             [
              0.6666666666666666,
              "#ed7953"
             ],
             [
              0.7777777777777778,
              "#fb9f3a"
             ],
             [
              0.8888888888888888,
              "#fdca26"
             ],
             [
              1,
              "#f0f921"
             ]
            ],
            "type": "histogram2dcontour"
           }
          ],
          "mesh3d": [
           {
            "colorbar": {
             "outlinewidth": 0,
             "ticks": ""
            },
            "type": "mesh3d"
           }
          ],
          "parcoords": [
           {
            "line": {
             "colorbar": {
              "outlinewidth": 0,
              "ticks": ""
             }
            },
            "type": "parcoords"
           }
          ],
          "pie": [
           {
            "automargin": true,
            "type": "pie"
           }
          ],
          "scatter": [
           {
            "fillpattern": {
             "fillmode": "overlay",
             "size": 10,
             "solidity": 0.2
            },
            "type": "scatter"
           }
          ],
          "scatter3d": [
           {
            "line": {
             "colorbar": {
              "outlinewidth": 0,
              "ticks": ""
             }
            },
            "marker": {
             "colorbar": {
              "outlinewidth": 0,
              "ticks": ""
             }
            },
            "type": "scatter3d"
           }
          ],
          "scattercarpet": [
           {
            "marker": {
             "colorbar": {
              "outlinewidth": 0,
              "ticks": ""
             }
            },
            "type": "scattercarpet"
           }
          ],
          "scattergeo": [
           {
            "marker": {
             "colorbar": {
              "outlinewidth": 0,
              "ticks": ""
             }
            },
            "type": "scattergeo"
           }
          ],
          "scattergl": [
           {
            "marker": {
             "colorbar": {
              "outlinewidth": 0,
              "ticks": ""
             }
            },
            "type": "scattergl"
           }
          ],
          "scattermapbox": [
           {
            "marker": {
             "colorbar": {
              "outlinewidth": 0,
              "ticks": ""
             }
            },
            "type": "scattermapbox"
           }
          ],
          "scatterpolar": [
           {
            "marker": {
             "colorbar": {
              "outlinewidth": 0,
              "ticks": ""
             }
            },
            "type": "scatterpolar"
           }
          ],
          "scatterpolargl": [
           {
            "marker": {
             "colorbar": {
              "outlinewidth": 0,
              "ticks": ""
             }
            },
            "type": "scatterpolargl"
           }
          ],
          "scatterternary": [
           {
            "marker": {
             "colorbar": {
              "outlinewidth": 0,
              "ticks": ""
             }
            },
            "type": "scatterternary"
           }
          ],
          "surface": [
           {
            "colorbar": {
             "outlinewidth": 0,
             "ticks": ""
            },
            "colorscale": [
             [
              0,
              "#0d0887"
             ],
             [
              0.1111111111111111,
              "#46039f"
             ],
             [
              0.2222222222222222,
              "#7201a8"
             ],
             [
              0.3333333333333333,
              "#9c179e"
             ],
             [
              0.4444444444444444,
              "#bd3786"
             ],
             [
              0.5555555555555556,
              "#d8576b"
             ],
             [
              0.6666666666666666,
              "#ed7953"
             ],
             [
              0.7777777777777778,
              "#fb9f3a"
             ],
             [
              0.8888888888888888,
              "#fdca26"
             ],
             [
              1,
              "#f0f921"
             ]
            ],
            "type": "surface"
           }
          ],
          "table": [
           {
            "cells": {
             "fill": {
              "color": "#EBF0F8"
             },
             "line": {
              "color": "white"
             }
            },
            "header": {
             "fill": {
              "color": "#C8D4E3"
             },
             "line": {
              "color": "white"
             }
            },
            "type": "table"
           }
          ]
         },
         "layout": {
          "annotationdefaults": {
           "arrowcolor": "#2a3f5f",
           "arrowhead": 0,
           "arrowwidth": 1
          },
          "autotypenumbers": "strict",
          "coloraxis": {
           "colorbar": {
            "outlinewidth": 0,
            "ticks": ""
           }
          },
          "colorscale": {
           "diverging": [
            [
             0,
             "#8e0152"
            ],
            [
             0.1,
             "#c51b7d"
            ],
            [
             0.2,
             "#de77ae"
            ],
            [
             0.3,
             "#f1b6da"
            ],
            [
             0.4,
             "#fde0ef"
            ],
            [
             0.5,
             "#f7f7f7"
            ],
            [
             0.6,
             "#e6f5d0"
            ],
            [
             0.7,
             "#b8e186"
            ],
            [
             0.8,
             "#7fbc41"
            ],
            [
             0.9,
             "#4d9221"
            ],
            [
             1,
             "#276419"
            ]
           ],
           "sequential": [
            [
             0,
             "#0d0887"
            ],
            [
             0.1111111111111111,
             "#46039f"
            ],
            [
             0.2222222222222222,
             "#7201a8"
            ],
            [
             0.3333333333333333,
             "#9c179e"
            ],
            [
             0.4444444444444444,
             "#bd3786"
            ],
            [
             0.5555555555555556,
             "#d8576b"
            ],
            [
             0.6666666666666666,
             "#ed7953"
            ],
            [
             0.7777777777777778,
             "#fb9f3a"
            ],
            [
             0.8888888888888888,
             "#fdca26"
            ],
            [
             1,
             "#f0f921"
            ]
           ],
           "sequentialminus": [
            [
             0,
             "#0d0887"
            ],
            [
             0.1111111111111111,
             "#46039f"
            ],
            [
             0.2222222222222222,
             "#7201a8"
            ],
            [
             0.3333333333333333,
             "#9c179e"
            ],
            [
             0.4444444444444444,
             "#bd3786"
            ],
            [
             0.5555555555555556,
             "#d8576b"
            ],
            [
             0.6666666666666666,
             "#ed7953"
            ],
            [
             0.7777777777777778,
             "#fb9f3a"
            ],
            [
             0.8888888888888888,
             "#fdca26"
            ],
            [
             1,
             "#f0f921"
            ]
           ]
          },
          "colorway": [
           "#636efa",
           "#EF553B",
           "#00cc96",
           "#ab63fa",
           "#FFA15A",
           "#19d3f3",
           "#FF6692",
           "#B6E880",
           "#FF97FF",
           "#FECB52"
          ],
          "font": {
           "color": "#2a3f5f"
          },
          "geo": {
           "bgcolor": "white",
           "lakecolor": "white",
           "landcolor": "#E5ECF6",
           "showlakes": true,
           "showland": true,
           "subunitcolor": "white"
          },
          "hoverlabel": {
           "align": "left"
          },
          "hovermode": "closest",
          "mapbox": {
           "style": "light"
          },
          "paper_bgcolor": "white",
          "plot_bgcolor": "#E5ECF6",
          "polar": {
           "angularaxis": {
            "gridcolor": "white",
            "linecolor": "white",
            "ticks": ""
           },
           "bgcolor": "#E5ECF6",
           "radialaxis": {
            "gridcolor": "white",
            "linecolor": "white",
            "ticks": ""
           }
          },
          "scene": {
           "xaxis": {
            "backgroundcolor": "#E5ECF6",
            "gridcolor": "white",
            "gridwidth": 2,
            "linecolor": "white",
            "showbackground": true,
            "ticks": "",
            "zerolinecolor": "white"
           },
           "yaxis": {
            "backgroundcolor": "#E5ECF6",
            "gridcolor": "white",
            "gridwidth": 2,
            "linecolor": "white",
            "showbackground": true,
            "ticks": "",
            "zerolinecolor": "white"
           },
           "zaxis": {
            "backgroundcolor": "#E5ECF6",
            "gridcolor": "white",
            "gridwidth": 2,
            "linecolor": "white",
            "showbackground": true,
            "ticks": "",
            "zerolinecolor": "white"
           }
          },
          "shapedefaults": {
           "line": {
            "color": "#2a3f5f"
           }
          },
          "ternary": {
           "aaxis": {
            "gridcolor": "white",
            "linecolor": "white",
            "ticks": ""
           },
           "baxis": {
            "gridcolor": "white",
            "linecolor": "white",
            "ticks": ""
           },
           "bgcolor": "#E5ECF6",
           "caxis": {
            "gridcolor": "white",
            "linecolor": "white",
            "ticks": ""
           }
          },
          "title": {
           "x": 0.05
          },
          "xaxis": {
           "automargin": true,
           "gridcolor": "white",
           "linecolor": "white",
           "ticks": "",
           "title": {
            "standoff": 15
           },
           "zerolinecolor": "white",
           "zerolinewidth": 2
          },
          "yaxis": {
           "automargin": true,
           "gridcolor": "white",
           "linecolor": "white",
           "ticks": "",
           "title": {
            "standoff": 15
           },
           "zerolinecolor": "white",
           "zerolinewidth": 2
          }
         }
        },
        "title": {
         "text": "Rate of Tumbling = exp(-1.16 +/- alpha*receptor)"
        },
        "xaxis": {
         "title": {
          "text": "Deme"
         }
        },
        "yaxis": {
         "title": {
          "text": "Tumble Rate"
         }
        },
        "yaxis2": {
         "overlaying": "y",
         "side": "right",
         "title": {
          "text": "Theoretical Velocity [µm/s]"
         }
        }
       }
      }
     },
     "metadata": {},
     "output_type": "display_data"
    }
   ],
   "source": [
    "# Create a plot of the alpha values and polynomial fit.\n",
    "\n",
    "x_values = curve_fit_df['Position']\n",
    "\n",
    "# create traces\n",
    "trace0 = go.Scatter(\n",
    "    x = x_values,\n",
    "    y = curve_fit_df['Prob_Tum_Up'],\n",
    "    mode = 'lines',\n",
    "    name = 'Rate of tumbling going down gradient'\n",
    ")\n",
    "# The second trace\n",
    "trace1 = go.Scatter(\n",
    "    x = x_values,\n",
    "    y = curve_fit_df['Prob_Tum_Down'],\n",
    "    mode = 'lines',\n",
    "    name = 'Rate of tumbling going up gradient'\n",
    ")\n",
    "trace2 = go.Scatter(\n",
    "    x = x_values,\n",
    "    y = curve_fit_df['Theory_Vel'],\n",
    "    mode='markers',\n",
    "    name='Theoretical Velocity',\n",
    "    yaxis='y2'\n",
    ")\n",
    "\n",
    "# create the data\n",
    "data = [trace0, trace1, trace2]  # assign traces to data\n",
    "\n",
    "# create the layout\n",
    "layout = go.Layout(\n",
    "    title = \"Rate of Tumbling = exp(-1.16 +/- alpha*receptor)\",\n",
    "    yaxis = dict(title = 'Tumble Rate'),\n",
    "    yaxis2 = dict(\n",
    "        title = 'Theoretical Velocity [µm/s]',\n",
    "        overlaying = 'y',\n",
    "        side = 'right'\n",
    "        ),\n",
    "    xaxis=dict(title='Deme')\n",
    ")\n",
    "\n",
    "# crate the fig\n",
    "fig = go.Figure(data=data,layout=layout)\n",
    "fig.show()"
   ]
  },
  {
   "cell_type": "code",
   "execution_count": 7,
   "metadata": {},
   "outputs": [
    {
     "name": "stdout",
     "output_type": "stream",
     "text": [
      "The Percent Error of the mean velocity distribution compared to the theoretical velocity averaged over each deme is 0.64%\n"
     ]
    }
   ],
   "source": [
    "# Average the velocity percent error\n",
    "Velocity_Error_Mean = curve_fit_df.loc[:, 'Vel_Percent_Error'].mean()\n",
    "print(f\"The Percent Error of the mean velocity distribution compared to the theoretical velocity averaged over each deme is {Velocity_Error_Mean*100:.2f}%\")"
   ]
  },
  {
   "cell_type": "markdown",
   "metadata": {},
   "source": [
    "dN/dt = D(d^2N/dx^2) + Vd(dN/dx)"
   ]
  },
  {
   "cell_type": "markdown",
   "metadata": {},
   "source": [
    "- Save tumble rate per position for bacterial boundary.\n",
    "- Use boundary tumble rates to calculate diffusion rates for use in Gillespie.\n",
    "- Use rate calculated above for inter deme migration and direction"
   ]
  },
  {
   "cell_type": "code",
   "execution_count": 12,
   "metadata": {},
   "outputs": [],
   "source": [
    "# Tumble rate per position for bacterial boundary\n",
    "    # If this is a population boundary region mark it on the matrix as 1.\n",
    "        # Bac_Bou_Mtx(i,1) = BacBound\n",
    "    # This is the time elapsed for that boundary.\n",
    "        # Bac_Bou_Mtx(i,2) = tum_dt\n",
    "    # The rate of tumbling up and down\n",
    "        # Pr_t_up(i) = exp(-lnr - alpha(i)*Rtroc(i))\n",
    "        # Pr_t_down(i) = exp(-lnr + alpha(i)*Rtroc(i))\n",
    "    # r_bound = BacBound*Pr_t(i), (if BacBound = 1, and for Pr_t_up(i) or Pr_t_down(i))\n",
    "        # If r_bound selected:\n",
    "            # Prob_select = softmax(Pr_t(i))\n",
    "    # While the tumble bias due to the attractant gradient is maintained, the bacteria will run at a reduced speed.\n",
    "    # Total Rate = N_bac*Pr_t(i), (because the tumble rate will remain the same, (just change the run speed for species of bacteria))\n",
    "\n",
    "# Migration Rate between demes\n",
    "    # Right: D = V^2/2*Pr_t_up(i)\n",
    "    # Left: D = V^2/2*Pr_t_down(i)\n",
    "    # Use diffusion to find migration rate per deme."
   ]
  },
  {
   "cell_type": "markdown",
   "metadata": {},
   "source": [
    "Rate of Mutation\n",
    "\n",
    "Rate of mutation: m [1/bac*s]\n",
    "Number of cells: N [bac]\n",
    "Time interval: dt [s]\n",
    "\n",
    "The probability of at least one mutation (k = 1) occuring is given by the Poisson distribution:\n",
    "P(k >= 1) = 1 - P(0) = 1 - exp[-(m N dt)]"
   ]
  },
  {
   "cell_type": "markdown",
   "metadata": {},
   "source": [
    "Possible Swarm Solution"
   ]
  },
  {
   "cell_type": "code",
   "execution_count": 13,
   "metadata": {},
   "outputs": [],
   "source": [
    "# Possible Swarm Solution:\n",
    "# Population of Bacteria according to Allen: 1 -> 9*10^9 cells/mL = (1 -> 9*10^9 cells)/(10^12 µm^3) = 0.001 -> 0.009 cells/µm^3\n",
    "# The model uses around 6000 cells/deme,\n",
    "# For 0.001 cells/µm^3, density = 0.001*310 = 0.31 cells/µm^2 = 31 cells/100 µm^2\n",
    "\n",
    "\n",
    "# Density is proportional to population facter: den(N) = (1 + 31*(N/CC))\n",
    "# Now tumble rate can be proportional to the density:\n",
    "# Based on the figure, make an arctan increase proportional to population density, Vd(N) = B(N)*Vd = [(b/2)(tanh(den(N)/mxD - p) + 1) + 1]*Vd, \n",
    "    # \"b\" is the increase to the drift factor for the bacteria.  In this case \"b\" = 0.8.\n",
    "        # proportional constant is b = (0.6*Vo)/Vd.\n",
    "    # den is the density.\n",
    "    # - p is the position whereby tanh(x) ~ 0.999, p = 3.8 shifts the equation right so that [(b/2)(tanh(den(N)/mxD - p) + 1) + 1] ~ b.\n",
    "    # mxD is the 100*surface area per cell whereby the function equals B(N_max)*Vd at den = 31 cells/100 µm^2, mxD ~ 5.18  (100 µm^2/cells)."
   ]
  },
  {
   "cell_type": "code",
   "execution_count": null,
   "metadata": {},
   "outputs": [],
   "source": [
    "# Rework of above function using Sigmoid\n",
    "# Density is proportional to population facter: den(N) = (1 + 31*(N/CC))\n",
    "# Now tumble rate can be proportional to the density:\n",
    "# Based on the figure, make an arctan increase proportional to population density, Vd(N) = B(N)*Vd = [b/(1 + exp(-(den(N)/mxD - p))) + 1]*Vd, \n",
    "    # \"b\" is the increase to the drift factor for the bacteria.  In this case \"b\" = 0.8.\n",
    "        # proportional constant is b = (0.6*Vo)/Vd.\n",
    "    # den is the density.\n",
    "    # - p is the position whereby tanh(x) ~ 0.999, p = 3.8 shifts the equation right so that [b/(1 + exp(-(den(N)/mxD - p))) + 1] ~ b.\n",
    "    # mxD is the 100*surface area per cell whereby the function equals B(N_max)*Vd at den = 31 cells/100 µm^2, mxD ~ 5.18  (100 µm^2/cells)."
   ]
  },
  {
   "cell_type": "markdown",
   "metadata": {},
   "source": [
    "Change in Drift Velocity Proportional to Drift Index"
   ]
  },
  {
   "attachments": {
    "image.png": {
     "image/png": "[encoded data removed]"
    }
   },
   "cell_type": "markdown",
   "metadata": {},
   "source": [
    "![image.png](attachment:image.png)"
   ]
  },
  {
   "cell_type": "markdown",
   "metadata": {},
   "source": [
    "Tumble Rate Difference Proportional to Drift Index"
   ]
  },
  {
   "attachments": {
    "image.png": {
     "image/png": "[encoded data removed]"
    }
   },
   "cell_type": "markdown",
   "metadata": {},
   "source": [
    "![image.png](attachment:image.png)"
   ]
  },
  {
   "cell_type": "code",
   "execution_count": 10,
   "metadata": {},
   "outputs": [
    {
     "name": "stdout",
     "output_type": "stream",
     "text": [
      "0.6209859993779216\n",
      "-0.6330164332388039\n"
     ]
    }
   ],
   "source": [
    "from math import cos\n",
    "# Integrate the tumble rates to figure out run-to-tumble times.\n",
    "def integrand(x, a):\n",
    "    return a*cos(x)\n",
    "\n",
    "for i in deme_param.index.values:\n",
    "#     print(deme_param.loc[i, \"rate_tum_up\"])\n",
    "#     print(deme_param.loc[i, \"rate_tum_down\"])\n",
    "    a = deme_param.loc[i, \"rate_tum_up\"]\n",
    "    I = sp.integrate.quad(integrand, -(np.pi)/2, (np.pi)/2, args=a)\n",
    "    print(I[0])\n",
    "    a = deme_param.loc[i, \"rate_tum_down\"]\n",
    "    I = sp.integrate.quad(integrand, (np.pi)/2, (3*(np.pi))/2, args=a)\n",
    "    print(I[0])\n",
    "    break\n",
    "\n",
    "# deme_param[\"integrate_tum_up\"] = deme_param.apply(lambda x: x[\"rate_tum_up\"], axis=\"columns\")\n",
    "# deme_param"
   ]
  },
  {
   "cell_type": "markdown",
   "metadata": {},
   "source": [
    "### R and T ML Model"
   ]
  },
  {
   "attachments": {
    "image.png": {
     "image/png": "[encoded data removed]"
    }
   },
   "cell_type": "markdown",
   "metadata": {},
   "source": [
    "![image.png](attachment:image.png)"
   ]
  },
  {
   "cell_type": "code",
   "execution_count": 12,
   "metadata": {},
   "outputs": [],
   "source": [
    "mig_rate_df.to_csv(\"mig_rate_df.csv\")"
   ]
  }
 ],
 "metadata": {
  "kernelspec": {
   "display_name": "base",
   "language": "python",
   "name": "python3"
  },
  "language_info": {
   "codemirror_mode": {
    "name": "ipython",
    "version": 3
   },
   "file_extension": ".py",
   "mimetype": "text/x-python",
   "name": "python",
   "nbconvert_exporter": "python",
   "pygments_lexer": "ipython3",
   "version": "3.9.18"
  },
  "orig_nbformat": 4
 },
 "nbformat": 4,
 "nbformat_minor": 2
}
