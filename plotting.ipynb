{
 "cells": [
  {
   "cell_type": "code",
   "execution_count": 1,
   "metadata": {},
   "outputs": [],
   "source": [
    "import numpy as np\n",
    "import scipy as sp\n",
    "import pandas as pd\n",
    "import matplotlib.pyplot as plt\n",
    "import plotly.graph_objs as go\n",
    "import seaborn as sns"
   ]
  },
  {
   "cell_type": "code",
   "execution_count": 2,
   "metadata": {},
   "outputs": [
    {
     "data": {
      "text/html": [
       "<div>\n",
       "<style scoped>\n",
       "    .dataframe tbody tr th:only-of-type {\n",
       "        vertical-align: middle;\n",
       "    }\n",
       "\n",
       "    .dataframe tbody tr th {\n",
       "        vertical-align: top;\n",
       "    }\n",
       "\n",
       "    .dataframe thead th {\n",
       "        text-align: right;\n",
       "    }\n",
       "</style>\n",
       "<table border=\"1\" class=\"dataframe\">\n",
       "  <thead>\n",
       "    <tr style=\"text-align: right;\">\n",
       "      <th></th>\n",
       "      <th>deme</th>\n",
       "      <th>alpha_outliers</th>\n",
       "      <th>alpha</th>\n",
       "      <th>Curve_Fit</th>\n",
       "    </tr>\n",
       "  </thead>\n",
       "  <tbody>\n",
       "    <tr>\n",
       "      <th>0</th>\n",
       "      <td>1.0</td>\n",
       "      <td>5390.0</td>\n",
       "      <td>NaN</td>\n",
       "      <td>15491.724340</td>\n",
       "    </tr>\n",
       "    <tr>\n",
       "      <th>1</th>\n",
       "      <td>2.0</td>\n",
       "      <td>3120.0</td>\n",
       "      <td>NaN</td>\n",
       "      <td>13211.283310</td>\n",
       "    </tr>\n",
       "    <tr>\n",
       "      <th>2</th>\n",
       "      <td>3.0</td>\n",
       "      <td>6270.0</td>\n",
       "      <td>NaN</td>\n",
       "      <td>11283.390810</td>\n",
       "    </tr>\n",
       "    <tr>\n",
       "      <th>3</th>\n",
       "      <td>4.0</td>\n",
       "      <td>7150.0</td>\n",
       "      <td>NaN</td>\n",
       "      <td>9655.528751</td>\n",
       "    </tr>\n",
       "    <tr>\n",
       "      <th>4</th>\n",
       "      <td>5.0</td>\n",
       "      <td>5440.0</td>\n",
       "      <td>NaN</td>\n",
       "      <td>8282.154201</td>\n",
       "    </tr>\n",
       "    <tr>\n",
       "      <th>5</th>\n",
       "      <td>6.0</td>\n",
       "      <td>7010.0</td>\n",
       "      <td>7010.0</td>\n",
       "      <td>7123.926796</td>\n",
       "    </tr>\n",
       "    <tr>\n",
       "      <th>6</th>\n",
       "      <td>7.0</td>\n",
       "      <td>6210.0</td>\n",
       "      <td>6210.0</td>\n",
       "      <td>6147.003270</td>\n",
       "    </tr>\n",
       "    <tr>\n",
       "      <th>7</th>\n",
       "      <td>8.0</td>\n",
       "      <td>5430.0</td>\n",
       "      <td>5430.0</td>\n",
       "      <td>5322.394775</td>\n",
       "    </tr>\n",
       "    <tr>\n",
       "      <th>8</th>\n",
       "      <td>9.0</td>\n",
       "      <td>4660.0</td>\n",
       "      <td>4660.0</td>\n",
       "      <td>4625.382982</td>\n",
       "    </tr>\n",
       "    <tr>\n",
       "      <th>9</th>\n",
       "      <td>10.0</td>\n",
       "      <td>4120.0</td>\n",
       "      <td>4120.0</td>\n",
       "      <td>4034.991049</td>\n",
       "    </tr>\n",
       "  </tbody>\n",
       "</table>\n",
       "</div>"
      ],
      "text/plain": [
       "   deme  alpha_outliers   alpha     Curve_Fit\n",
       "0   1.0          5390.0     NaN  15491.724340\n",
       "1   2.0          3120.0     NaN  13211.283310\n",
       "2   3.0          6270.0     NaN  11283.390810\n",
       "3   4.0          7150.0     NaN   9655.528751\n",
       "4   5.0          5440.0     NaN   8282.154201\n",
       "5   6.0          7010.0  7010.0   7123.926796\n",
       "6   7.0          6210.0  6210.0   6147.003270\n",
       "7   8.0          5430.0  5430.0   5322.394775\n",
       "8   9.0          4660.0  4660.0   4625.382982\n",
       "9  10.0          4120.0  4120.0   4034.991049"
      ]
     },
     "execution_count": 2,
     "metadata": {},
     "output_type": "execute_result"
    }
   ],
   "source": [
    "curve_fit_df = pd.read_csv('alpha_values_MaxC_60000_Grad_0.000405_curve_fit.csv')\n",
    "curve_fit_df.head(10)"
   ]
  },
  {
   "cell_type": "code",
   "execution_count": 3,
   "metadata": {},
   "outputs": [
    {
     "data": {
      "text/html": [
       "<div>\n",
       "<style scoped>\n",
       "    .dataframe tbody tr th:only-of-type {\n",
       "        vertical-align: middle;\n",
       "    }\n",
       "\n",
       "    .dataframe tbody tr th {\n",
       "        vertical-align: top;\n",
       "    }\n",
       "\n",
       "    .dataframe thead th {\n",
       "        text-align: right;\n",
       "    }\n",
       "</style>\n",
       "<table border=\"1\" class=\"dataframe\">\n",
       "  <thead>\n",
       "    <tr style=\"text-align: right;\">\n",
       "      <th></th>\n",
       "      <th>food_conc</th>\n",
       "      <th>drift_velocity</th>\n",
       "      <th>c_x_df_l_dc</th>\n",
       "      <th>attr_time_roc</th>\n",
       "      <th>Vo_max</th>\n",
       "      <th>Row Number</th>\n",
       "    </tr>\n",
       "  </thead>\n",
       "  <tbody>\n",
       "    <tr>\n",
       "      <th>0</th>\n",
       "      <td>0.211633</td>\n",
       "      <td>0.068255</td>\n",
       "      <td>0.022403</td>\n",
       "      <td>6.192934e-07</td>\n",
       "      <td>12.521185</td>\n",
       "      <td>1</td>\n",
       "    </tr>\n",
       "    <tr>\n",
       "      <th>1</th>\n",
       "      <td>0.239944</td>\n",
       "      <td>0.077261</td>\n",
       "      <td>0.025359</td>\n",
       "      <td>7.935055e-07</td>\n",
       "      <td>12.521185</td>\n",
       "      <td>2</td>\n",
       "    </tr>\n",
       "    <tr>\n",
       "      <th>2</th>\n",
       "      <td>0.272042</td>\n",
       "      <td>0.087437</td>\n",
       "      <td>0.028699</td>\n",
       "      <td>1.016293e-06</td>\n",
       "      <td>12.521185</td>\n",
       "      <td>3</td>\n",
       "    </tr>\n",
       "    <tr>\n",
       "      <th>3</th>\n",
       "      <td>0.308433</td>\n",
       "      <td>0.098930</td>\n",
       "      <td>0.032471</td>\n",
       "      <td>1.301007e-06</td>\n",
       "      <td>12.521185</td>\n",
       "      <td>4</td>\n",
       "    </tr>\n",
       "    <tr>\n",
       "      <th>4</th>\n",
       "      <td>0.349693</td>\n",
       "      <td>0.111902</td>\n",
       "      <td>0.036729</td>\n",
       "      <td>1.664580e-06</td>\n",
       "      <td>12.521185</td>\n",
       "      <td>5</td>\n",
       "    </tr>\n",
       "  </tbody>\n",
       "</table>\n",
       "</div>"
      ],
      "text/plain": [
       "   food_conc  drift_velocity  c_x_df_l_dc  attr_time_roc     Vo_max  \\\n",
       "0   0.211633        0.068255     0.022403   6.192934e-07  12.521185   \n",
       "1   0.239944        0.077261     0.025359   7.935055e-07  12.521185   \n",
       "2   0.272042        0.087437     0.028699   1.016293e-06  12.521185   \n",
       "3   0.308433        0.098930     0.032471   1.301007e-06  12.521185   \n",
       "4   0.349693        0.111902     0.036729   1.664580e-06  12.521185   \n",
       "\n",
       "   Row Number  \n",
       "0           1  \n",
       "1           2  \n",
       "2           3  \n",
       "3           4  \n",
       "4           5  "
      ]
     },
     "execution_count": 3,
     "metadata": {},
     "output_type": "execute_result"
    }
   ],
   "source": [
    "input_param_df = pd.read_excel('input_parameters.xlsx')\n",
    "input_param_df.head()"
   ]
  },
  {
   "cell_type": "code",
   "execution_count": 4,
   "metadata": {},
   "outputs": [
    {
     "data": {
      "text/html": [
       "<div>\n",
       "<style scoped>\n",
       "    .dataframe tbody tr th:only-of-type {\n",
       "        vertical-align: middle;\n",
       "    }\n",
       "\n",
       "    .dataframe tbody tr th {\n",
       "        vertical-align: top;\n",
       "    }\n",
       "\n",
       "    .dataframe thead th {\n",
       "        text-align: right;\n",
       "    }\n",
       "</style>\n",
       "<table border=\"1\" class=\"dataframe\">\n",
       "  <thead>\n",
       "    <tr style=\"text-align: right;\">\n",
       "      <th></th>\n",
       "      <th>food_conc</th>\n",
       "      <th>drift_velocity</th>\n",
       "      <th>c_x_df_l_dc</th>\n",
       "      <th>attr_time_roc</th>\n",
       "      <th>Vo_max</th>\n",
       "      <th>Row Number</th>\n",
       "      <th>rate_tum_up</th>\n",
       "      <th>rate_tum_down</th>\n",
       "    </tr>\n",
       "  </thead>\n",
       "  <tbody>\n",
       "    <tr>\n",
       "      <th>0</th>\n",
       "      <td>0.211633</td>\n",
       "      <td>0.068255</td>\n",
       "      <td>0.022403</td>\n",
       "      <td>6.192934e-07</td>\n",
       "      <td>12.521185</td>\n",
       "      <td>1</td>\n",
       "      <td>0.310493</td>\n",
       "      <td>0.316508</td>\n",
       "    </tr>\n",
       "    <tr>\n",
       "      <th>1</th>\n",
       "      <td>0.239944</td>\n",
       "      <td>0.077261</td>\n",
       "      <td>0.025359</td>\n",
       "      <td>7.935055e-07</td>\n",
       "      <td>12.521185</td>\n",
       "      <td>2</td>\n",
       "      <td>0.310217</td>\n",
       "      <td>0.316790</td>\n",
       "    </tr>\n",
       "    <tr>\n",
       "      <th>2</th>\n",
       "      <td>0.272042</td>\n",
       "      <td>0.087437</td>\n",
       "      <td>0.028699</td>\n",
       "      <td>1.016293e-06</td>\n",
       "      <td>12.521185</td>\n",
       "      <td>3</td>\n",
       "      <td>0.309912</td>\n",
       "      <td>0.317102</td>\n",
       "    </tr>\n",
       "    <tr>\n",
       "      <th>3</th>\n",
       "      <td>0.308433</td>\n",
       "      <td>0.098930</td>\n",
       "      <td>0.032471</td>\n",
       "      <td>1.301007e-06</td>\n",
       "      <td>12.521185</td>\n",
       "      <td>4</td>\n",
       "      <td>0.309573</td>\n",
       "      <td>0.317449</td>\n",
       "    </tr>\n",
       "    <tr>\n",
       "      <th>4</th>\n",
       "      <td>0.349693</td>\n",
       "      <td>0.111902</td>\n",
       "      <td>0.036729</td>\n",
       "      <td>1.664580e-06</td>\n",
       "      <td>12.521185</td>\n",
       "      <td>5</td>\n",
       "      <td>0.309194</td>\n",
       "      <td>0.317838</td>\n",
       "    </tr>\n",
       "  </tbody>\n",
       "</table>\n",
       "</div>"
      ],
      "text/plain": [
       "   food_conc  drift_velocity  c_x_df_l_dc  attr_time_roc     Vo_max  \\\n",
       "0   0.211633        0.068255     0.022403   6.192934e-07  12.521185   \n",
       "1   0.239944        0.077261     0.025359   7.935055e-07  12.521185   \n",
       "2   0.272042        0.087437     0.028699   1.016293e-06  12.521185   \n",
       "3   0.308433        0.098930     0.032471   1.301007e-06  12.521185   \n",
       "4   0.349693        0.111902     0.036729   1.664580e-06  12.521185   \n",
       "\n",
       "   Row Number  rate_tum_up  rate_tum_down  \n",
       "0           1     0.310493       0.316508  \n",
       "1           2     0.310217       0.316790  \n",
       "2           3     0.309912       0.317102  \n",
       "3           4     0.309573       0.317449  \n",
       "4           5     0.309194       0.317838  "
      ]
     },
     "execution_count": 4,
     "metadata": {},
     "output_type": "execute_result"
    }
   ],
   "source": [
    "Grad = 0.000405 # µm^-1\n",
    "# Receptor Probability is the component in the exponential function that's a byproduct of the alpha value and the receptor sensitivity.\n",
    "# \"attr_time_roc\" is the time rate of change of receptor (attractant from food) protein bound, = input_param_df['drift_velocity'] * Grad * input_param_df['c_x_df_l_dc']\n",
    "input_param_df['rate_tum_up'] = np.exp(-1.16 - curve_fit_df['Curve_Fit']*input_param_df['attr_time_roc'])\n",
    "input_param_df['rate_tum_down'] = np.exp(-1.16 + curve_fit_df['Curve_Fit']*input_param_df['attr_time_roc'])\n",
    "input_param_df.head()"
   ]
  },
  {
   "cell_type": "code",
   "execution_count": 5,
   "metadata": {},
   "outputs": [
    {
     "data": {
      "application/vnd.plotly.v1+json": {
       "config": {
        "plotlyServerURL": "https://plot.ly"
       },
       "data": [
        {
         "mode": "markers",
         "name": "alpha value points",
         "type": "scatter",
         "x": [
          1,
          2,
          3,
          4,
          5,
          6,
          7,
          8,
          9,
          10,
          11,
          12,
          13,
          14,
          15,
          16,
          17,
          18,
          19,
          20,
          21,
          22,
          23,
          24,
          25,
          26,
          27,
          28,
          29,
          30,
          31,
          32,
          33,
          34,
          35,
          36,
          37,
          38,
          39,
          40,
          41,
          42,
          43,
          44,
          45,
          46,
          47,
          48,
          49,
          50,
          51,
          52,
          53,
          54,
          55,
          56,
          57,
          58,
          59,
          60,
          61,
          62,
          63,
          64,
          65,
          66,
          67,
          68,
          69,
          70,
          71,
          72,
          73,
          74,
          75,
          76,
          77,
          78,
          79,
          80,
          81,
          82,
          83,
          84,
          85,
          86,
          87,
          88,
          89,
          90,
          91,
          92,
          93,
          94,
          95,
          96,
          97,
          98,
          99,
          100,
          null
         ],
         "y": [
          null,
          null,
          null,
          null,
          null,
          7010,
          6210,
          5430,
          4660,
          4120,
          3490,
          2980,
          2640,
          2340,
          2300,
          1910,
          1750,
          1520,
          1340,
          1280,
          1110,
          980,
          890,
          805,
          735,
          675,
          610,
          555,
          510,
          470,
          445,
          420,
          385,
          365,
          345,
          330,
          310,
          300,
          290,
          280,
          270,
          265,
          260,
          260,
          255,
          255,
          250,
          250,
          250,
          255,
          255,
          255,
          260,
          265,
          275,
          280,
          290,
          300,
          310,
          320,
          340,
          355,
          375,
          400,
          425,
          450,
          480,
          515,
          555,
          595,
          630,
          680,
          725,
          765,
          805,
          845,
          880,
          895,
          920,
          925,
          905,
          865,
          850,
          825,
          770,
          730,
          675,
          620,
          580,
          540,
          485,
          450,
          410,
          370,
          330,
          305,
          280,
          260,
          230,
          200,
          190
         ]
        },
        {
         "mode": "markers",
         "name": "alpha value outliers",
         "type": "scatter",
         "x": [
          1,
          2,
          3,
          4,
          5,
          6,
          7,
          8,
          9,
          10,
          11,
          12,
          13,
          14,
          15,
          16,
          17,
          18,
          19,
          20,
          21,
          22,
          23,
          24,
          25,
          26,
          27,
          28,
          29,
          30,
          31,
          32,
          33,
          34,
          35,
          36,
          37,
          38,
          39,
          40,
          41,
          42,
          43,
          44,
          45,
          46,
          47,
          48,
          49,
          50,
          51,
          52,
          53,
          54,
          55,
          56,
          57,
          58,
          59,
          60,
          61,
          62,
          63,
          64,
          65,
          66,
          67,
          68,
          69,
          70,
          71,
          72,
          73,
          74,
          75,
          76,
          77,
          78,
          79,
          80,
          81,
          82,
          83,
          84,
          85,
          86,
          87,
          88,
          89,
          90,
          91,
          92,
          93,
          94,
          95,
          96,
          97,
          98,
          99,
          100,
          null
         ],
         "y": [
          5390,
          3120,
          6270,
          7150,
          5440
         ]
        },
        {
         "mode": "lines",
         "name": "polynomial fit",
         "type": "scatter",
         "x": [
          1,
          2,
          3,
          4,
          5,
          6,
          7,
          8,
          9,
          10,
          11,
          12,
          13,
          14,
          15,
          16,
          17,
          18,
          19,
          20,
          21,
          22,
          23,
          24,
          25,
          26,
          27,
          28,
          29,
          30,
          31,
          32,
          33,
          34,
          35,
          36,
          37,
          38,
          39,
          40,
          41,
          42,
          43,
          44,
          45,
          46,
          47,
          48,
          49,
          50,
          51,
          52,
          53,
          54,
          55,
          56,
          57,
          58,
          59,
          60,
          61,
          62,
          63,
          64,
          65,
          66,
          67,
          68,
          69,
          70,
          71,
          72,
          73,
          74,
          75,
          76,
          77,
          78,
          79,
          80,
          81,
          82,
          83,
          84,
          85,
          86,
          87,
          88,
          89,
          90,
          91,
          92,
          93,
          94,
          95,
          96,
          97,
          98,
          99,
          100,
          null
         ],
         "y": [
          15491.72434,
          13211.28331,
          11283.39081,
          9655.528751,
          8282.154201,
          7123.926796,
          6147.00327,
          5322.394775,
          4625.382982,
          4034.991049,
          3533.505737,
          3106.047109,
          2740.182402,
          2425.580831,
          2153.706205,
          1917.544428,
          1711.363071,
          1530.500337,
          1371.180913,
          1230.356315,
          1105.567449,
          994.8272813,
          896.5215948,
          809.3259515,
          732.1370961,
          664.0171451,
          604.1490224,
          551.8017059,
          506.3039583,
          467.025313,
          433.363185,
          404.7350717,
          380.5748977,
          360.3326472,
          343.4765099,
          329.4968488,
          317.9113739,
          308.270982,
          300.1657912,
          293.2309671,
          287.1520019,
          281.6691674,
          276.5809199,
          271.7460888,
          267.084733,
          262.5775914,
          258.264103,
          254.2390085,
          250.6475833,
          247.679585,
          245.5620292,
          244.5509333,
          244.9221914,
          246.9617631,
          250.9553767,
          257.1779584,
          265.8830113,
          277.2921713,
          291.5851729,
          308.8904564,
          329.2766427,
          352.745098,
          379.2237961,
          408.5626759,
          440.5306722,
          474.8145768,
          511.0198648,
          548.6735914,
          587.2294354,
          626.0749304,
          664.5408861,
          701.9129642,
          737.4453254,
          770.3762187,
          799.9453319,
          825.4126677,
          846.0786529,
          861.3051257,
          870.5367809,
          873.3225881,
          869.3366211,
          858.3976673,
          840.4869037,
          815.7628475,
          784.5727006,
          747.4591242,
          705.1613821,
          658.6097005,
          608.9115925,
          557.3287914,
          505.2433349,
          454.111232,
          405.4020318,
          360.5224985,
          320.7224799,
          286.9809301,
          259.869927,
          239.3943915,
          224.8050855,
          214.3823301,
          205.1877448
         ]
        }
       ],
       "layout": {
        "template": {
         "data": {
          "bar": [
           {
            "error_x": {
             "color": "#2a3f5f"
            },
            "error_y": {
             "color": "#2a3f5f"
            },
            "marker": {
             "line": {
              "color": "#E5ECF6",
              "width": 0.5
             },
             "pattern": {
              "fillmode": "overlay",
              "size": 10,
              "solidity": 0.2
             }
            },
            "type": "bar"
           }
          ],
          "barpolar": [
           {
            "marker": {
             "line": {
              "color": "#E5ECF6",
              "width": 0.5
             },
             "pattern": {
              "fillmode": "overlay",
              "size": 10,
              "solidity": 0.2
             }
            },
            "type": "barpolar"
           }
          ],
          "carpet": [
           {
            "aaxis": {
             "endlinecolor": "#2a3f5f",
             "gridcolor": "white",
             "linecolor": "white",
             "minorgridcolor": "white",
             "startlinecolor": "#2a3f5f"
            },
            "baxis": {
             "endlinecolor": "#2a3f5f",
             "gridcolor": "white",
             "linecolor": "white",
             "minorgridcolor": "white",
             "startlinecolor": "#2a3f5f"
            },
            "type": "carpet"
           }
          ],
          "choropleth": [
           {
            "colorbar": {
             "outlinewidth": 0,
             "ticks": ""
            },
            "type": "choropleth"
           }
          ],
          "contour": [
           {
            "colorbar": {
             "outlinewidth": 0,
             "ticks": ""
            },
            "colorscale": [
             [
              0,
              "#0d0887"
             ],
             [
              0.1111111111111111,
              "#46039f"
             ],
             [
              0.2222222222222222,
              "#7201a8"
             ],
             [
              0.3333333333333333,
              "#9c179e"
             ],
             [
              0.4444444444444444,
              "#bd3786"
             ],
             [
              0.5555555555555556,
              "#d8576b"
             ],
             [
              0.6666666666666666,
              "#ed7953"
             ],
             [
              0.7777777777777778,
              "#fb9f3a"
             ],
             [
              0.8888888888888888,
              "#fdca26"
             ],
             [
              1,
              "#f0f921"
             ]
            ],
            "type": "contour"
           }
          ],
          "contourcarpet": [
           {
            "colorbar": {
             "outlinewidth": 0,
             "ticks": ""
            },
            "type": "contourcarpet"
           }
          ],
          "heatmap": [
           {
            "colorbar": {
             "outlinewidth": 0,
             "ticks": ""
            },
            "colorscale": [
             [
              0,
              "#0d0887"
             ],
             [
              0.1111111111111111,
              "#46039f"
             ],
             [
              0.2222222222222222,
              "#7201a8"
             ],
             [
              0.3333333333333333,
              "#9c179e"
             ],
             [
              0.4444444444444444,
              "#bd3786"
             ],
             [
              0.5555555555555556,
              "#d8576b"
             ],
             [
              0.6666666666666666,
              "#ed7953"
             ],
             [
              0.7777777777777778,
              "#fb9f3a"
             ],
             [
              0.8888888888888888,
              "#fdca26"
             ],
             [
              1,
              "#f0f921"
             ]
            ],
            "type": "heatmap"
           }
          ],
          "heatmapgl": [
           {
            "colorbar": {
             "outlinewidth": 0,
             "ticks": ""
            },
            "colorscale": [
             [
              0,
              "#0d0887"
             ],
             [
              0.1111111111111111,
              "#46039f"
             ],
             [
              0.2222222222222222,
              "#7201a8"
             ],
             [
              0.3333333333333333,
              "#9c179e"
             ],
             [
              0.4444444444444444,
              "#bd3786"
             ],
             [
              0.5555555555555556,
              "#d8576b"
             ],
             [
              0.6666666666666666,
              "#ed7953"
             ],
             [
              0.7777777777777778,
              "#fb9f3a"
             ],
             [
              0.8888888888888888,
              "#fdca26"
             ],
             [
              1,
              "#f0f921"
             ]
            ],
            "type": "heatmapgl"
           }
          ],
          "histogram": [
           {
            "marker": {
             "pattern": {
              "fillmode": "overlay",
              "size": 10,
              "solidity": 0.2
             }
            },
            "type": "histogram"
           }
          ],
          "histogram2d": [
           {
            "colorbar": {
             "outlinewidth": 0,
             "ticks": ""
            },
            "colorscale": [
             [
              0,
              "#0d0887"
             ],
             [
              0.1111111111111111,
              "#46039f"
             ],
             [
              0.2222222222222222,
              "#7201a8"
             ],
             [
              0.3333333333333333,
              "#9c179e"
             ],
             [
              0.4444444444444444,
              "#bd3786"
             ],
             [
              0.5555555555555556,
              "#d8576b"
             ],
             [
              0.6666666666666666,
              "#ed7953"
             ],
             [
              0.7777777777777778,
              "#fb9f3a"
             ],
             [
              0.8888888888888888,
              "#fdca26"
             ],
             [
              1,
              "#f0f921"
             ]
            ],
            "type": "histogram2d"
           }
          ],
          "histogram2dcontour": [
           {
            "colorbar": {
             "outlinewidth": 0,
             "ticks": ""
            },
            "colorscale": [
             [
              0,
              "#0d0887"
             ],
             [
              0.1111111111111111,
              "#46039f"
             ],
             [
              0.2222222222222222,
              "#7201a8"
             ],
             [
              0.3333333333333333,
              "#9c179e"
             ],
             [
              0.4444444444444444,
              "#bd3786"
             ],
             [
              0.5555555555555556,
              "#d8576b"
             ],
             [
              0.6666666666666666,
              "#ed7953"
             ],
             [
              0.7777777777777778,
              "#fb9f3a"
             ],
             [
              0.8888888888888888,
              "#fdca26"
             ],
             [
              1,
              "#f0f921"
             ]
            ],
            "type": "histogram2dcontour"
           }
          ],
          "mesh3d": [
           {
            "colorbar": {
             "outlinewidth": 0,
             "ticks": ""
            },
            "type": "mesh3d"
           }
          ],
          "parcoords": [
           {
            "line": {
             "colorbar": {
              "outlinewidth": 0,
              "ticks": ""
             }
            },
            "type": "parcoords"
           }
          ],
          "pie": [
           {
            "automargin": true,
            "type": "pie"
           }
          ],
          "scatter": [
           {
            "fillpattern": {
             "fillmode": "overlay",
             "size": 10,
             "solidity": 0.2
            },
            "type": "scatter"
           }
          ],
          "scatter3d": [
           {
            "line": {
             "colorbar": {
              "outlinewidth": 0,
              "ticks": ""
             }
            },
            "marker": {
             "colorbar": {
              "outlinewidth": 0,
              "ticks": ""
             }
            },
            "type": "scatter3d"
           }
          ],
          "scattercarpet": [
           {
            "marker": {
             "colorbar": {
              "outlinewidth": 0,
              "ticks": ""
             }
            },
            "type": "scattercarpet"
           }
          ],
          "scattergeo": [
           {
            "marker": {
             "colorbar": {
              "outlinewidth": 0,
              "ticks": ""
             }
            },
            "type": "scattergeo"
           }
          ],
          "scattergl": [
           {
            "marker": {
             "colorbar": {
              "outlinewidth": 0,
              "ticks": ""
             }
            },
            "type": "scattergl"
           }
          ],
          "scattermapbox": [
           {
            "marker": {
             "colorbar": {
              "outlinewidth": 0,
              "ticks": ""
             }
            },
            "type": "scattermapbox"
           }
          ],
          "scatterpolar": [
           {
            "marker": {
             "colorbar": {
              "outlinewidth": 0,
              "ticks": ""
             }
            },
            "type": "scatterpolar"
           }
          ],
          "scatterpolargl": [
           {
            "marker": {
             "colorbar": {
              "outlinewidth": 0,
              "ticks": ""
             }
            },
            "type": "scatterpolargl"
           }
          ],
          "scatterternary": [
           {
            "marker": {
             "colorbar": {
              "outlinewidth": 0,
              "ticks": ""
             }
            },
            "type": "scatterternary"
           }
          ],
          "surface": [
           {
            "colorbar": {
             "outlinewidth": 0,
             "ticks": ""
            },
            "colorscale": [
             [
              0,
              "#0d0887"
             ],
             [
              0.1111111111111111,
              "#46039f"
             ],
             [
              0.2222222222222222,
              "#7201a8"
             ],
             [
              0.3333333333333333,
              "#9c179e"
             ],
             [
              0.4444444444444444,
              "#bd3786"
             ],
             [
              0.5555555555555556,
              "#d8576b"
             ],
             [
              0.6666666666666666,
              "#ed7953"
             ],
             [
              0.7777777777777778,
              "#fb9f3a"
             ],
             [
              0.8888888888888888,
              "#fdca26"
             ],
             [
              1,
              "#f0f921"
             ]
            ],
            "type": "surface"
           }
          ],
          "table": [
           {
            "cells": {
             "fill": {
              "color": "#EBF0F8"
             },
             "line": {
              "color": "white"
             }
            },
            "header": {
             "fill": {
              "color": "#C8D4E3"
             },
             "line": {
              "color": "white"
             }
            },
            "type": "table"
           }
          ]
         },
         "layout": {
          "annotationdefaults": {
           "arrowcolor": "#2a3f5f",
           "arrowhead": 0,
           "arrowwidth": 1
          },
          "autotypenumbers": "strict",
          "coloraxis": {
           "colorbar": {
            "outlinewidth": 0,
            "ticks": ""
           }
          },
          "colorscale": {
           "diverging": [
            [
             0,
             "#8e0152"
            ],
            [
             0.1,
             "#c51b7d"
            ],
            [
             0.2,
             "#de77ae"
            ],
            [
             0.3,
             "#f1b6da"
            ],
            [
             0.4,
             "#fde0ef"
            ],
            [
             0.5,
             "#f7f7f7"
            ],
            [
             0.6,
             "#e6f5d0"
            ],
            [
             0.7,
             "#b8e186"
            ],
            [
             0.8,
             "#7fbc41"
            ],
            [
             0.9,
             "#4d9221"
            ],
            [
             1,
             "#276419"
            ]
           ],
           "sequential": [
            [
             0,
             "#0d0887"
            ],
            [
             0.1111111111111111,
             "#46039f"
            ],
            [
             0.2222222222222222,
             "#7201a8"
            ],
            [
             0.3333333333333333,
             "#9c179e"
            ],
            [
             0.4444444444444444,
             "#bd3786"
            ],
            [
             0.5555555555555556,
             "#d8576b"
            ],
            [
             0.6666666666666666,
             "#ed7953"
            ],
            [
             0.7777777777777778,
             "#fb9f3a"
            ],
            [
             0.8888888888888888,
             "#fdca26"
            ],
            [
             1,
             "#f0f921"
            ]
           ],
           "sequentialminus": [
            [
             0,
             "#0d0887"
            ],
            [
             0.1111111111111111,
             "#46039f"
            ],
            [
             0.2222222222222222,
             "#7201a8"
            ],
            [
             0.3333333333333333,
             "#9c179e"
            ],
            [
             0.4444444444444444,
             "#bd3786"
            ],
            [
             0.5555555555555556,
             "#d8576b"
            ],
            [
             0.6666666666666666,
             "#ed7953"
            ],
            [
             0.7777777777777778,
             "#fb9f3a"
            ],
            [
             0.8888888888888888,
             "#fdca26"
            ],
            [
             1,
             "#f0f921"
            ]
           ]
          },
          "colorway": [
           "#636efa",
           "#EF553B",
           "#00cc96",
           "#ab63fa",
           "#FFA15A",
           "#19d3f3",
           "#FF6692",
           "#B6E880",
           "#FF97FF",
           "#FECB52"
          ],
          "font": {
           "color": "#2a3f5f"
          },
          "geo": {
           "bgcolor": "white",
           "lakecolor": "white",
           "landcolor": "#E5ECF6",
           "showlakes": true,
           "showland": true,
           "subunitcolor": "white"
          },
          "hoverlabel": {
           "align": "left"
          },
          "hovermode": "closest",
          "mapbox": {
           "style": "light"
          },
          "paper_bgcolor": "white",
          "plot_bgcolor": "#E5ECF6",
          "polar": {
           "angularaxis": {
            "gridcolor": "white",
            "linecolor": "white",
            "ticks": ""
           },
           "bgcolor": "#E5ECF6",
           "radialaxis": {
            "gridcolor": "white",
            "linecolor": "white",
            "ticks": ""
           }
          },
          "scene": {
           "xaxis": {
            "backgroundcolor": "#E5ECF6",
            "gridcolor": "white",
            "gridwidth": 2,
            "linecolor": "white",
            "showbackground": true,
            "ticks": "",
            "zerolinecolor": "white"
           },
           "yaxis": {
            "backgroundcolor": "#E5ECF6",
            "gridcolor": "white",
            "gridwidth": 2,
            "linecolor": "white",
            "showbackground": true,
            "ticks": "",
            "zerolinecolor": "white"
           },
           "zaxis": {
            "backgroundcolor": "#E5ECF6",
            "gridcolor": "white",
            "gridwidth": 2,
            "linecolor": "white",
            "showbackground": true,
            "ticks": "",
            "zerolinecolor": "white"
           }
          },
          "shapedefaults": {
           "line": {
            "color": "#2a3f5f"
           }
          },
          "ternary": {
           "aaxis": {
            "gridcolor": "white",
            "linecolor": "white",
            "ticks": ""
           },
           "baxis": {
            "gridcolor": "white",
            "linecolor": "white",
            "ticks": ""
           },
           "bgcolor": "#E5ECF6",
           "caxis": {
            "gridcolor": "white",
            "linecolor": "white",
            "ticks": ""
           }
          },
          "title": {
           "x": 0.05
          },
          "xaxis": {
           "automargin": true,
           "gridcolor": "white",
           "linecolor": "white",
           "ticks": "",
           "title": {
            "standoff": 15
           },
           "zerolinecolor": "white",
           "zerolinewidth": 2
          },
          "yaxis": {
           "automargin": true,
           "gridcolor": "white",
           "linecolor": "white",
           "ticks": "",
           "title": {
            "standoff": 15
           },
           "zerolinecolor": "white",
           "zerolinewidth": 2
          }
         }
        },
        "title": {
         "text": "Alpha values and polynomial curve fit.  Outliers are where receptor sensitivity is too low that the program cannot calculate exponentially increasing values."
        },
        "yaxis": {
         "title": {
          "text": "Alpha"
         }
        }
       }
      }
     },
     "metadata": {},
     "output_type": "display_data"
    }
   ],
   "source": [
    "# Create a plot of the alpha values and polynomial fit.\n",
    "\n",
    "x_values = curve_fit_df['deme']\n",
    "\n",
    "# create traces\n",
    "trace0 = go.Scatter(\n",
    "    x = x_values,\n",
    "    y = curve_fit_df['alpha'],\n",
    "    mode = 'markers',\n",
    "    name = 'alpha value points'\n",
    ")\n",
    "# The second trace\n",
    "trace1 = go.Scatter(\n",
    "    x = x_values,\n",
    "    y = curve_fit_df.loc[:4, 'alpha_outliers'],\n",
    "    mode = 'markers',\n",
    "    name = 'alpha value outliers'\n",
    ")\n",
    "# The third trace\n",
    "trace2 = go.Scatter(\n",
    "    x = x_values,\n",
    "    y = curve_fit_df['Curve_Fit'],\n",
    "    mode = 'lines',\n",
    "    name = 'polynomial fit'\n",
    ")\n",
    "\n",
    "# create the data\n",
    "data = [trace0, trace1, trace2]  # assign traces to data\n",
    "\n",
    "# create the layout\n",
    "layout = go.Layout(\n",
    "    title = 'Alpha values and polynomial curve fit.  Outliers are where receptor sensitivity is too low that the program cannot calculate exponentially increasing values.',\n",
    "    yaxis = dict(title = 'Alpha')\n",
    ")\n",
    "\n",
    "# crate the fig\n",
    "fig = go.Figure(data=data,layout=layout)\n",
    "fig.show()"
   ]
  },
  {
   "cell_type": "code",
   "execution_count": 6,
   "metadata": {},
   "outputs": [
    {
     "data": {
      "application/vnd.plotly.v1+json": {
       "config": {
        "plotlyServerURL": "https://plot.ly"
       },
       "data": [
        {
         "mode": "lines",
         "name": "Rate of tumbling going down gradient",
         "type": "scatter",
         "x": [
          1,
          2,
          3,
          4,
          5,
          6,
          7,
          8,
          9,
          10,
          11,
          12,
          13,
          14,
          15,
          16,
          17,
          18,
          19,
          20,
          21,
          22,
          23,
          24,
          25,
          26,
          27,
          28,
          29,
          30,
          31,
          32,
          33,
          34,
          35,
          36,
          37,
          38,
          39,
          40,
          41,
          42,
          43,
          44,
          45,
          46,
          47,
          48,
          49,
          50,
          51,
          52,
          53,
          54,
          55,
          56,
          57,
          58,
          59,
          60,
          61,
          62,
          63,
          64,
          65,
          66,
          67,
          68,
          69,
          70,
          71,
          72,
          73,
          74,
          75,
          76,
          77,
          78,
          79,
          80,
          81,
          82,
          83,
          84,
          85,
          86,
          87,
          88,
          89,
          90,
          91,
          92,
          93,
          94,
          95,
          96,
          97,
          98,
          99,
          100,
          null
         ],
         "y": [
          0.31650821661940204,
          0.31678981341492496,
          0.3171016896635298,
          0.3174490032231198,
          0.3178379263210372,
          0.3182757750465144,
          0.3187711318435651,
          0.3193339528779632,
          0.3199756507069521,
          0.320709141435629,
          0.32154884492316554,
          0.3225106268965893,
          0.3236116734931414,
          0.3248702923616465,
          0.3263056403677287,
          0.3279373870617736,
          0.32978533530459764,
          0.3318690359002064,
          0.3342074514826293,
          0.33681874390796834,
          0.33972027577761404,
          0.34292892668654706,
          0.34646181950545035,
          0.3503375253216284,
          0.35457775872339303,
          0.35920948267832925,
          0.3642672156807885,
          0.3697951823695747,
          0.37584879456616793,
          0.3824948233075454,
          0.38980956205137085,
          0.3978743226937408,
          0.4067677760163116,
          0.4165549616010998,
          0.4272732484466608,
          0.43891611626791877,
          0.4514163183068239,
          0.4646307187423809,
          0.47832974363816727,
          0.4921947378075414,
          0.5058263015771607,
          0.5187656211854598,
          0.5305287906123823,
          0.5406513546193392,
          0.5487373889517616,
          0.554505268108903,
          0.5578217624998769,
          0.5587177021618124,
          0.5573819028614704,
          0.5541344090121115,
          0.5493840756919474,
          0.5435779930597483,
          0.5371507801384312,
          0.5304805834824354,
          0.5238564408193336,
          0.5174593274205599,
          0.5113572794922795,
          0.5055136547874233,
          0.49980670552119677,
          0.4940578994912107,
          0.48806563461287084,
          0.48164019628484345,
          0.4746352963984914,
          0.46697172519819985,
          0.4586497938970652,
          0.4497492596633617,
          0.4404178185778624,
          0.43085133095880923,
          0.4212701192393027,
          0.41189571018114174,
          0.4029314571393595,
          0.39454902440286016,
          0.3868812387032771,
          0.38002067262914596,
          0.3740226631335529,
          0.36891125010955145,
          0.3646866102023805,
          0.3613328071869142,
          0.35882496305665074,
          0.3571352035493212,
          0.356236922435119,
          0.3561070482661192,
          0.35672610952897227,
          0.35807601658782373,
          0.36013565522735147,
          0.36287467029989423,
          0.36624626482779865,
          0.3701804979649726,
          0.3745804339667801,
          0.3793244611548309,
          0.38427885074143264,
          0.38932457288837896,
          0.3944007099030548,
          0.3995626872603883,
          0.4050465861156292,
          0.4113212498091305,
          0.41909788040124146,
          0.42924985897504886,
          0.44256514561654364,
          0.4591964123859618,
          0.47759392143858126
         ]
        },
        {
         "mode": "lines",
         "name": "Rate of tumbling going up gradient",
         "type": "scatter",
         "x": [
          1,
          2,
          3,
          4,
          5,
          6,
          7,
          8,
          9,
          10,
          11,
          12,
          13,
          14,
          15,
          16,
          17,
          18,
          19,
          20,
          21,
          22,
          23,
          24,
          25,
          26,
          27,
          28,
          29,
          30,
          31,
          32,
          33,
          34,
          35,
          36,
          37,
          38,
          39,
          40,
          41,
          42,
          43,
          44,
          45,
          46,
          47,
          48,
          49,
          50,
          51,
          52,
          53,
          54,
          55,
          56,
          57,
          58,
          59,
          60,
          61,
          62,
          63,
          64,
          65,
          66,
          67,
          68,
          69,
          70,
          71,
          72,
          73,
          74,
          75,
          76,
          77,
          78,
          79,
          80,
          81,
          82,
          83,
          84,
          85,
          86,
          87,
          88,
          89,
          90,
          91,
          92,
          93,
          94,
          95,
          96,
          97,
          98,
          99,
          100,
          null
         ],
         "y": [
          0.3104929996889608,
          0.3102170001774798,
          0.30991189516724954,
          0.3095728277820098,
          0.3091940182906264,
          0.3087686632449465,
          0.3082888498591795,
          0.30774549564392184,
          0.3071283248810856,
          0.30642589470461506,
          0.3056256837988149,
          0.30471425562008614,
          0.3036775050280884,
          0.30250099167258765,
          0.3011703551725694,
          0.29967179553653556,
          0.29799258815918456,
          0.2961215870525281,
          0.29404965439398467,
          0.29176994268232775,
          0.2892779519250505,
          0.2865712920572261,
          0.2836491066884083,
          0.2805111599567908,
          0.2771566551669278,
          0.27358293793252997,
          0.26978432692795445,
          0.26575139506859924,
          0.26147106768772826,
          0.2569278840287586,
          0.2521066571255905,
          0.2469965514211042,
          0.24159629006703995,
          0.23591985371301383,
          0.230001728312344,
          0.22390060870850864,
          0.2177005606996374,
          0.21150901488037493,
          0.2054515465772512,
          0.19966403144031294,
          0.19428326541728969,
          0.1894373520353781,
          0.185237045271239,
          0.18176886965085629,
          0.1790903765316429,
          0.17722750577197574,
          0.17617381072396443,
          0.1758913047217182,
          0.17631283882710863,
          0.17734611676535256,
          0.17887956705076735,
          0.18079022119933327,
          0.18295344480191403,
          0.18525387858538928,
          0.18759640608915204,
          0.18991557480321672,
          0.1921818453468311,
          0.1944034244647401,
          0.19662318356029693,
          0.1989110703534249,
          0.20135321693425773,
          0.20403941855850055,
          0.20705073210959352,
          0.21044868522318058,
          0.21426715309157443,
          0.2185074983290012,
          0.22313716988493631,
          0.22809163751604336,
          0.2332792693244336,
          0.23858851445950532,
          0.24389653342546605,
          0.2490782628422313,
          0.2540148649589431,
          0.25860063065638705,
          0.26274767625316553,
          0.266388150470278,
          0.2694740713124215,
          0.27197526393867,
          0.2738761115369954,
          0.2751719366438479,
          0.27586580563461943,
          0.27596641538788524,
          0.2754875042203213,
          0.2744489467371474,
          0.27287935581474715,
          0.2708196345673406,
          0.26832651972728716,
          0.26547477823550947,
          0.26235643053656404,
          0.2590752658164291,
          0.25573508772275966,
          0.2524207112725377,
          0.24917192879423966,
          0.24595285980824905,
          0.24262292035787525,
          0.23892173246571732,
          0.2344883861265895,
          0.22894261593705947,
          0.22205450785658967,
          0.21401209363491508,
          0.2057680828691191
         ]
        }
       ],
       "layout": {
        "template": {
         "data": {
          "bar": [
           {
            "error_x": {
             "color": "#2a3f5f"
            },
            "error_y": {
             "color": "#2a3f5f"
            },
            "marker": {
             "line": {
              "color": "#E5ECF6",
              "width": 0.5
             },
             "pattern": {
              "fillmode": "overlay",
              "size": 10,
              "solidity": 0.2
             }
            },
            "type": "bar"
           }
          ],
          "barpolar": [
           {
            "marker": {
             "line": {
              "color": "#E5ECF6",
              "width": 0.5
             },
             "pattern": {
              "fillmode": "overlay",
              "size": 10,
              "solidity": 0.2
             }
            },
            "type": "barpolar"
           }
          ],
          "carpet": [
           {
            "aaxis": {
             "endlinecolor": "#2a3f5f",
             "gridcolor": "white",
             "linecolor": "white",
             "minorgridcolor": "white",
             "startlinecolor": "#2a3f5f"
            },
            "baxis": {
             "endlinecolor": "#2a3f5f",
             "gridcolor": "white",
             "linecolor": "white",
             "minorgridcolor": "white",
             "startlinecolor": "#2a3f5f"
            },
            "type": "carpet"
           }
          ],
          "choropleth": [
           {
            "colorbar": {
             "outlinewidth": 0,
             "ticks": ""
            },
            "type": "choropleth"
           }
          ],
          "contour": [
           {
            "colorbar": {
             "outlinewidth": 0,
             "ticks": ""
            },
            "colorscale": [
             [
              0,
              "#0d0887"
             ],
             [
              0.1111111111111111,
              "#46039f"
             ],
             [
              0.2222222222222222,
              "#7201a8"
             ],
             [
              0.3333333333333333,
              "#9c179e"
             ],
             [
              0.4444444444444444,
              "#bd3786"
             ],
             [
              0.5555555555555556,
              "#d8576b"
             ],
             [
              0.6666666666666666,
              "#ed7953"
             ],
             [
              0.7777777777777778,
              "#fb9f3a"
             ],
             [
              0.8888888888888888,
              "#fdca26"
             ],
             [
              1,
              "#f0f921"
             ]
            ],
            "type": "contour"
           }
          ],
          "contourcarpet": [
           {
            "colorbar": {
             "outlinewidth": 0,
             "ticks": ""
            },
            "type": "contourcarpet"
           }
          ],
          "heatmap": [
           {
            "colorbar": {
             "outlinewidth": 0,
             "ticks": ""
            },
            "colorscale": [
             [
              0,
              "#0d0887"
             ],
             [
              0.1111111111111111,
              "#46039f"
             ],
             [
              0.2222222222222222,
              "#7201a8"
             ],
             [
              0.3333333333333333,
              "#9c179e"
             ],
             [
              0.4444444444444444,
              "#bd3786"
             ],
             [
              0.5555555555555556,
              "#d8576b"
             ],
             [
              0.6666666666666666,
              "#ed7953"
             ],
             [
              0.7777777777777778,
              "#fb9f3a"
             ],
             [
              0.8888888888888888,
              "#fdca26"
             ],
             [
              1,
              "#f0f921"
             ]
            ],
            "type": "heatmap"
           }
          ],
          "heatmapgl": [
           {
            "colorbar": {
             "outlinewidth": 0,
             "ticks": ""
            },
            "colorscale": [
             [
              0,
              "#0d0887"
             ],
             [
              0.1111111111111111,
              "#46039f"
             ],
             [
              0.2222222222222222,
              "#7201a8"
             ],
             [
              0.3333333333333333,
              "#9c179e"
             ],
             [
              0.4444444444444444,
              "#bd3786"
             ],
             [
              0.5555555555555556,
              "#d8576b"
             ],
             [
              0.6666666666666666,
              "#ed7953"
             ],
             [
              0.7777777777777778,
              "#fb9f3a"
             ],
             [
              0.8888888888888888,
              "#fdca26"
             ],
             [
              1,
              "#f0f921"
             ]
            ],
            "type": "heatmapgl"
           }
          ],
          "histogram": [
           {
            "marker": {
             "pattern": {
              "fillmode": "overlay",
              "size": 10,
              "solidity": 0.2
             }
            },
            "type": "histogram"
           }
          ],
          "histogram2d": [
           {
            "colorbar": {
             "outlinewidth": 0,
             "ticks": ""
            },
            "colorscale": [
             [
              0,
              "#0d0887"
             ],
             [
              0.1111111111111111,
              "#46039f"
             ],
             [
              0.2222222222222222,
              "#7201a8"
             ],
             [
              0.3333333333333333,
              "#9c179e"
             ],
             [
              0.4444444444444444,
              "#bd3786"
             ],
             [
              0.5555555555555556,
              "#d8576b"
             ],
             [
              0.6666666666666666,
              "#ed7953"
             ],
             [
              0.7777777777777778,
              "#fb9f3a"
             ],
             [
              0.8888888888888888,
              "#fdca26"
             ],
             [
              1,
              "#f0f921"
             ]
            ],
            "type": "histogram2d"
           }
          ],
          "histogram2dcontour": [
           {
            "colorbar": {
             "outlinewidth": 0,
             "ticks": ""
            },
            "colorscale": [
             [
              0,
              "#0d0887"
             ],
             [
              0.1111111111111111,
              "#46039f"
             ],
             [
              0.2222222222222222,
              "#7201a8"
             ],
             [
              0.3333333333333333,
              "#9c179e"
             ],
             [
              0.4444444444444444,
              "#bd3786"
             ],
             [
              0.5555555555555556,
              "#d8576b"
             ],
             [
              0.6666666666666666,
              "#ed7953"
             ],
             [
              0.7777777777777778,
              "#fb9f3a"
             ],
             [
              0.8888888888888888,
              "#fdca26"
             ],
             [
              1,
              "#f0f921"
             ]
            ],
            "type": "histogram2dcontour"
           }
          ],
          "mesh3d": [
           {
            "colorbar": {
             "outlinewidth": 0,
             "ticks": ""
            },
            "type": "mesh3d"
           }
          ],
          "parcoords": [
           {
            "line": {
             "colorbar": {
              "outlinewidth": 0,
              "ticks": ""
             }
            },
            "type": "parcoords"
           }
          ],
          "pie": [
           {
            "automargin": true,
            "type": "pie"
           }
          ],
          "scatter": [
           {
            "fillpattern": {
             "fillmode": "overlay",
             "size": 10,
             "solidity": 0.2
            },
            "type": "scatter"
           }
          ],
          "scatter3d": [
           {
            "line": {
             "colorbar": {
              "outlinewidth": 0,
              "ticks": ""
             }
            },
            "marker": {
             "colorbar": {
              "outlinewidth": 0,
              "ticks": ""
             }
            },
            "type": "scatter3d"
           }
          ],
          "scattercarpet": [
           {
            "marker": {
             "colorbar": {
              "outlinewidth": 0,
              "ticks": ""
             }
            },
            "type": "scattercarpet"
           }
          ],
          "scattergeo": [
           {
            "marker": {
             "colorbar": {
              "outlinewidth": 0,
              "ticks": ""
             }
            },
            "type": "scattergeo"
           }
          ],
          "scattergl": [
           {
            "marker": {
             "colorbar": {
              "outlinewidth": 0,
              "ticks": ""
             }
            },
            "type": "scattergl"
           }
          ],
          "scattermapbox": [
           {
            "marker": {
             "colorbar": {
              "outlinewidth": 0,
              "ticks": ""
             }
            },
            "type": "scattermapbox"
           }
          ],
          "scatterpolar": [
           {
            "marker": {
             "colorbar": {
              "outlinewidth": 0,
              "ticks": ""
             }
            },
            "type": "scatterpolar"
           }
          ],
          "scatterpolargl": [
           {
            "marker": {
             "colorbar": {
              "outlinewidth": 0,
              "ticks": ""
             }
            },
            "type": "scatterpolargl"
           }
          ],
          "scatterternary": [
           {
            "marker": {
             "colorbar": {
              "outlinewidth": 0,
              "ticks": ""
             }
            },
            "type": "scatterternary"
           }
          ],
          "surface": [
           {
            "colorbar": {
             "outlinewidth": 0,
             "ticks": ""
            },
            "colorscale": [
             [
              0,
              "#0d0887"
             ],
             [
              0.1111111111111111,
              "#46039f"
             ],
             [
              0.2222222222222222,
              "#7201a8"
             ],
             [
              0.3333333333333333,
              "#9c179e"
             ],
             [
              0.4444444444444444,
              "#bd3786"
             ],
             [
              0.5555555555555556,
              "#d8576b"
             ],
             [
              0.6666666666666666,
              "#ed7953"
             ],
             [
              0.7777777777777778,
              "#fb9f3a"
             ],
             [
              0.8888888888888888,
              "#fdca26"
             ],
             [
              1,
              "#f0f921"
             ]
            ],
            "type": "surface"
           }
          ],
          "table": [
           {
            "cells": {
             "fill": {
              "color": "#EBF0F8"
             },
             "line": {
              "color": "white"
             }
            },
            "header": {
             "fill": {
              "color": "#C8D4E3"
             },
             "line": {
              "color": "white"
             }
            },
            "type": "table"
           }
          ]
         },
         "layout": {
          "annotationdefaults": {
           "arrowcolor": "#2a3f5f",
           "arrowhead": 0,
           "arrowwidth": 1
          },
          "autotypenumbers": "strict",
          "coloraxis": {
           "colorbar": {
            "outlinewidth": 0,
            "ticks": ""
           }
          },
          "colorscale": {
           "diverging": [
            [
             0,
             "#8e0152"
            ],
            [
             0.1,
             "#c51b7d"
            ],
            [
             0.2,
             "#de77ae"
            ],
            [
             0.3,
             "#f1b6da"
            ],
            [
             0.4,
             "#fde0ef"
            ],
            [
             0.5,
             "#f7f7f7"
            ],
            [
             0.6,
             "#e6f5d0"
            ],
            [
             0.7,
             "#b8e186"
            ],
            [
             0.8,
             "#7fbc41"
            ],
            [
             0.9,
             "#4d9221"
            ],
            [
             1,
             "#276419"
            ]
           ],
           "sequential": [
            [
             0,
             "#0d0887"
            ],
            [
             0.1111111111111111,
             "#46039f"
            ],
            [
             0.2222222222222222,
             "#7201a8"
            ],
            [
             0.3333333333333333,
             "#9c179e"
            ],
            [
             0.4444444444444444,
             "#bd3786"
            ],
            [
             0.5555555555555556,
             "#d8576b"
            ],
            [
             0.6666666666666666,
             "#ed7953"
            ],
            [
             0.7777777777777778,
             "#fb9f3a"
            ],
            [
             0.8888888888888888,
             "#fdca26"
            ],
            [
             1,
             "#f0f921"
            ]
           ],
           "sequentialminus": [
            [
             0,
             "#0d0887"
            ],
            [
             0.1111111111111111,
             "#46039f"
            ],
            [
             0.2222222222222222,
             "#7201a8"
            ],
            [
             0.3333333333333333,
             "#9c179e"
            ],
            [
             0.4444444444444444,
             "#bd3786"
            ],
            [
             0.5555555555555556,
             "#d8576b"
            ],
            [
             0.6666666666666666,
             "#ed7953"
            ],
            [
             0.7777777777777778,
             "#fb9f3a"
            ],
            [
             0.8888888888888888,
             "#fdca26"
            ],
            [
             1,
             "#f0f921"
            ]
           ]
          },
          "colorway": [
           "#636efa",
           "#EF553B",
           "#00cc96",
           "#ab63fa",
           "#FFA15A",
           "#19d3f3",
           "#FF6692",
           "#B6E880",
           "#FF97FF",
           "#FECB52"
          ],
          "font": {
           "color": "#2a3f5f"
          },
          "geo": {
           "bgcolor": "white",
           "lakecolor": "white",
           "landcolor": "#E5ECF6",
           "showlakes": true,
           "showland": true,
           "subunitcolor": "white"
          },
          "hoverlabel": {
           "align": "left"
          },
          "hovermode": "closest",
          "mapbox": {
           "style": "light"
          },
          "paper_bgcolor": "white",
          "plot_bgcolor": "#E5ECF6",
          "polar": {
           "angularaxis": {
            "gridcolor": "white",
            "linecolor": "white",
            "ticks": ""
           },
           "bgcolor": "#E5ECF6",
           "radialaxis": {
            "gridcolor": "white",
            "linecolor": "white",
            "ticks": ""
           }
          },
          "scene": {
           "xaxis": {
            "backgroundcolor": "#E5ECF6",
            "gridcolor": "white",
            "gridwidth": 2,
            "linecolor": "white",
            "showbackground": true,
            "ticks": "",
            "zerolinecolor": "white"
           },
           "yaxis": {
            "backgroundcolor": "#E5ECF6",
            "gridcolor": "white",
            "gridwidth": 2,
            "linecolor": "white",
            "showbackground": true,
            "ticks": "",
            "zerolinecolor": "white"
           },
           "zaxis": {
            "backgroundcolor": "#E5ECF6",
            "gridcolor": "white",
            "gridwidth": 2,
            "linecolor": "white",
            "showbackground": true,
            "ticks": "",
            "zerolinecolor": "white"
           }
          },
          "shapedefaults": {
           "line": {
            "color": "#2a3f5f"
           }
          },
          "ternary": {
           "aaxis": {
            "gridcolor": "white",
            "linecolor": "white",
            "ticks": ""
           },
           "baxis": {
            "gridcolor": "white",
            "linecolor": "white",
            "ticks": ""
           },
           "bgcolor": "#E5ECF6",
           "caxis": {
            "gridcolor": "white",
            "linecolor": "white",
            "ticks": ""
           }
          },
          "title": {
           "x": 0.05
          },
          "xaxis": {
           "automargin": true,
           "gridcolor": "white",
           "linecolor": "white",
           "ticks": "",
           "title": {
            "standoff": 15
           },
           "zerolinecolor": "white",
           "zerolinewidth": 2
          },
          "yaxis": {
           "automargin": true,
           "gridcolor": "white",
           "linecolor": "white",
           "ticks": "",
           "title": {
            "standoff": 15
           },
           "zerolinecolor": "white",
           "zerolinewidth": 2
          }
         }
        },
        "title": {
         "text": "Rate of Tumbling = exp(-1.16 +/- alpha*receptor)"
        },
        "yaxis": {
         "title": {
          "text": "Rate"
         }
        }
       }
      }
     },
     "metadata": {},
     "output_type": "display_data"
    }
   ],
   "source": [
    "# Create a plot of the alpha values and polynomial fit.\n",
    "\n",
    "x_values = curve_fit_df['deme']\n",
    "\n",
    "# create traces\n",
    "trace0 = go.Scatter(\n",
    "    x = x_values,\n",
    "    y = input_param_df['rate_tum_down'],\n",
    "    mode = 'lines',\n",
    "    name = 'Rate of tumbling going down gradient'\n",
    ")\n",
    "# The second trace\n",
    "trace1 = go.Scatter(\n",
    "    x = x_values,\n",
    "    y = input_param_df['rate_tum_up'],\n",
    "    mode = 'lines',\n",
    "    name = 'Rate of tumbling going up gradient'\n",
    ")\n",
    "# create the data\n",
    "data = [trace0, trace1]  # assign traces to data\n",
    "\n",
    "# create the layout\n",
    "layout = go.Layout(\n",
    "    title = \"Rate of Tumbling = exp(-1.16 +/- alpha*receptor)\",\n",
    "    yaxis = dict(title = 'Rate')\n",
    ")\n",
    "\n",
    "# crate the fig\n",
    "fig = go.Figure(data=data,layout=layout)\n",
    "fig.show()"
   ]
  },
  {
   "cell_type": "code",
   "execution_count": 7,
   "metadata": {},
   "outputs": [],
   "source": [
    "deme_param = input_param_df"
   ]
  },
  {
   "cell_type": "code",
   "execution_count": 8,
   "metadata": {},
   "outputs": [
    {
     "data": {
      "text/html": [
       "<div>\n",
       "<style scoped>\n",
       "    .dataframe tbody tr th:only-of-type {\n",
       "        vertical-align: middle;\n",
       "    }\n",
       "\n",
       "    .dataframe tbody tr th {\n",
       "        vertical-align: top;\n",
       "    }\n",
       "\n",
       "    .dataframe thead th {\n",
       "        text-align: right;\n",
       "    }\n",
       "</style>\n",
       "<table border=\"1\" class=\"dataframe\">\n",
       "  <thead>\n",
       "    <tr style=\"text-align: right;\">\n",
       "      <th></th>\n",
       "      <th>food_conc</th>\n",
       "      <th>drift_velocity</th>\n",
       "      <th>c_x_df_l_dc</th>\n",
       "      <th>attr_time_roc</th>\n",
       "      <th>Vo_max</th>\n",
       "      <th>Row Number</th>\n",
       "      <th>rate_tum_up</th>\n",
       "      <th>rate_tum_down</th>\n",
       "    </tr>\n",
       "  </thead>\n",
       "  <tbody>\n",
       "    <tr>\n",
       "      <th>0</th>\n",
       "      <td>0.211633</td>\n",
       "      <td>0.068255</td>\n",
       "      <td>0.022403</td>\n",
       "      <td>6.192934e-07</td>\n",
       "      <td>12.521185</td>\n",
       "      <td>1</td>\n",
       "      <td>0.310493</td>\n",
       "      <td>0.316508</td>\n",
       "    </tr>\n",
       "    <tr>\n",
       "      <th>1</th>\n",
       "      <td>0.239944</td>\n",
       "      <td>0.077261</td>\n",
       "      <td>0.025359</td>\n",
       "      <td>7.935055e-07</td>\n",
       "      <td>12.521185</td>\n",
       "      <td>2</td>\n",
       "      <td>0.310217</td>\n",
       "      <td>0.316790</td>\n",
       "    </tr>\n",
       "    <tr>\n",
       "      <th>2</th>\n",
       "      <td>0.272042</td>\n",
       "      <td>0.087437</td>\n",
       "      <td>0.028699</td>\n",
       "      <td>1.016293e-06</td>\n",
       "      <td>12.521185</td>\n",
       "      <td>3</td>\n",
       "      <td>0.309912</td>\n",
       "      <td>0.317102</td>\n",
       "    </tr>\n",
       "    <tr>\n",
       "      <th>3</th>\n",
       "      <td>0.308433</td>\n",
       "      <td>0.098930</td>\n",
       "      <td>0.032471</td>\n",
       "      <td>1.301007e-06</td>\n",
       "      <td>12.521185</td>\n",
       "      <td>4</td>\n",
       "      <td>0.309573</td>\n",
       "      <td>0.317449</td>\n",
       "    </tr>\n",
       "    <tr>\n",
       "      <th>4</th>\n",
       "      <td>0.349693</td>\n",
       "      <td>0.111902</td>\n",
       "      <td>0.036729</td>\n",
       "      <td>1.664580e-06</td>\n",
       "      <td>12.521185</td>\n",
       "      <td>5</td>\n",
       "      <td>0.309194</td>\n",
       "      <td>0.317838</td>\n",
       "    </tr>\n",
       "    <tr>\n",
       "      <th>...</th>\n",
       "      <td>...</td>\n",
       "      <td>...</td>\n",
       "      <td>...</td>\n",
       "      <td>...</td>\n",
       "      <td>...</td>\n",
       "      <td>...</td>\n",
       "      <td>...</td>\n",
       "      <td>...</td>\n",
       "    </tr>\n",
       "    <tr>\n",
       "      <th>96</th>\n",
       "      <td>36311.865539</td>\n",
       "      <td>2.899142</td>\n",
       "      <td>0.951569</td>\n",
       "      <td>1.117287e-03</td>\n",
       "      <td>12.521185</td>\n",
       "      <td>97</td>\n",
       "      <td>0.234488</td>\n",
       "      <td>0.419098</td>\n",
       "    </tr>\n",
       "    <tr>\n",
       "      <th>97</th>\n",
       "      <td>41169.371192</td>\n",
       "      <td>3.142615</td>\n",
       "      <td>1.031483</td>\n",
       "      <td>1.312829e-03</td>\n",
       "      <td>12.521185</td>\n",
       "      <td>98</td>\n",
       "      <td>0.228943</td>\n",
       "      <td>0.429250</td>\n",
       "    </tr>\n",
       "    <tr>\n",
       "      <th>98</th>\n",
       "      <td>46676.674393</td>\n",
       "      <td>3.396942</td>\n",
       "      <td>1.114959</td>\n",
       "      <td>1.533917e-03</td>\n",
       "      <td>12.521185</td>\n",
       "      <td>99</td>\n",
       "      <td>0.222055</td>\n",
       "      <td>0.442565</td>\n",
       "    </tr>\n",
       "    <tr>\n",
       "      <th>99</th>\n",
       "      <td>52920.699764</td>\n",
       "      <td>3.659878</td>\n",
       "      <td>1.201261</td>\n",
       "      <td>1.780570e-03</td>\n",
       "      <td>12.521185</td>\n",
       "      <td>100</td>\n",
       "      <td>0.214012</td>\n",
       "      <td>0.459196</td>\n",
       "    </tr>\n",
       "    <tr>\n",
       "      <th>100</th>\n",
       "      <td>60000.000000</td>\n",
       "      <td>3.928758</td>\n",
       "      <td>1.289514</td>\n",
       "      <td>2.051807e-03</td>\n",
       "      <td>12.521185</td>\n",
       "      <td>101</td>\n",
       "      <td>0.205768</td>\n",
       "      <td>0.477594</td>\n",
       "    </tr>\n",
       "  </tbody>\n",
       "</table>\n",
       "<p>101 rows × 8 columns</p>\n",
       "</div>"
      ],
      "text/plain": [
       "        food_conc  drift_velocity  c_x_df_l_dc  attr_time_roc     Vo_max  \\\n",
       "0        0.211633        0.068255     0.022403   6.192934e-07  12.521185   \n",
       "1        0.239944        0.077261     0.025359   7.935055e-07  12.521185   \n",
       "2        0.272042        0.087437     0.028699   1.016293e-06  12.521185   \n",
       "3        0.308433        0.098930     0.032471   1.301007e-06  12.521185   \n",
       "4        0.349693        0.111902     0.036729   1.664580e-06  12.521185   \n",
       "..            ...             ...          ...            ...        ...   \n",
       "96   36311.865539        2.899142     0.951569   1.117287e-03  12.521185   \n",
       "97   41169.371192        3.142615     1.031483   1.312829e-03  12.521185   \n",
       "98   46676.674393        3.396942     1.114959   1.533917e-03  12.521185   \n",
       "99   52920.699764        3.659878     1.201261   1.780570e-03  12.521185   \n",
       "100  60000.000000        3.928758     1.289514   2.051807e-03  12.521185   \n",
       "\n",
       "     Row Number  rate_tum_up  rate_tum_down  \n",
       "0             1     0.310493       0.316508  \n",
       "1             2     0.310217       0.316790  \n",
       "2             3     0.309912       0.317102  \n",
       "3             4     0.309573       0.317449  \n",
       "4             5     0.309194       0.317838  \n",
       "..          ...          ...            ...  \n",
       "96           97     0.234488       0.419098  \n",
       "97           98     0.228943       0.429250  \n",
       "98           99     0.222055       0.442565  \n",
       "99          100     0.214012       0.459196  \n",
       "100         101     0.205768       0.477594  \n",
       "\n",
       "[101 rows x 8 columns]"
      ]
     },
     "execution_count": 8,
     "metadata": {},
     "output_type": "execute_result"
    }
   ],
   "source": [
    "deme_param"
   ]
  },
  {
   "cell_type": "markdown",
   "metadata": {},
   "source": [
    "Algorithm for Bias Random Walk\n",
    "\n",
    "Definition:\n",
    "Vo is the run speed of the ecoli, which is assumed to be constant\n",
    "t_up is the mean time for ecoli for moving up a food gradient\n",
    "t_down is the mean time for ecoli for moving down a food gradient\n",
    " \n",
    "The drift speed is: vd = vo . del_t = vo . (t_up - t_down1)\n",
    "which is the dot product between the run speed and the difference in time moving up and down the gradient.\n",
    "\n",
    "Now for the Allen algorithm, the average migration time is related to the basic diffusion coefficient: D = (L^2)/(2*del_t),\n",
    "\n",
    "where L is the separation between demes, and del_t = (L^2)/(2*D).\n",
    "\n",
    "To introduce an upstream drift velocity, we introduce a fractional bias, 0 < f < 1.\n",
    "\n",
    "The drift velocity must equal: vd = [L*f - L*(1 - f)]/del_t\n",
    "\n",
    "Solving we get a fractional bias of:\n",
    "    f = (vd * del_t)/2L + 1/2\n"
   ]
  },
  {
   "cell_type": "code",
   "execution_count": 9,
   "metadata": {},
   "outputs": [
    {
     "name": "stdout",
     "output_type": "stream",
     "text": [
      "\n",
      "deme                 48.000000\n",
      "food_conc            77.319782\n",
      "drift_velocity        4.135121\n",
      "rel_prob_tum_up       0.239435\n",
      "rel_prob_tum_down     0.760565\n",
      "tum_diff              0.382826\n",
      "rel_prob_tum_diff     0.521129\n",
      "Name: 47, dtype: float64\n",
      "\n",
      "deme                 1.000000\n",
      "food_conc            0.211633\n",
      "drift_velocity       0.068255\n",
      "rel_prob_tum_up      0.495203\n",
      "rel_prob_tum_down    0.504797\n",
      "tum_diff             0.006015\n",
      "rel_prob_tum_diff    0.009594\n",
      "Name: 0, dtype: float64\n"
     ]
    },
    {
     "data": {
      "text/html": [
       "<div>\n",
       "<style scoped>\n",
       "    .dataframe tbody tr th:only-of-type {\n",
       "        vertical-align: middle;\n",
       "    }\n",
       "\n",
       "    .dataframe tbody tr th {\n",
       "        vertical-align: top;\n",
       "    }\n",
       "\n",
       "    .dataframe thead th {\n",
       "        text-align: right;\n",
       "    }\n",
       "</style>\n",
       "<table border=\"1\" class=\"dataframe\">\n",
       "  <thead>\n",
       "    <tr style=\"text-align: right;\">\n",
       "      <th></th>\n",
       "      <th>deme</th>\n",
       "      <th>food_conc</th>\n",
       "      <th>drift_velocity</th>\n",
       "      <th>rel_prob_tum_up</th>\n",
       "      <th>rel_prob_tum_down</th>\n",
       "      <th>tum_diff</th>\n",
       "      <th>rel_prob_tum_diff</th>\n",
       "    </tr>\n",
       "  </thead>\n",
       "  <tbody>\n",
       "    <tr>\n",
       "      <th>0</th>\n",
       "      <td>1</td>\n",
       "      <td>0.211633</td>\n",
       "      <td>0.068255</td>\n",
       "      <td>0.495203</td>\n",
       "      <td>0.504797</td>\n",
       "      <td>0.006015</td>\n",
       "      <td>0.009594</td>\n",
       "    </tr>\n",
       "    <tr>\n",
       "      <th>1</th>\n",
       "      <td>2</td>\n",
       "      <td>0.239944</td>\n",
       "      <td>0.077261</td>\n",
       "      <td>0.494759</td>\n",
       "      <td>0.505241</td>\n",
       "      <td>0.006573</td>\n",
       "      <td>0.010483</td>\n",
       "    </tr>\n",
       "    <tr>\n",
       "      <th>2</th>\n",
       "      <td>3</td>\n",
       "      <td>0.272042</td>\n",
       "      <td>0.087437</td>\n",
       "      <td>0.494267</td>\n",
       "      <td>0.505733</td>\n",
       "      <td>0.007190</td>\n",
       "      <td>0.011467</td>\n",
       "    </tr>\n",
       "    <tr>\n",
       "      <th>3</th>\n",
       "      <td>4</td>\n",
       "      <td>0.308433</td>\n",
       "      <td>0.098930</td>\n",
       "      <td>0.493719</td>\n",
       "      <td>0.506281</td>\n",
       "      <td>0.007876</td>\n",
       "      <td>0.012561</td>\n",
       "    </tr>\n",
       "    <tr>\n",
       "      <th>4</th>\n",
       "      <td>5</td>\n",
       "      <td>0.349693</td>\n",
       "      <td>0.111902</td>\n",
       "      <td>0.493107</td>\n",
       "      <td>0.506893</td>\n",
       "      <td>0.008644</td>\n",
       "      <td>0.013785</td>\n",
       "    </tr>\n",
       "    <tr>\n",
       "      <th>...</th>\n",
       "      <td>...</td>\n",
       "      <td>...</td>\n",
       "      <td>...</td>\n",
       "      <td>...</td>\n",
       "      <td>...</td>\n",
       "      <td>...</td>\n",
       "      <td>...</td>\n",
       "    </tr>\n",
       "    <tr>\n",
       "      <th>96</th>\n",
       "      <td>97</td>\n",
       "      <td>36311.865539</td>\n",
       "      <td>2.899142</td>\n",
       "      <td>0.358772</td>\n",
       "      <td>0.641228</td>\n",
       "      <td>0.184609</td>\n",
       "      <td>0.282456</td>\n",
       "    </tr>\n",
       "    <tr>\n",
       "      <th>97</th>\n",
       "      <td>98</td>\n",
       "      <td>41169.371192</td>\n",
       "      <td>3.142615</td>\n",
       "      <td>0.347835</td>\n",
       "      <td>0.652165</td>\n",
       "      <td>0.200307</td>\n",
       "      <td>0.304329</td>\n",
       "    </tr>\n",
       "    <tr>\n",
       "      <th>98</th>\n",
       "      <td>99</td>\n",
       "      <td>46676.674393</td>\n",
       "      <td>3.396942</td>\n",
       "      <td>0.334108</td>\n",
       "      <td>0.665892</td>\n",
       "      <td>0.220511</td>\n",
       "      <td>0.331785</td>\n",
       "    </tr>\n",
       "    <tr>\n",
       "      <th>99</th>\n",
       "      <td>100</td>\n",
       "      <td>52920.699764</td>\n",
       "      <td>3.659878</td>\n",
       "      <td>0.317899</td>\n",
       "      <td>0.682101</td>\n",
       "      <td>0.245184</td>\n",
       "      <td>0.364203</td>\n",
       "    </tr>\n",
       "    <tr>\n",
       "      <th>100</th>\n",
       "      <td>101</td>\n",
       "      <td>60000.000000</td>\n",
       "      <td>3.928758</td>\n",
       "      <td>0.301111</td>\n",
       "      <td>0.698889</td>\n",
       "      <td>0.271826</td>\n",
       "      <td>0.397777</td>\n",
       "    </tr>\n",
       "  </tbody>\n",
       "</table>\n",
       "<p>101 rows × 7 columns</p>\n",
       "</div>"
      ],
      "text/plain": [
       "     deme     food_conc  drift_velocity  rel_prob_tum_up  rel_prob_tum_down  \\\n",
       "0       1      0.211633        0.068255         0.495203           0.504797   \n",
       "1       2      0.239944        0.077261         0.494759           0.505241   \n",
       "2       3      0.272042        0.087437         0.494267           0.505733   \n",
       "3       4      0.308433        0.098930         0.493719           0.506281   \n",
       "4       5      0.349693        0.111902         0.493107           0.506893   \n",
       "..    ...           ...             ...              ...                ...   \n",
       "96     97  36311.865539        2.899142         0.358772           0.641228   \n",
       "97     98  41169.371192        3.142615         0.347835           0.652165   \n",
       "98     99  46676.674393        3.396942         0.334108           0.665892   \n",
       "99    100  52920.699764        3.659878         0.317899           0.682101   \n",
       "100   101  60000.000000        3.928758         0.301111           0.698889   \n",
       "\n",
       "     tum_diff  rel_prob_tum_diff  \n",
       "0    0.006015           0.009594  \n",
       "1    0.006573           0.010483  \n",
       "2    0.007190           0.011467  \n",
       "3    0.007876           0.012561  \n",
       "4    0.008644           0.013785  \n",
       "..        ...                ...  \n",
       "96   0.184609           0.282456  \n",
       "97   0.200307           0.304329  \n",
       "98   0.220511           0.331785  \n",
       "99   0.245184           0.364203  \n",
       "100  0.271826           0.397777  \n",
       "\n",
       "[101 rows x 7 columns]"
      ]
     },
     "execution_count": 9,
     "metadata": {},
     "output_type": "execute_result"
    }
   ],
   "source": [
    "# Calculating the probability of one particle travelling between demes using the tumble probability\n",
    "\n",
    "# Factors:\n",
    "\n",
    "# Deme Length\n",
    "# Deme Surface Area\n",
    "D = 112 # Diffusion in microns^2/s\n",
    "deme_length = 310 # microns\n",
    "d2 = np.square(deme_length)\n",
    "\n",
    "# The size of the channel between the two demes.\n",
    "l = 0.1*d2\n",
    "\n",
    "# Population with Carrying Capacity\n",
    "ph = np.random.default_rng()\n",
    "p = ph.random() # population with carrying capacity factor represented by random percentage.\n",
    "\n",
    "# Tumble Probability within timeframe dt = 0.1s.\n",
    "\n",
    "# The relative probability of tumbling going up the gradient will help determine direction of tumbling.\n",
    "# relative_prob_tum_up < relative_prob_tum_down\n",
    "rel_prob_tum_up = ( deme_param['rate_tum_up'] )/( deme_param['rate_tum_down'] + deme_param['rate_tum_up'] )\n",
    "rel_prob_tum_down = ( deme_param['rate_tum_down'] )/( deme_param['rate_tum_down'] + deme_param['rate_tum_up'] )\n",
    "tum_diff = np.abs(deme_param['rate_tum_down'] - deme_param['rate_tum_up'])\n",
    "rel_tum_diff = ( np.abs(deme_param['rate_tum_down'] - deme_param['rate_tum_up']) )/( deme_param['rate_tum_down'] + deme_param['rate_tum_up'] )\n",
    "del_p = deme_param['rate_tum_down'] - deme_param['rate_tum_up'] # difference in tumbling series\n",
    "\n",
    "# Make a table to compare theoretical drift velocity the the percent differences between tumbling going up and down gradient.\n",
    "mig_rate_df = pd.DataFrame()\n",
    "mig_rate_df[[\"deme\", \"food_conc\", \"drift_velocity\"]] = deme_param[[\"Row Number\", \"food_conc\", \"drift_velocity\"]]\n",
    "mig_rate_df[\"rel_prob_tum_up\"] = rel_prob_tum_up\n",
    "mig_rate_df[\"rel_prob_tum_down\"] = rel_prob_tum_down\n",
    "mig_rate_df[\"tum_diff\"] = tum_diff\n",
    "mig_rate_df[\"rel_prob_tum_diff\"] = rel_tum_diff\n",
    "# Find the positions of the fastest and slowest drift velocities.\n",
    "print(f\"\\n{mig_rate_df.loc[mig_rate_df.rel_prob_tum_diff.idxmax(), :]}\")\n",
    "print(f\"\\n{mig_rate_df.loc[mig_rate_df.rel_prob_tum_diff.idxmin(), :]}\")\n",
    "mig_rate_df"
   ]
  },
  {
   "cell_type": "code",
   "execution_count": 10,
   "metadata": {},
   "outputs": [
    {
     "name": "stdout",
     "output_type": "stream",
     "text": [
      "\n",
      "deme                 50.000000\n",
      "food_conc            99.389835\n",
      "drift_velocity        4.159555\n",
      "rel_prob_tum_up       0.242448\n",
      "rel_prob_tum_down     0.757552\n",
      "tum_diff              0.376788\n",
      "rel_prob_tum_diff     0.515104\n",
      "Name: 49, dtype: float64\n"
     ]
    },
    {
     "data": {
      "text/plain": [
       "4.15955452031555"
      ]
     },
     "execution_count": 10,
     "metadata": {},
     "output_type": "execute_result"
    }
   ],
   "source": [
    "maxVindex = mig_rate_df.drift_velocity.idxmax()\n",
    "maxV = mig_rate_df.loc[maxVindex, \"drift_velocity\"]\n",
    "print(f\"\\n{mig_rate_df.loc[mig_rate_df.drift_velocity.idxmax(), :]}\")\n",
    "maxV"
   ]
  },
  {
   "cell_type": "markdown",
   "metadata": {},
   "source": [
    "dN/dt = D(d^2N/dx^2) + Vd(dN/dx)"
   ]
  },
  {
   "cell_type": "code",
   "execution_count": 11,
   "metadata": {},
   "outputs": [
    {
     "name": "stdout",
     "output_type": "stream",
     "text": [
      "0.0011654526534859522\n",
      "0.0799165499228218\n"
     ]
    }
   ],
   "source": [
    "print(D/d2)\n",
    "D/d2 + maxV/deme_length\n",
    "print((D/d2)/(D/d2 + maxV/deme_length))"
   ]
  },
  {
   "cell_type": "markdown",
   "metadata": {},
   "source": [
    "- Save tumble rate per position for bacterial boundary.\n",
    "- Use boundary tumble rates to calculate diffusion rates for use in Gillespie.\n",
    "- Use rate calculated above for inter deme migration."
   ]
  },
  {
   "cell_type": "code",
   "execution_count": 12,
   "metadata": {},
   "outputs": [],
   "source": [
    "# Tumble rate per position for bacterial boundary\n",
    "    # If this is a population boundary region mark it on the matrix as 1.\n",
    "        # Bac_Bou_Mtx(i,1) = BacBound\n",
    "    # This is the time elapsed for that boundary.\n",
    "        # Bac_Bou_Mtx(i,2) = tum_dt\n",
    "    # The rate of tumbling up and down\n",
    "        # Pr_t_up(i) = exp(-lnr - alpha(i)*Rtroc(i))\n",
    "        # Pr_t_down(i) = exp(-lnr + alpha(i)*Rtroc(i))\n",
    "    # r_bound = BacBound*Pr_t(i), (if BacBound = 1, and for Pr_t_up(i) or Pr_t_down(i))\n",
    "        # If r_bound selected:\n",
    "            # Prob_select = softmax(Pr_t(i))\n",
    "    # While the tumble bias due to the attractant gradient is maintained, the bacteria will run at a reduced speed.\n",
    "    # Total Rate = N_bac*Pr_t(i), (because the tumble rate will remain the same, (just change the run speed for species of bacteria))\n",
    "\n",
    "# Migration Rate between demes\n",
    "    # Right: D/(dx^2) + (vd/dx)\n",
    "    # Left: D/(dx^2)\n",
    "    # Find migration rate per deme:\n",
    "        # i = 1, find N_bac_right*[D/(dx^2) + (vd_bac/dx)], (vd_bac is run speed for that particular bacteria affected by antibiotics)\n",
    "        # i = N, find N_bac_left*[D/dx^2]\n",
    "        # 1 < i < N, find N_bac_right*[D/(dx^2) + (vd_bac/dx)] + N_bac_left*[D/dx^2]\n",
    "        # N_bac_right = "
   ]
  },
  {
   "cell_type": "markdown",
   "metadata": {},
   "source": [
    "Possible Swarm Solution"
   ]
  },
  {
   "cell_type": "code",
   "execution_count": 13,
   "metadata": {},
   "outputs": [],
   "source": [
    "# Possible Swarm Solution:\n",
    "# Population of Bacteria according to Allen: 1 -> 9*10^9 cells/mL = (1 -> 9*10^9 cells)/(10^12 µm^3) = 0.001 -> 0.009 cells/µm^3\n",
    "# The model uses around 6000 cells/deme,\n",
    "# For 0.001 cells/µm^3, density = 0.001*310 = 0.31 cells/µm^2 = 31 cells/100 µm^2\n",
    "\n",
    "\n",
    "# Density is proportional to population facter: den(N) = (1 + 31*(N/CC))\n",
    "# Now tumble rate can be proportional to the density:\n",
    "# Based on the figure, make an arctan increase proportional to population density, Vd(N) = B(N)*Vd = [(b/2)(tanh(den(N)/mxD - p) + 1) + 1]*Vd, \n",
    "    # \"b\" is the increase to the drift factor for the bacteria.  In this case \"b\" = 0.8.\n",
    "        # proportional constant is b = (0.6*Vo)/Vd.\n",
    "    # den is the density.\n",
    "    # - p is the position whereby tanh(x) ~ 0.999, p = 3.8 shifts the equation right so that [(b/2)(tanh(den(N)/mxD - p) + 1) + 1] ~ b.\n",
    "    # mxD is the 100*surface area per cell whereby the function equals B(N_max)*Vd at den = 31 cells/100 µm^2, mxD ~ 5.18  (100 µm^2/cells)."
   ]
  },
  {
   "cell_type": "code",
   "execution_count": null,
   "metadata": {},
   "outputs": [],
   "source": [
    "# Rework of above function using Sigmoid\n",
    "# Density is proportional to population facter: den(N) = (1 + 31*(N/CC))\n",
    "# Now tumble rate can be proportional to the density:\n",
    "# Based on the figure, make an arctan increase proportional to population density, Vd(N) = B(N)*Vd = [b/(1 + exp(-(den(N)/mxD - p))) + 1]*Vd, \n",
    "    # \"b\" is the increase to the drift factor for the bacteria.  In this case \"b\" = 0.8.\n",
    "        # proportional constant is b = (0.6*Vo)/Vd.\n",
    "    # den is the density.\n",
    "    # - p is the position whereby tanh(x) ~ 0.999, p = 3.8 shifts the equation right so that [b/(1 + exp(-(den(N)/mxD - p))) + 1] ~ b.\n",
    "    # mxD is the 100*surface area per cell whereby the function equals B(N_max)*Vd at den = 31 cells/100 µm^2, mxD ~ 5.18  (100 µm^2/cells)."
   ]
  },
  {
   "cell_type": "markdown",
   "metadata": {},
   "source": [
    "Change in Drift Velocity Proportional to Drift Index"
   ]
  },
  {
   "attachments": {
    "image.png": {
     "image/png": "[encoded data removed]"
    }
   },
   "cell_type": "markdown",
   "metadata": {},
   "source": [
    "![image.png](attachment:image.png)"
   ]
  },
  {
   "cell_type": "markdown",
   "metadata": {},
   "source": [
    "Tumble Rate Difference Proportional to Drift Index"
   ]
  },
  {
   "attachments": {
    "image.png": {
     "image/png": "[encoded data removed]"
    }
   },
   "cell_type": "markdown",
   "metadata": {},
   "source": [
    "![image.png](attachment:image.png)"
   ]
  },
  {
   "cell_type": "code",
   "execution_count": 10,
   "metadata": {},
   "outputs": [
    {
     "name": "stdout",
     "output_type": "stream",
     "text": [
      "0.6209859993779216\n",
      "-0.6330164332388039\n"
     ]
    }
   ],
   "source": [
    "from math import cos\n",
    "# Integrate the tumble rates to figure out run-to-tumble times.\n",
    "def integrand(x, a):\n",
    "    return a*cos(x)\n",
    "\n",
    "for i in deme_param.index.values:\n",
    "#     print(deme_param.loc[i, \"rate_tum_up\"])\n",
    "#     print(deme_param.loc[i, \"rate_tum_down\"])\n",
    "    a = deme_param.loc[i, \"rate_tum_up\"]\n",
    "    I = sp.integrate.quad(integrand, -(np.pi)/2, (np.pi)/2, args=a)\n",
    "    print(I[0])\n",
    "    a = deme_param.loc[i, \"rate_tum_down\"]\n",
    "    I = sp.integrate.quad(integrand, (np.pi)/2, (3*(np.pi))/2, args=a)\n",
    "    print(I[0])\n",
    "    break\n",
    "\n",
    "# deme_param[\"integrate_tum_up\"] = deme_param.apply(lambda x: x[\"rate_tum_up\"], axis=\"columns\")\n",
    "# deme_param"
   ]
  },
  {
   "cell_type": "markdown",
   "metadata": {},
   "source": [
    "### R and T ML Model"
   ]
  },
  {
   "attachments": {
    "image.png": {
     "image/png": "[encoded data removed]"
    }
   },
   "cell_type": "markdown",
   "metadata": {},
   "source": [
    "![image.png](attachment:image.png)"
   ]
  },
  {
   "cell_type": "code",
   "execution_count": 12,
   "metadata": {},
   "outputs": [],
   "source": [
    "mig_rate_df.to_csv(\"mig_rate_df.csv\")"
   ]
  }
 ],
 "metadata": {
  "kernelspec": {
   "display_name": "base",
   "language": "python",
   "name": "python3"
  },
  "language_info": {
   "codemirror_mode": {
    "name": "ipython",
    "version": 3
   },
   "file_extension": ".py",
   "mimetype": "text/x-python",
   "name": "python",
   "nbconvert_exporter": "python",
   "pygments_lexer": "ipython3",
   "version": "3.9.13"
  },
  "orig_nbformat": 4
 },
 "nbformat": 4,
 "nbformat_minor": 2
}
